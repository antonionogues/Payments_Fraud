{
 "cells": [
  {
   "cell_type": "markdown",
   "id": "ec7f66da",
   "metadata": {},
   "source": [
    "<a name=\"top\"> <h1>00. EDA</h1> <a>\n",
    "\n",
    "<p>Payments Fraud Practice<br />\n",
    "<strong>Aprendizaje Autom&aacute;tico</strong><br />\n",
    "<strong>Master Universitario en Ciencia de Datos</strong></p>\n",
    "\n",
    "<p>&nbsp;</p>\n",
    "\n",
    "<p style=\"text-align:right\">Antonio Nogués Podadera (<em>antonio.nogues@cunef.edu</em>)</p>\n",
    "<p style=\"text-align:right\">V&iacute;ctor Viloria V&aacute;zquez (<em>victor.viloria@cunef.edu</em>)</p>\n"
   ]
  },
  {
   "cell_type": "markdown",
   "id": "1787f366",
   "metadata": {},
   "source": [
    "<hr style=\"border:1px solid gray\">"
   ]
  },
  {
   "cell_type": "markdown",
   "id": "cc061464",
   "metadata": {},
   "source": [
    "### Estructura"
   ]
  },
  {
   "cell_type": "markdown",
   "id": "277c1310",
   "metadata": {},
   "source": [
    "[0. Introducción](#introduccion) \n",
    "\n",
    "   - Objetivo de negocio\n",
    "\n",
    "[1. Librerias utlizadas y entorno](#librerias) \n",
    "\n",
    "   - Importación de librerias.\n",
    "   - Importación de funciones.\n",
    "\n",
    "[2. Tratamiento de datos](#tratamiento) \n",
    "\n",
    "   - Importación de datos\n",
    "   - Análisis de tipos de datos\n",
    "   - Diccionario de datos\n",
    "   - Variable Objetivos\n",
    "\n",
    "\n",
    "[3. Análisis EDA](#analisis) \n",
    "\n",
    "   - Nombramiento de datos y aspéctos éticos \n",
    "   - Análisis de valores duplicados\n",
    "   - Análisis de valores nulos\n",
    "   - Análisis de variables categóricas y numéricas\n",
    "   - Análisis de Outliers\n",
    "\n",
    "\n",
    "[4. Exportación del dataset transformado](#exportacion)"
   ]
  },
  {
   "cell_type": "markdown",
   "id": "a5bd3333",
   "metadata": {},
   "source": [
    "<hr style=\"border:1px solid gray\">"
   ]
  },
  {
   "cell_type": "markdown",
   "id": "d439a815",
   "metadata": {},
   "source": [
    "# <a name=\"introduccion\"> 0. Introducción <a> "
   ]
  },
  {
   "cell_type": "markdown",
   "id": "5524e927",
   "metadata": {},
   "source": [
    "La finalidad de esta práctica es la realización de una análisis exploratorio y realizar pruebas con diferentes modelos  de datos para el **dataset _\"Payments_fraud\"_**, con el objetivo de lograr un mayor entendimiento de los datos y posteriormente realizar un tratamiento y estimación de los diferentes modelos.\n",
    "\n",
    "La prueba de diferentes modelos nos permitirá ver las diferencias que existen entre ellos y poder quedarnos con el que nos conceda un mejor resultado\n",
    "\n",
    "**En este notebook unicamente se explicará el objetivo de negocio y se realizará un análisis descriptivo de los datos.**"
   ]
  },
  {
   "cell_type": "markdown",
   "id": "f43e58cb",
   "metadata": {},
   "source": [
    "## 0.1 Objetivo de negocio"
   ]
  },
  {
   "cell_type": "markdown",
   "id": "6aa4ccb6",
   "metadata": {},
   "source": [
    "Desde el punto de vista de una empresa de pagos, deberemos mediante el dataset `Copia de Original_dataset_payments_fraud.csv` **predecir la posibilidad de que exista fraude en cada una de las transacciones realizadas**."
   ]
  },
  {
   "cell_type": "markdown",
   "id": "9e6887eb",
   "metadata": {},
   "source": [
    "<hr style=\"border:1px solid gray\">"
   ]
  },
  {
   "cell_type": "markdown",
   "id": "8cffbbb4",
   "metadata": {},
   "source": [
    "# <a name=\"librerias\"> 1. Librerias utilizadas y entorno. <a>\n"
   ]
  },
  {
   "cell_type": "markdown",
   "id": "08ee3133",
   "metadata": {},
   "source": [
    " Cargamos las librerias a utilizar:"
   ]
  },
  {
   "cell_type": "code",
   "execution_count": 1,
   "id": "fd7a3dea",
   "metadata": {},
   "outputs": [],
   "source": [
    "# Library import: \n",
    "import warnings\n",
    "warnings.filterwarnings(\"ignore\")\n",
    "import pandas as pd\n",
    "import numpy as np\n",
    "import math\n",
    "import matplotlib.pyplot as plt\n",
    "import plotly.express as px\n",
    "import seaborn as sns\n",
    "from sklearn.model_selection import train_test_split \n",
    "import sys\n",
    "import category_encoders as ce\n"
   ]
  },
  {
   "cell_type": "markdown",
   "id": "9119bf25",
   "metadata": {},
   "source": [
    "Para la realización de esta práctica, se ha utilizado un entorno específico para la asignatura de Aprendizaje Automático: 'machin_learning'."
   ]
  },
  {
   "cell_type": "code",
   "execution_count": 2,
   "id": "cbc32a79",
   "metadata": {},
   "outputs": [
    {
     "name": "stdout",
     "output_type": "stream",
     "text": [
      "\n",
      "     active environment : machine_learning\n",
      "    active env location : C:\\Users\\vvict\\anaconda3\\envs\\machine_learning\n",
      "            shell level : 2\n",
      "       user config file : C:\\Users\\vvict\\.condarc\n",
      " populated config files : C:\\Users\\vvict\\.condarc\n",
      "          conda version : 22.9.0\n",
      "    conda-build version : 3.21.8\n",
      "         python version : 3.9.12.final.0\n",
      "       virtual packages : __cuda=11.1=0\n",
      "                          __win=0=0\n",
      "                          __archspec=1=x86_64\n",
      "       base environment : C:\\Users\\vvict\\anaconda3  (writable)\n",
      "      conda av data dir : C:\\Users\\vvict\\anaconda3\\etc\\conda\n",
      "  conda av metadata url : None\n",
      "           channel URLs : https://repo.anaconda.com/pkgs/main/win-64\n",
      "                          https://repo.anaconda.com/pkgs/main/noarch\n",
      "                          https://repo.anaconda.com/pkgs/r/win-64\n",
      "                          https://repo.anaconda.com/pkgs/r/noarch\n",
      "                          https://repo.anaconda.com/pkgs/msys2/win-64\n",
      "                          https://repo.anaconda.com/pkgs/msys2/noarch\n",
      "          package cache : C:\\Users\\vvict\\anaconda3\\pkgs\n",
      "                          C:\\Users\\vvict\\.conda\\pkgs\n",
      "                          C:\\Users\\vvict\\AppData\\Local\\conda\\conda\\pkgs\n",
      "       envs directories : C:\\Users\\vvict\\anaconda3\\envs\n",
      "                          C:\\Users\\vvict\\.conda\\envs\n",
      "                          C:\\Users\\vvict\\AppData\\Local\\conda\\conda\\envs\n",
      "               platform : win-64\n",
      "             user-agent : conda/22.9.0 requests/2.27.1 CPython/3.9.12 Windows/10 Windows/10.0.19044\n",
      "          administrator : False\n",
      "             netrc file : None\n",
      "           offline mode : False\n",
      "\n"
     ]
    }
   ],
   "source": [
    "# Verification of the environment: machine_learning\n",
    "! conda info"
   ]
  },
  {
   "cell_type": "markdown",
   "id": "90916e31",
   "metadata": {},
   "source": [
    "## 1.1. Importación de funciones"
   ]
  },
  {
   "cell_type": "markdown",
   "id": "1b88c653",
   "metadata": {},
   "source": [
    "Importamos las funciones que vamos a utilizar durante el EDA."
   ]
  },
  {
   "cell_type": "code",
   "execution_count": 3,
   "id": "617f6fb3",
   "metadata": {},
   "outputs": [],
   "source": [
    "from aux_functions import *"
   ]
  },
  {
   "cell_type": "markdown",
   "id": "bb587c93",
   "metadata": {},
   "source": [
    "# <a name=\"tratamiento\"> 2. Tratamiento de datos <a>"
   ]
  },
  {
   "cell_type": "markdown",
   "id": "b36b9366",
   "metadata": {},
   "source": [
    "## 2.1. Importación de datos"
   ]
  },
  {
   "cell_type": "markdown",
   "id": "4ba951d3",
   "metadata": {},
   "source": [
    "Para comenzar con el tratamiento de los datos vamos a proceder a **cargar el dataset** del archivo `Copia de Original_dataset_payments_fraud.csv` utilizando 'pandas' "
   ]
  },
  {
   "cell_type": "code",
   "execution_count": 4,
   "id": "a09b369e",
   "metadata": {},
   "outputs": [],
   "source": [
    "# Selection of the relative path where the .csv is found. Converted into a pandas df called 'payments_df'\n",
    "\n",
    "payments_df = pd.read_csv('../data/raw/Copia_de_Original_dataset_payments_fraud.csv', sep=';')"
   ]
  },
  {
   "cell_type": "markdown",
   "id": "5d577f4b",
   "metadata": {},
   "source": [
    "Comprobamos el nº de filas y de columnas del dataset:"
   ]
  },
  {
   "cell_type": "code",
   "execution_count": 6,
   "id": "ddfc4f54",
   "metadata": {},
   "outputs": [
    {
     "name": "stdout",
     "output_type": "stream",
     "text": [
      "El DF payments_df contiene 1048575 filas y 19 columnas\n"
     ]
    }
   ],
   "source": [
    "# Verification of the shape of 'payments_df'.\n",
    "\n",
    "print(\"El DF payments_df contiene \" + str(payments_df.shape[0]) +\" filas y \" + str(payments_df.shape[1]) + \" columnas\")"
   ]
  },
  {
   "cell_type": "markdown",
   "id": "a1e8f459",
   "metadata": {},
   "source": [
    "Todos los datos necesarios para la práctica vienen incluidos en `payments_df`, por lo que **no será necesario cargar ningún otro df**."
   ]
  },
  {
   "cell_type": "markdown",
   "id": "2c54231f",
   "metadata": {},
   "source": [
    "## 2.2. Análisis de tipos de datos"
   ]
  },
  {
   "cell_type": "markdown",
   "id": "0f8e9a46",
   "metadata": {},
   "source": [
    "En este apartado procederemos a analizar el tipo de dato inicial que contiene cada variable."
   ]
  },
  {
   "cell_type": "code",
   "execution_count": 7,
   "id": "59fb62d5",
   "metadata": {
    "scrolled": false
   },
   "outputs": [
    {
     "name": "stdout",
     "output_type": "stream",
     "text": [
      "  feature_type  count\n",
      "0        int64      6\n",
      "1      float64      5\n",
      "2       object      8\n"
     ]
    },
    {
     "data": {
      "text/plain": [
       "step                  int64\n",
       "type                 object\n",
       "amount              float64\n",
       "gender               object\n",
       "device               object\n",
       "connection_time      object\n",
       "nameOrig             object\n",
       "race                 object\n",
       "oldbalanceOrg       float64\n",
       "age                   int64\n",
       "newbalanceOrig      float64\n",
       "zone                 object\n",
       "user_number           int64\n",
       "nameDest             object\n",
       "user_connections      int64\n",
       "security_alert        int64\n",
       "oldbalanceDest      float64\n",
       "newbalanceDest      float64\n",
       "isFraud               int64\n",
       "dtype: object"
      ]
     },
     "execution_count": 7,
     "metadata": {},
     "output_type": "execute_result"
    }
   ],
   "source": [
    "# Verification of the different types of data in the 'payments_df'.\n",
    "\n",
    "print(payments_df.dtypes.sort_values().to_frame('feature_type').groupby(by = 'feature_type').size().to_frame('count').reset_index())\n",
    "\n",
    "# Print the type of data for each variable.\n",
    "\n",
    "payments_df.dtypes "
   ]
  },
  {
   "cell_type": "markdown",
   "id": "2347307d",
   "metadata": {},
   "source": [
    "Observando las variables, nos damos cuenta de que **la variable `connection_time` es tipo objeto, por lo que cambiaremos su formato a float y le cambiaremos a formato decimal**, para que se ajuste con el resto de los datos."
   ]
  },
  {
   "cell_type": "code",
   "execution_count": 8,
   "id": "fe48aed5",
   "metadata": {},
   "outputs": [],
   "source": [
    "# Transform the decimal format of the variable 'connection_time' by replacing to dots.\n",
    "# Transform the data type converting it as float.\n",
    "\n",
    "payments_df = payments_df.assign(**{'connection_time': lambda df: df['connection_time'].str.replace(',', '.').astype(float)})"
   ]
  },
  {
   "cell_type": "markdown",
   "id": "9b4926e0",
   "metadata": {},
   "source": [
    "Por otro lado, **pasaremos a clase 'object' aquellas variables categóricas que tengan otro formato**:"
   ]
  },
  {
   "cell_type": "code",
   "execution_count": 9,
   "id": "fa404052",
   "metadata": {},
   "outputs": [],
   "source": [
    "# Transform the categorical variables 'security_alert', 'isFraud' as object.\n",
    "\n",
    "payments_df = (payments_df\n",
    "    .assign(**{'security_alert': lambda df: df['security_alert'].astype(object)})\n",
    "    .assign(**{'isFraud': lambda df: df['isFraud'].astype(object)})\n",
    "              )"
   ]
  },
  {
   "cell_type": "markdown",
   "id": "e487f6f6",
   "metadata": {},
   "source": [
    "## 2.3. Diccionario de datos\n"
   ]
  },
  {
   "cell_type": "markdown",
   "id": "d5c5eb7f",
   "metadata": {},
   "source": [
    "Junto al dataset venía incluido un diccionario de datos `VariablesFinales.txt` con la descripción de cada variable, que se puede encontrar en el directorio `data/Raw`.\n",
    "\n",
    "Sin embargo, **para un mayor entendimiento de los datos he procedido a crear un diccionario nuevo, llamado `Dictionary_processed.md` que se encuentra en el directorio `data/Processed`**. En el encontramos información detallada de cada una de las variables: Nombre, descripción, tipo de variable, tipo de dato y valores.\n",
    "\n"
   ]
  },
  {
   "cell_type": "markdown",
   "id": "de2a6686",
   "metadata": {},
   "source": [
    "En cuanto al contenido de los datos, disponemos de una selección de transacciones realizadas y nos encontramos con 19 variables que proveen información del perfil de la persona que ha emitido la transacción.  \n",
    "\n",
    "Nos encontramos con dos tipos de variables:\n",
    "\n",
    "- **Variables Categóricas (8)** . El significado de cada valor se puede encontrar en `Dictionary_processed.md`.\n",
    "- **Variables Numéricas (11)** ."
   ]
  },
  {
   "cell_type": "markdown",
   "id": "384b83ce",
   "metadata": {},
   "source": [
    "Analizamos el **nº de valores distintos que adquiere cada variable**, para tenerlo en cuenta en el diccionario."
   ]
  },
  {
   "cell_type": "code",
   "execution_count": 10,
   "id": "25b4664e",
   "metadata": {},
   "outputs": [
    {
     "name": "stdout",
     "output_type": "stream",
     "text": [
      "Número de valores distintos en cada variable :\n",
      "step                     95\n",
      "type                      5\n",
      "amount              1009606\n",
      "gender                    3\n",
      "device                    3\n",
      "connection_time     1047989\n",
      "nameOrig            1048317\n",
      "race                      3\n",
      "oldbalanceOrg        415945\n",
      "age                      96\n",
      "newbalanceOrig       466415\n",
      "zone                      3\n",
      "user_number            4942\n",
      "nameDest             449635\n",
      "user_connections         10\n",
      "security_alert            2\n",
      "oldbalanceDest       603920\n",
      "newbalanceDest       446071\n",
      "isFraud                   2\n",
      "dtype: int64\n"
     ]
    }
   ],
   "source": [
    "uniqueValues = payments_df.nunique()\n",
    "print('Número de valores distintos en cada variable :')\n",
    "print(uniqueValues)"
   ]
  },
  {
   "cell_type": "markdown",
   "id": "69e142f0",
   "metadata": {},
   "source": [
    "## 2.4. Variable Objetivo"
   ]
  },
  {
   "cell_type": "markdown",
   "id": "e3cd8d84",
   "metadata": {},
   "source": [
    "La variable objetivo del dataset es el valor **`isFraud`**, la cual indica si en la transaccion se ha cometido fraude o nos. La variable toma valor de **1 en el caso de haberse cometido fraude** y de **0 en el caso de no existir fraude**. "
   ]
  },
  {
   "cell_type": "code",
   "execution_count": 11,
   "id": "65627802",
   "metadata": {},
   "outputs": [
    {
     "name": "stdout",
     "output_type": "stream",
     "text": [
      "[0 1]\n"
     ]
    }
   ],
   "source": [
    "# Verification that the distinc values of 'isFraud' are between 0 and 1.\n",
    "\n",
    "print(payments_df.isFraud.unique())"
   ]
  },
  {
   "cell_type": "code",
   "execution_count": 12,
   "id": "10fe9bce",
   "metadata": {},
   "outputs": [
    {
     "data": {
      "text/html": [
       "<div>\n",
       "<style scoped>\n",
       "    .dataframe tbody tr th:only-of-type {\n",
       "        vertical-align: middle;\n",
       "    }\n",
       "\n",
       "    .dataframe tbody tr th {\n",
       "        vertical-align: top;\n",
       "    }\n",
       "\n",
       "    .dataframe thead th {\n",
       "        text-align: right;\n",
       "    }\n",
       "</style>\n",
       "<table border=\"1\" class=\"dataframe\">\n",
       "  <thead>\n",
       "    <tr style=\"text-align: right;\">\n",
       "      <th></th>\n",
       "      <th>index</th>\n",
       "      <th>porcentaje</th>\n",
       "      <th>isFraud</th>\n",
       "    </tr>\n",
       "  </thead>\n",
       "  <tbody>\n",
       "    <tr>\n",
       "      <th>0</th>\n",
       "      <td>0</td>\n",
       "      <td>99.89109</td>\n",
       "      <td>1047433</td>\n",
       "    </tr>\n",
       "    <tr>\n",
       "      <th>1</th>\n",
       "      <td>1</td>\n",
       "      <td>0.10891</td>\n",
       "      <td>1142</td>\n",
       "    </tr>\n",
       "  </tbody>\n",
       "</table>\n",
       "</div>"
      ],
      "text/plain": [
       "   index  porcentaje  isFraud\n",
       "0      0    99.89109  1047433\n",
       "1      1     0.10891     1142"
      ]
     },
     "execution_count": 12,
     "metadata": {},
     "output_type": "execute_result"
    }
   ],
   "source": [
    "# Select the values of training to check the proportion of the target objective\n",
    "\n",
    "classes_overview(df = payments_df, obj_val = 'isFraud')"
   ]
  },
  {
   "cell_type": "markdown",
   "id": "777d2919",
   "metadata": {},
   "source": [
    "Observamos que de los datos analizados donde  un 99.89% de las transacciones no cometen fraude, mientras que unicamente un 0.11% cometen fraude. **La variable objetivo está desbalanceada, por lo que lo tendremos en cuenta para la selección del modelo**."
   ]
  },
  {
   "cell_type": "markdown",
   "id": "8c217114",
   "metadata": {},
   "source": [
    "# <a name=\"analisis\"> 3. Análisis EDA <a>"
   ]
  },
  {
   "cell_type": "markdown",
   "id": "8a0cde4d",
   "metadata": {},
   "source": [
    "En este apartado **se realizará el estudio exploratorio de los datos pertenecientes al dataset  `payments_df`**. Para este análisis, nos centraremos en todo el dataset, de manera que en caso de realizar una transformación se aplique a todo el conjunto."
   ]
  },
  {
   "cell_type": "markdown",
   "id": "e98fc2b4",
   "metadata": {},
   "source": [
    "## 3.1. Nombramiento de datos y aspéctos éticos"
   ]
  },
  {
   "cell_type": "markdown",
   "id": "773ecfe4",
   "metadata": {},
   "source": [
    "El nombre de las diferentes variables es muy claro, lo cual permite trabajar fácilmente con ellos, por lo que **no las renombraremos.**"
   ]
  },
  {
   "cell_type": "markdown",
   "id": "a6d36c4e",
   "metadata": {},
   "source": [
    "En primer lugar **procedemos a eliminar las variables `race` (describe la raza de la persona que emite la transacción) dado que por motivos éticos no debemos incluirlas en el modelo**. "
   ]
  },
  {
   "cell_type": "code",
   "execution_count": 13,
   "id": "4e5d06a3",
   "metadata": {},
   "outputs": [],
   "source": [
    "# To drop the non ethical variable 'race'\n",
    "\n",
    "payments_df = payments_df.drop(['race'],axis = 'columns')"
   ]
  },
  {
   "cell_type": "markdown",
   "id": "e92f2e45",
   "metadata": {},
   "source": [
    "Comprobamos que se haya eliminado la variable observando la nueva estructura del dataframe `payments_df`:"
   ]
  },
  {
   "cell_type": "code",
   "execution_count": 14,
   "id": "13c68ef8",
   "metadata": {},
   "outputs": [
    {
     "name": "stdout",
     "output_type": "stream",
     "text": [
      "El DF payments_df contiene 1048575 filas y 18 columnas\n"
     ]
    }
   ],
   "source": [
    "# Print the current shape of 'payments_df' without the 'race' variable.\n",
    "\n",
    "print(\"El DF payments_df contiene \" + str(payments_df.shape[0]) +\" filas y \" + str(payments_df.shape[1]) + \" columnas\")"
   ]
  },
  {
   "cell_type": "markdown",
   "id": "84d4b6e7",
   "metadata": {},
   "source": [
    "En segundo lugar dado que **las variables `nameOrig` y `nameDest`numericamente no proporcionan mucha información nos quedaremos con su primera letra para identificar el tipo de cliente**."
   ]
  },
  {
   "cell_type": "code",
   "execution_count": 15,
   "id": "18ecf89f",
   "metadata": {},
   "outputs": [],
   "source": [
    "# Loop to input the first letter of each row from the 'nameOrig' variable.\n",
    "letter_orig = []\n",
    "for row in payments_df.nameOrig:\n",
    "    letter_orig.append(row[0])\n",
    "    \n",
    "# Loop to input the first letter of each row from the 'nameDest' variable.   \n",
    "letter_dest = []\n",
    "for row in payments_df.nameDest:\n",
    "    letter_dest.append(row[0])\n",
    "    \n",
    "# Substitution of the ID's from  'nameOrig', 'nameDest' for their first letter. \n",
    "payments_df['nameOrig'] = letter_orig\n",
    "payments_df['nameDest'] = letter_dest"
   ]
  },
  {
   "cell_type": "markdown",
   "id": "0f2f4c0f",
   "metadata": {},
   "source": [
    "## 3.3 Análisis de valores duplicados"
   ]
  },
  {
   "cell_type": "markdown",
   "id": "1dea875f",
   "metadata": {},
   "source": [
    "Realizamos el análisis de valores duplicados, comprobando si existe alguna fila duplicada. En caso positivo nos mostrará el nº de filas duplicadas."
   ]
  },
  {
   "cell_type": "code",
   "execution_count": 16,
   "id": "33ed3401",
   "metadata": {
    "scrolled": true
   },
   "outputs": [
    {
     "name": "stdout",
     "output_type": "stream",
     "text": [
      "Hay un número de 0 valores duplicados en el dataset 'payments_df'\n"
     ]
    }
   ],
   "source": [
    "# Save in 'payments_df_duplicated' the duplicated rows.\n",
    "\n",
    "payments_df_duplicated = payments_df[payments_df.duplicated()]\n",
    "\n",
    "# Print the number of duplicated rows in 'payments_df_duplicated' \n",
    "\n",
    "print('Hay un número de '+str(len(payments_df_duplicated))+ \" valores duplicados en el dataset 'payments_df'\")"
   ]
  },
  {
   "cell_type": "markdown",
   "id": "bdfdadf9",
   "metadata": {},
   "source": [
    "**No hay valores duplicados, por lo que podemos continuar con el análisis**"
   ]
  },
  {
   "cell_type": "markdown",
   "id": "829a8759",
   "metadata": {},
   "source": [
    "## 3.4. Análisis de valores nulos"
   ]
  },
  {
   "cell_type": "markdown",
   "id": "654aa4e1",
   "metadata": {},
   "source": [
    "### 3.4.1 Análisis de valores nulos por filas y columnas"
   ]
  },
  {
   "cell_type": "markdown",
   "id": "58a99589",
   "metadata": {},
   "source": [
    "En este apartado procederemos a analizar el nº de valores nulos de cada variable por columnas y filas y entender su significado."
   ]
  },
  {
   "cell_type": "code",
   "execution_count": 17,
   "id": "08be4283",
   "metadata": {},
   "outputs": [],
   "source": [
    "#Sum the number of nulls values of the different columns and rows, then the data is sorted from highest to lowest.\n",
    "\n",
    "pd_series_null_columns = payments_df.isnull().sum().sort_values(ascending=False)\n",
    "pd_series_null_rows = payments_df.isnull().sum(axis=1).sort_values(ascending=False)\n",
    "\n",
    "# Create two dataframes showing the null values and proportion of payments_df in rows and columns.\n",
    "\n",
    "pd_null_columnas = pd.DataFrame(pd_series_null_columns, columns=['Valores nulos en columnas'])     \n",
    "pd_null_filas = pd.DataFrame(pd_series_null_rows, columns=['Valores nulos en filas'])  \n",
    "pd_null_columnas['porcentaje'] = pd_null_columnas['Valores nulos en columnas']/payments_df.shape[0]*100 \n",
    "pd_null_filas['porcentaje_filas']= pd_null_filas['Valores nulos en filas']/payments_df.shape[1]"
   ]
  },
  {
   "cell_type": "markdown",
   "id": "4e21dc48",
   "metadata": {},
   "source": [
    "**Análizamos el número de valores nulos en filas y proporción:**"
   ]
  },
  {
   "cell_type": "code",
   "execution_count": 18,
   "id": "9cf1a4af",
   "metadata": {},
   "outputs": [
    {
     "data": {
      "text/plain": [
       "Valores nulos en filas  porcentaje_filas\n",
       "1                       0.055556            254642\n",
       "2                       0.111111             28205\n",
       "3                       0.166667              1020\n",
       "dtype: int64"
      ]
     },
     "execution_count": 18,
     "metadata": {},
     "output_type": "execute_result"
    }
   ],
   "source": [
    "# Show the number of null values in the rows and the proportion.\n",
    "\n",
    "(pd_null_filas[pd_null_filas['Valores nulos en filas']>0].value_counts()).sort_values(ascending=False)"
   ]
  },
  {
   "cell_type": "markdown",
   "id": "5ccd35c7",
   "metadata": {},
   "source": [
    "Observamos como en el **5.5% de las filas hay al menos una variable con valor nulo**, en el **11.11%, al menos 2 variables nulas** y en el **16.6% hasta 3 variables con valores nulos**,que es lo máximo, "
   ]
  },
  {
   "cell_type": "markdown",
   "id": "023b54ce",
   "metadata": {},
   "source": [
    "**Mostramos las variables con valores nulos en columnas y proporción:**"
   ]
  },
  {
   "cell_type": "code",
   "execution_count": 19,
   "id": "fa88e42d",
   "metadata": {},
   "outputs": [
    {
     "data": {
      "text/html": [
       "<div>\n",
       "<style scoped>\n",
       "    .dataframe tbody tr th:only-of-type {\n",
       "        vertical-align: middle;\n",
       "    }\n",
       "\n",
       "    .dataframe tbody tr th {\n",
       "        vertical-align: top;\n",
       "    }\n",
       "\n",
       "    .dataframe thead th {\n",
       "        text-align: right;\n",
       "    }\n",
       "</style>\n",
       "<table border=\"1\" class=\"dataframe\">\n",
       "  <thead>\n",
       "    <tr style=\"text-align: right;\">\n",
       "      <th></th>\n",
       "      <th>Valores nulos en columnas</th>\n",
       "      <th>porcentaje</th>\n",
       "    </tr>\n",
       "  </thead>\n",
       "  <tbody>\n",
       "    <tr>\n",
       "      <th>gender</th>\n",
       "      <td>105118</td>\n",
       "      <td>10.024843</td>\n",
       "    </tr>\n",
       "    <tr>\n",
       "      <th>device</th>\n",
       "      <td>104580</td>\n",
       "      <td>9.973536</td>\n",
       "    </tr>\n",
       "    <tr>\n",
       "      <th>zone</th>\n",
       "      <td>104414</td>\n",
       "      <td>9.957705</td>\n",
       "    </tr>\n",
       "  </tbody>\n",
       "</table>\n",
       "</div>"
      ],
      "text/plain": [
       "        Valores nulos en columnas  porcentaje\n",
       "gender                     105118   10.024843\n",
       "device                     104580    9.973536\n",
       "zone                       104414    9.957705"
      ]
     },
     "execution_count": 19,
     "metadata": {},
     "output_type": "execute_result"
    }
   ],
   "source": [
    "# Show the variables with more than 0 null values in columns.\n",
    "\n",
    "pd_null_columnas[pd_null_columnas['Valores nulos en columnas']>0]"
   ]
  },
  {
   "cell_type": "markdown",
   "id": "d1b0b3d4",
   "metadata": {},
   "source": [
    "Observamos la existencia de aproximadamente un **10 % de valores nulos en las variables `device`, `gender` y `zone`**. **Esto se puede deber a varios motivos**:\n",
    "\n",
    "   - `device` : Es probable que el sistema no haya podido detectar el dispositivo por el que se realiza la transferencia.\n",
    "   \n",
    "   - `gender` : Es probable que los clientes no hayan querido designar su género.\n",
    "   \n",
    "   - `zone` : Es probable que el sistema no haya podido reconocer el lugar donde se realizó la transacción. "
   ]
  },
  {
   "cell_type": "markdown",
   "id": "9d7afc18",
   "metadata": {},
   "source": [
    "Comprobamos los valores únicos de cada una de estas variables:"
   ]
  },
  {
   "cell_type": "code",
   "execution_count": 20,
   "id": "1837ead3",
   "metadata": {},
   "outputs": [
    {
     "name": "stdout",
     "output_type": "stream",
     "text": [
      " Los distintos valores que nos encontramos en la variable 'gender' son: ['man', 'woman', 'unknow', nan]\n",
      " Los distintos valores que nos encontramos en la variable 'device' son: ['mac', 'pc', 'iphone', nan]\n",
      " Los distintos valores que nos encontramos en la variable 'zone' son: ['capital', 'country', 'africa', nan]\n"
     ]
    }
   ],
   "source": [
    "print(\" Los distintos valores que nos encontramos en la variable 'gender' son: \" +str(unique_values(payments_df, 'gender')))\n",
    "print(\" Los distintos valores que nos encontramos en la variable 'device' son: \" +str(unique_values(payments_df, 'device')))\n",
    "print(\" Los distintos valores que nos encontramos en la variable 'zone' son: \" +str(unique_values(payments_df, 'zone')))"
   ]
  },
  {
   "cell_type": "markdown",
   "id": "10d002e4",
   "metadata": {},
   "source": [
    "**Una vez análizados los valores nulos, los mantendremos intactos durante el EDA, para proceder a estudiar que transformación realizarlos la tarea de preprocesamiento**"
   ]
  },
  {
   "cell_type": "markdown",
   "id": "5dca02e3",
   "metadata": {},
   "source": [
    "## 3.5.  Análisis de variables categóricas y numéricas"
   ]
  },
  {
   "cell_type": "markdown",
   "id": "ccbbd9b4",
   "metadata": {},
   "source": [
    "## 3.5.1 Análisis de los valores de las Variables categóricas"
   ]
  },
  {
   "cell_type": "markdown",
   "id": "b5279990",
   "metadata": {},
   "source": [
    "Las variables categóricas han de ser tratadas posteriormente para introducirlas en un modelo de Machine Learning. Para ello, se procederá a realizar **un análisis de cada una de ellas para ver si es necesario realizar algún tipo de transformación y determinar como se comportan frente a la variable objetivo**. "
   ]
  },
  {
   "cell_type": "markdown",
   "id": "c5a442b5",
   "metadata": {},
   "source": [
    "Mostramos las variables categóricas del dataset, las cuales se caracterizan por ser la mayoria de tipo 'object' . **Excepto, las variables `security_alert` y `isFraud` que al adoptar formato numérico son de tipo entero.** "
   ]
  },
  {
   "cell_type": "code",
   "execution_count": 21,
   "id": "f7787b16",
   "metadata": {},
   "outputs": [
    {
     "data": {
      "text/plain": [
       "['type',\n",
       " 'gender',\n",
       " 'device',\n",
       " 'nameOrig',\n",
       " 'zone',\n",
       " 'nameDest',\n",
       " 'security_alert',\n",
       " 'isFraud']"
      ]
     },
     "execution_count": 21,
     "metadata": {},
     "output_type": "execute_result"
    }
   ],
   "source": [
    "# Print a list with the variables as type 'object' in the payments_df.\n",
    "\n",
    "list_categorical_variables(payments_df)"
   ]
  },
  {
   "cell_type": "markdown",
   "id": "d6b815a4",
   "metadata": {},
   "source": [
    "Observamos los valores únicos de cada una de las variables categóricas del dataset:"
   ]
  },
  {
   "cell_type": "code",
   "execution_count": 22,
   "id": "b737e7bb",
   "metadata": {},
   "outputs": [
    {
     "name": "stdout",
     "output_type": "stream",
     "text": [
      " Los distintos valores que nos encontramos en la variable 'type' son: ['PAYMENT', 'TRANSFER', 'CASH_OUT', 'DEBIT', 'CASH_IN']\n",
      " Los distintos valores que nos encontramos en la variable 'gender' son: ['man', 'woman', 'unknow', nan]\n",
      " Los distintos valores que nos encontramos en la variable 'device' son: ['mac', 'pc', 'iphone', nan]\n",
      " Los distintos valores que nos encontramos en la variable 'zone' son: ['capital', 'country', 'africa', nan]\n",
      " Los distintos valores que nos encontramos en la variable 'nameOrig' son: ['C']\n",
      " Los distintos valores que nos encontramos en la variable 'nameDest' son: ['M', 'C']\n",
      " Los distintos valores que nos encontramos en la variable 'security_alert' son: [1, 0]\n",
      " Los distintos valores que nos encontramos en la variable 'isFraud' son: [0, 1]\n"
     ]
    }
   ],
   "source": [
    "# Print the distinc values of each categorical variable.\n",
    "\n",
    "print(\" Los distintos valores que nos encontramos en la variable 'type' son: \" +str(unique_values(payments_df, 'type')))\n",
    "print(\" Los distintos valores que nos encontramos en la variable 'gender' son: \" +str(unique_values(payments_df, 'gender')))\n",
    "print(\" Los distintos valores que nos encontramos en la variable 'device' son: \" +str(unique_values(payments_df, 'device')))\n",
    "print(\" Los distintos valores que nos encontramos en la variable 'zone' son: \" +str(unique_values(payments_df, 'zone')))\n",
    "print(\" Los distintos valores que nos encontramos en la variable 'nameOrig' son: \" +str(unique_values(payments_df, 'nameOrig')))\n",
    "print(\" Los distintos valores que nos encontramos en la variable 'nameDest' son: \" +str(unique_values(payments_df, 'nameDest')))\n",
    "print(\" Los distintos valores que nos encontramos en la variable 'security_alert' son: \" +str(unique_values(payments_df, 'security_alert')))\n",
    "print(\" Los distintos valores que nos encontramos en la variable 'isFraud' son: \" +str(unique_values(payments_df, 'isFraud')))\n"
   ]
  },
  {
   "cell_type": "markdown",
   "id": "28e4b051",
   "metadata": {},
   "source": [
    "- **`Security_alert` adquiere valor de 0 cuando no salta la alerta de seguridad y de 1 cuando salta.**\n",
    "- **`isFraud` como ya mencionamos anteriormente, adquiere valor de 0 cuando no hay fraude y de 1 cuando si lo hay.**"
   ]
  },
  {
   "cell_type": "markdown",
   "id": "17883dc9",
   "metadata": {},
   "source": [
    "Una vez analizadas las variables categóricas, las separaremos en un dataframe aparte llamado 'categ_var_df' del resto de variables numéricas para poder realizar posteriormente su análisis grafico."
   ]
  },
  {
   "cell_type": "code",
   "execution_count": 23,
   "id": "79e0b166",
   "metadata": {
    "scrolled": false
   },
   "outputs": [
    {
     "data": {
      "text/html": [
       "<div>\n",
       "<style scoped>\n",
       "    .dataframe tbody tr th:only-of-type {\n",
       "        vertical-align: middle;\n",
       "    }\n",
       "\n",
       "    .dataframe tbody tr th {\n",
       "        vertical-align: top;\n",
       "    }\n",
       "\n",
       "    .dataframe thead th {\n",
       "        text-align: right;\n",
       "    }\n",
       "</style>\n",
       "<table border=\"1\" class=\"dataframe\">\n",
       "  <thead>\n",
       "    <tr style=\"text-align: right;\">\n",
       "      <th></th>\n",
       "      <th>type</th>\n",
       "      <th>gender</th>\n",
       "      <th>device</th>\n",
       "      <th>zone</th>\n",
       "      <th>security_alert</th>\n",
       "      <th>nameOrig</th>\n",
       "      <th>nameDest</th>\n",
       "      <th>isFraud</th>\n",
       "    </tr>\n",
       "  </thead>\n",
       "  <tbody>\n",
       "    <tr>\n",
       "      <th>0</th>\n",
       "      <td>PAYMENT</td>\n",
       "      <td>man</td>\n",
       "      <td>mac</td>\n",
       "      <td>capital</td>\n",
       "      <td>1</td>\n",
       "      <td>C</td>\n",
       "      <td>M</td>\n",
       "      <td>0</td>\n",
       "    </tr>\n",
       "    <tr>\n",
       "      <th>1</th>\n",
       "      <td>PAYMENT</td>\n",
       "      <td>woman</td>\n",
       "      <td>mac</td>\n",
       "      <td>country</td>\n",
       "      <td>0</td>\n",
       "      <td>C</td>\n",
       "      <td>M</td>\n",
       "      <td>0</td>\n",
       "    </tr>\n",
       "    <tr>\n",
       "      <th>2</th>\n",
       "      <td>TRANSFER</td>\n",
       "      <td>man</td>\n",
       "      <td>pc</td>\n",
       "      <td>capital</td>\n",
       "      <td>0</td>\n",
       "      <td>C</td>\n",
       "      <td>C</td>\n",
       "      <td>1</td>\n",
       "    </tr>\n",
       "    <tr>\n",
       "      <th>3</th>\n",
       "      <td>CASH_OUT</td>\n",
       "      <td>man</td>\n",
       "      <td>mac</td>\n",
       "      <td>country</td>\n",
       "      <td>0</td>\n",
       "      <td>C</td>\n",
       "      <td>C</td>\n",
       "      <td>1</td>\n",
       "    </tr>\n",
       "    <tr>\n",
       "      <th>4</th>\n",
       "      <td>PAYMENT</td>\n",
       "      <td>unknow</td>\n",
       "      <td>mac</td>\n",
       "      <td>country</td>\n",
       "      <td>0</td>\n",
       "      <td>C</td>\n",
       "      <td>M</td>\n",
       "      <td>0</td>\n",
       "    </tr>\n",
       "    <tr>\n",
       "      <th>...</th>\n",
       "      <td>...</td>\n",
       "      <td>...</td>\n",
       "      <td>...</td>\n",
       "      <td>...</td>\n",
       "      <td>...</td>\n",
       "      <td>...</td>\n",
       "      <td>...</td>\n",
       "      <td>...</td>\n",
       "    </tr>\n",
       "    <tr>\n",
       "      <th>1048570</th>\n",
       "      <td>CASH_OUT</td>\n",
       "      <td>woman</td>\n",
       "      <td>mac</td>\n",
       "      <td>NaN</td>\n",
       "      <td>0</td>\n",
       "      <td>C</td>\n",
       "      <td>C</td>\n",
       "      <td>0</td>\n",
       "    </tr>\n",
       "    <tr>\n",
       "      <th>1048571</th>\n",
       "      <td>PAYMENT</td>\n",
       "      <td>woman</td>\n",
       "      <td>mac</td>\n",
       "      <td>africa</td>\n",
       "      <td>0</td>\n",
       "      <td>C</td>\n",
       "      <td>M</td>\n",
       "      <td>0</td>\n",
       "    </tr>\n",
       "    <tr>\n",
       "      <th>1048572</th>\n",
       "      <td>PAYMENT</td>\n",
       "      <td>unknow</td>\n",
       "      <td>pc</td>\n",
       "      <td>africa</td>\n",
       "      <td>0</td>\n",
       "      <td>C</td>\n",
       "      <td>M</td>\n",
       "      <td>0</td>\n",
       "    </tr>\n",
       "    <tr>\n",
       "      <th>1048573</th>\n",
       "      <td>PAYMENT</td>\n",
       "      <td>man</td>\n",
       "      <td>mac</td>\n",
       "      <td>country</td>\n",
       "      <td>0</td>\n",
       "      <td>C</td>\n",
       "      <td>M</td>\n",
       "      <td>0</td>\n",
       "    </tr>\n",
       "    <tr>\n",
       "      <th>1048574</th>\n",
       "      <td>PAYMENT</td>\n",
       "      <td>man</td>\n",
       "      <td>pc</td>\n",
       "      <td>country</td>\n",
       "      <td>0</td>\n",
       "      <td>C</td>\n",
       "      <td>M</td>\n",
       "      <td>0</td>\n",
       "    </tr>\n",
       "  </tbody>\n",
       "</table>\n",
       "<p>1048575 rows × 8 columns</p>\n",
       "</div>"
      ],
      "text/plain": [
       "             type  gender device     zone security_alert nameOrig nameDest  \\\n",
       "0         PAYMENT     man    mac  capital              1        C        M   \n",
       "1         PAYMENT   woman    mac  country              0        C        M   \n",
       "2        TRANSFER     man     pc  capital              0        C        C   \n",
       "3        CASH_OUT     man    mac  country              0        C        C   \n",
       "4         PAYMENT  unknow    mac  country              0        C        M   \n",
       "...           ...     ...    ...      ...            ...      ...      ...   \n",
       "1048570  CASH_OUT   woman    mac      NaN              0        C        C   \n",
       "1048571   PAYMENT   woman    mac   africa              0        C        M   \n",
       "1048572   PAYMENT  unknow     pc   africa              0        C        M   \n",
       "1048573   PAYMENT     man    mac  country              0        C        M   \n",
       "1048574   PAYMENT     man     pc  country              0        C        M   \n",
       "\n",
       "        isFraud  \n",
       "0             0  \n",
       "1             0  \n",
       "2             1  \n",
       "3             1  \n",
       "4             0  \n",
       "...         ...  \n",
       "1048570       0  \n",
       "1048571       0  \n",
       "1048572       0  \n",
       "1048573       0  \n",
       "1048574       0  \n",
       "\n",
       "[1048575 rows x 8 columns]"
      ]
     },
     "execution_count": 23,
     "metadata": {},
     "output_type": "execute_result"
    }
   ],
   "source": [
    "# Create a new dataframe called 'categ_var_df' with all the categorical variables together.\n",
    "\n",
    "categ_var_df = payments_df[['type', 'gender', 'device', 'zone','security_alert', 'nameOrig','nameDest','isFraud']]\n",
    "\n",
    "# Display the 'categ_var_df' dataframe.\n",
    "\n",
    "categ_var_df"
   ]
  },
  {
   "cell_type": "markdown",
   "id": "94e8ae5f",
   "metadata": {},
   "source": [
    "### Análisis por tipo de receptor. ¿Cuáles son los mas probables de cometer fraude?"
   ]
  },
  {
   "cell_type": "code",
   "execution_count": 24,
   "id": "a2d89e7d",
   "metadata": {},
   "outputs": [
    {
     "data": {
      "application/vnd.plotly.v1+json": {
       "config": {
        "plotlyServerURL": "https://plot.ly"
       },
       "data": [
        {
         "alignmentgroup": "True",
         "bingroup": "x",
         "histfunc": "sum",
         "hovertemplate": "nameDest=%{x}<br>sum of isFraud=%{y}<extra></extra>",
         "legendgroup": "C",
         "marker": {
          "color": "#636efa",
          "pattern": {
           "shape": ""
          }
         },
         "name": "C",
         "offsetgroup": "C",
         "orientation": "v",
         "showlegend": true,
         "type": "histogram",
         "x": [
          "C"
         ],
         "xaxis": "x",
         "y": [
          1142
         ],
         "yaxis": "y"
        },
        {
         "alignmentgroup": "True",
         "bingroup": "x",
         "histfunc": "sum",
         "hovertemplate": "nameDest=%{x}<br>sum of isFraud=%{y}<extra></extra>",
         "legendgroup": "M",
         "marker": {
          "color": "#EF553B",
          "pattern": {
           "shape": ""
          }
         },
         "name": "M",
         "offsetgroup": "M",
         "orientation": "v",
         "showlegend": true,
         "type": "histogram",
         "x": [
          "M"
         ],
         "xaxis": "x",
         "y": [
          0
         ],
         "yaxis": "y"
        }
       ],
       "layout": {
        "barmode": "relative",
        "legend": {
         "title": {
          "text": "nameDest"
         },
         "tracegroupgap": 0
        },
        "margin": {
         "t": 60
        },
        "template": {
         "data": {
          "bar": [
           {
            "error_x": {
             "color": "#2a3f5f"
            },
            "error_y": {
             "color": "#2a3f5f"
            },
            "marker": {
             "line": {
              "color": "#E5ECF6",
              "width": 0.5
             },
             "pattern": {
              "fillmode": "overlay",
              "size": 10,
              "solidity": 0.2
             }
            },
            "type": "bar"
           }
          ],
          "barpolar": [
           {
            "marker": {
             "line": {
              "color": "#E5ECF6",
              "width": 0.5
             },
             "pattern": {
              "fillmode": "overlay",
              "size": 10,
              "solidity": 0.2
             }
            },
            "type": "barpolar"
           }
          ],
          "carpet": [
           {
            "aaxis": {
             "endlinecolor": "#2a3f5f",
             "gridcolor": "white",
             "linecolor": "white",
             "minorgridcolor": "white",
             "startlinecolor": "#2a3f5f"
            },
            "baxis": {
             "endlinecolor": "#2a3f5f",
             "gridcolor": "white",
             "linecolor": "white",
             "minorgridcolor": "white",
             "startlinecolor": "#2a3f5f"
            },
            "type": "carpet"
           }
          ],
          "choropleth": [
           {
            "colorbar": {
             "outlinewidth": 0,
             "ticks": ""
            },
            "type": "choropleth"
           }
          ],
          "contour": [
           {
            "colorbar": {
             "outlinewidth": 0,
             "ticks": ""
            },
            "colorscale": [
             [
              0,
              "#0d0887"
             ],
             [
              0.1111111111111111,
              "#46039f"
             ],
             [
              0.2222222222222222,
              "#7201a8"
             ],
             [
              0.3333333333333333,
              "#9c179e"
             ],
             [
              0.4444444444444444,
              "#bd3786"
             ],
             [
              0.5555555555555556,
              "#d8576b"
             ],
             [
              0.6666666666666666,
              "#ed7953"
             ],
             [
              0.7777777777777778,
              "#fb9f3a"
             ],
             [
              0.8888888888888888,
              "#fdca26"
             ],
             [
              1,
              "#f0f921"
             ]
            ],
            "type": "contour"
           }
          ],
          "contourcarpet": [
           {
            "colorbar": {
             "outlinewidth": 0,
             "ticks": ""
            },
            "type": "contourcarpet"
           }
          ],
          "heatmap": [
           {
            "colorbar": {
             "outlinewidth": 0,
             "ticks": ""
            },
            "colorscale": [
             [
              0,
              "#0d0887"
             ],
             [
              0.1111111111111111,
              "#46039f"
             ],
             [
              0.2222222222222222,
              "#7201a8"
             ],
             [
              0.3333333333333333,
              "#9c179e"
             ],
             [
              0.4444444444444444,
              "#bd3786"
             ],
             [
              0.5555555555555556,
              "#d8576b"
             ],
             [
              0.6666666666666666,
              "#ed7953"
             ],
             [
              0.7777777777777778,
              "#fb9f3a"
             ],
             [
              0.8888888888888888,
              "#fdca26"
             ],
             [
              1,
              "#f0f921"
             ]
            ],
            "type": "heatmap"
           }
          ],
          "heatmapgl": [
           {
            "colorbar": {
             "outlinewidth": 0,
             "ticks": ""
            },
            "colorscale": [
             [
              0,
              "#0d0887"
             ],
             [
              0.1111111111111111,
              "#46039f"
             ],
             [
              0.2222222222222222,
              "#7201a8"
             ],
             [
              0.3333333333333333,
              "#9c179e"
             ],
             [
              0.4444444444444444,
              "#bd3786"
             ],
             [
              0.5555555555555556,
              "#d8576b"
             ],
             [
              0.6666666666666666,
              "#ed7953"
             ],
             [
              0.7777777777777778,
              "#fb9f3a"
             ],
             [
              0.8888888888888888,
              "#fdca26"
             ],
             [
              1,
              "#f0f921"
             ]
            ],
            "type": "heatmapgl"
           }
          ],
          "histogram": [
           {
            "marker": {
             "pattern": {
              "fillmode": "overlay",
              "size": 10,
              "solidity": 0.2
             }
            },
            "type": "histogram"
           }
          ],
          "histogram2d": [
           {
            "colorbar": {
             "outlinewidth": 0,
             "ticks": ""
            },
            "colorscale": [
             [
              0,
              "#0d0887"
             ],
             [
              0.1111111111111111,
              "#46039f"
             ],
             [
              0.2222222222222222,
              "#7201a8"
             ],
             [
              0.3333333333333333,
              "#9c179e"
             ],
             [
              0.4444444444444444,
              "#bd3786"
             ],
             [
              0.5555555555555556,
              "#d8576b"
             ],
             [
              0.6666666666666666,
              "#ed7953"
             ],
             [
              0.7777777777777778,
              "#fb9f3a"
             ],
             [
              0.8888888888888888,
              "#fdca26"
             ],
             [
              1,
              "#f0f921"
             ]
            ],
            "type": "histogram2d"
           }
          ],
          "histogram2dcontour": [
           {
            "colorbar": {
             "outlinewidth": 0,
             "ticks": ""
            },
            "colorscale": [
             [
              0,
              "#0d0887"
             ],
             [
              0.1111111111111111,
              "#46039f"
             ],
             [
              0.2222222222222222,
              "#7201a8"
             ],
             [
              0.3333333333333333,
              "#9c179e"
             ],
             [
              0.4444444444444444,
              "#bd3786"
             ],
             [
              0.5555555555555556,
              "#d8576b"
             ],
             [
              0.6666666666666666,
              "#ed7953"
             ],
             [
              0.7777777777777778,
              "#fb9f3a"
             ],
             [
              0.8888888888888888,
              "#fdca26"
             ],
             [
              1,
              "#f0f921"
             ]
            ],
            "type": "histogram2dcontour"
           }
          ],
          "mesh3d": [
           {
            "colorbar": {
             "outlinewidth": 0,
             "ticks": ""
            },
            "type": "mesh3d"
           }
          ],
          "parcoords": [
           {
            "line": {
             "colorbar": {
              "outlinewidth": 0,
              "ticks": ""
             }
            },
            "type": "parcoords"
           }
          ],
          "pie": [
           {
            "automargin": true,
            "type": "pie"
           }
          ],
          "scatter": [
           {
            "fillpattern": {
             "fillmode": "overlay",
             "size": 10,
             "solidity": 0.2
            },
            "type": "scatter"
           }
          ],
          "scatter3d": [
           {
            "line": {
             "colorbar": {
              "outlinewidth": 0,
              "ticks": ""
             }
            },
            "marker": {
             "colorbar": {
              "outlinewidth": 0,
              "ticks": ""
             }
            },
            "type": "scatter3d"
           }
          ],
          "scattercarpet": [
           {
            "marker": {
             "colorbar": {
              "outlinewidth": 0,
              "ticks": ""
             }
            },
            "type": "scattercarpet"
           }
          ],
          "scattergeo": [
           {
            "marker": {
             "colorbar": {
              "outlinewidth": 0,
              "ticks": ""
             }
            },
            "type": "scattergeo"
           }
          ],
          "scattergl": [
           {
            "marker": {
             "colorbar": {
              "outlinewidth": 0,
              "ticks": ""
             }
            },
            "type": "scattergl"
           }
          ],
          "scattermapbox": [
           {
            "marker": {
             "colorbar": {
              "outlinewidth": 0,
              "ticks": ""
             }
            },
            "type": "scattermapbox"
           }
          ],
          "scatterpolar": [
           {
            "marker": {
             "colorbar": {
              "outlinewidth": 0,
              "ticks": ""
             }
            },
            "type": "scatterpolar"
           }
          ],
          "scatterpolargl": [
           {
            "marker": {
             "colorbar": {
              "outlinewidth": 0,
              "ticks": ""
             }
            },
            "type": "scatterpolargl"
           }
          ],
          "scatterternary": [
           {
            "marker": {
             "colorbar": {
              "outlinewidth": 0,
              "ticks": ""
             }
            },
            "type": "scatterternary"
           }
          ],
          "surface": [
           {
            "colorbar": {
             "outlinewidth": 0,
             "ticks": ""
            },
            "colorscale": [
             [
              0,
              "#0d0887"
             ],
             [
              0.1111111111111111,
              "#46039f"
             ],
             [
              0.2222222222222222,
              "#7201a8"
             ],
             [
              0.3333333333333333,
              "#9c179e"
             ],
             [
              0.4444444444444444,
              "#bd3786"
             ],
             [
              0.5555555555555556,
              "#d8576b"
             ],
             [
              0.6666666666666666,
              "#ed7953"
             ],
             [
              0.7777777777777778,
              "#fb9f3a"
             ],
             [
              0.8888888888888888,
              "#fdca26"
             ],
             [
              1,
              "#f0f921"
             ]
            ],
            "type": "surface"
           }
          ],
          "table": [
           {
            "cells": {
             "fill": {
              "color": "#EBF0F8"
             },
             "line": {
              "color": "white"
             }
            },
            "header": {
             "fill": {
              "color": "#C8D4E3"
             },
             "line": {
              "color": "white"
             }
            },
            "type": "table"
           }
          ]
         },
         "layout": {
          "annotationdefaults": {
           "arrowcolor": "#2a3f5f",
           "arrowhead": 0,
           "arrowwidth": 1
          },
          "autotypenumbers": "strict",
          "coloraxis": {
           "colorbar": {
            "outlinewidth": 0,
            "ticks": ""
           }
          },
          "colorscale": {
           "diverging": [
            [
             0,
             "#8e0152"
            ],
            [
             0.1,
             "#c51b7d"
            ],
            [
             0.2,
             "#de77ae"
            ],
            [
             0.3,
             "#f1b6da"
            ],
            [
             0.4,
             "#fde0ef"
            ],
            [
             0.5,
             "#f7f7f7"
            ],
            [
             0.6,
             "#e6f5d0"
            ],
            [
             0.7,
             "#b8e186"
            ],
            [
             0.8,
             "#7fbc41"
            ],
            [
             0.9,
             "#4d9221"
            ],
            [
             1,
             "#276419"
            ]
           ],
           "sequential": [
            [
             0,
             "#0d0887"
            ],
            [
             0.1111111111111111,
             "#46039f"
            ],
            [
             0.2222222222222222,
             "#7201a8"
            ],
            [
             0.3333333333333333,
             "#9c179e"
            ],
            [
             0.4444444444444444,
             "#bd3786"
            ],
            [
             0.5555555555555556,
             "#d8576b"
            ],
            [
             0.6666666666666666,
             "#ed7953"
            ],
            [
             0.7777777777777778,
             "#fb9f3a"
            ],
            [
             0.8888888888888888,
             "#fdca26"
            ],
            [
             1,
             "#f0f921"
            ]
           ],
           "sequentialminus": [
            [
             0,
             "#0d0887"
            ],
            [
             0.1111111111111111,
             "#46039f"
            ],
            [
             0.2222222222222222,
             "#7201a8"
            ],
            [
             0.3333333333333333,
             "#9c179e"
            ],
            [
             0.4444444444444444,
             "#bd3786"
            ],
            [
             0.5555555555555556,
             "#d8576b"
            ],
            [
             0.6666666666666666,
             "#ed7953"
            ],
            [
             0.7777777777777778,
             "#fb9f3a"
            ],
            [
             0.8888888888888888,
             "#fdca26"
            ],
            [
             1,
             "#f0f921"
            ]
           ]
          },
          "colorway": [
           "#636efa",
           "#EF553B",
           "#00cc96",
           "#ab63fa",
           "#FFA15A",
           "#19d3f3",
           "#FF6692",
           "#B6E880",
           "#FF97FF",
           "#FECB52"
          ],
          "font": {
           "color": "#2a3f5f"
          },
          "geo": {
           "bgcolor": "white",
           "lakecolor": "white",
           "landcolor": "#E5ECF6",
           "showlakes": true,
           "showland": true,
           "subunitcolor": "white"
          },
          "hoverlabel": {
           "align": "left"
          },
          "hovermode": "closest",
          "mapbox": {
           "style": "light"
          },
          "paper_bgcolor": "white",
          "plot_bgcolor": "#E5ECF6",
          "polar": {
           "angularaxis": {
            "gridcolor": "white",
            "linecolor": "white",
            "ticks": ""
           },
           "bgcolor": "#E5ECF6",
           "radialaxis": {
            "gridcolor": "white",
            "linecolor": "white",
            "ticks": ""
           }
          },
          "scene": {
           "xaxis": {
            "backgroundcolor": "#E5ECF6",
            "gridcolor": "white",
            "gridwidth": 2,
            "linecolor": "white",
            "showbackground": true,
            "ticks": "",
            "zerolinecolor": "white"
           },
           "yaxis": {
            "backgroundcolor": "#E5ECF6",
            "gridcolor": "white",
            "gridwidth": 2,
            "linecolor": "white",
            "showbackground": true,
            "ticks": "",
            "zerolinecolor": "white"
           },
           "zaxis": {
            "backgroundcolor": "#E5ECF6",
            "gridcolor": "white",
            "gridwidth": 2,
            "linecolor": "white",
            "showbackground": true,
            "ticks": "",
            "zerolinecolor": "white"
           }
          },
          "shapedefaults": {
           "line": {
            "color": "#2a3f5f"
           }
          },
          "ternary": {
           "aaxis": {
            "gridcolor": "white",
            "linecolor": "white",
            "ticks": ""
           },
           "baxis": {
            "gridcolor": "white",
            "linecolor": "white",
            "ticks": ""
           },
           "bgcolor": "#E5ECF6",
           "caxis": {
            "gridcolor": "white",
            "linecolor": "white",
            "ticks": ""
           }
          },
          "title": {
           "x": 0.05
          },
          "xaxis": {
           "automargin": true,
           "gridcolor": "white",
           "linecolor": "white",
           "ticks": "",
           "title": {
            "standoff": 15
           },
           "zerolinecolor": "white",
           "zerolinewidth": 2
          },
          "yaxis": {
           "automargin": true,
           "gridcolor": "white",
           "linecolor": "white",
           "ticks": "",
           "title": {
            "standoff": 15
           },
           "zerolinecolor": "white",
           "zerolinewidth": 2
          }
         }
        },
        "xaxis": {
         "anchor": "y",
         "categoryarray": [
          "C",
          "M"
         ],
         "categoryorder": "array",
         "domain": [
          0,
          1
         ],
         "title": {
          "text": "nameDest"
         }
        },
        "yaxis": {
         "anchor": "x",
         "domain": [
          0,
          1
         ],
         "title": {
          "text": "sum of isFraud"
         }
        }
       }
      }
     },
     "metadata": {},
     "output_type": "display_data"
    }
   ],
   "source": [
    "# Group by type of operation the number of frauds commited.\n",
    "\n",
    "df_name_orig = pd.DataFrame(categ_var_df.groupby(('nameDest'), \n",
    "as_index=False)['isFraud'].sum())\n",
    "\n",
    "# Plot an histogram of 'df_type'\n",
    "\n",
    "fig = px.histogram(df_name_orig, x='nameDest', y='isFraud', color='nameDest')\n",
    "fig.show()"
   ]
  },
  {
   "cell_type": "markdown",
   "id": "de2ebe3c",
   "metadata": {},
   "source": [
    "**El gráfico muestra que aquellos aquellos destinatarios cuyo ID empieza por 'C' son los únicos que cometen fráude. Posiblemente la 'C' signifiquen clientes y las 'M' signifiquen Merchants (comerciantes).**"
   ]
  },
  {
   "cell_type": "markdown",
   "id": "bfc99824",
   "metadata": {},
   "source": [
    "### Análisis por tipo de transacción. ¿Cuáles son los mas probables de cometer fraude?"
   ]
  },
  {
   "cell_type": "code",
   "execution_count": 25,
   "id": "6f3a51ab",
   "metadata": {},
   "outputs": [
    {
     "data": {
      "application/vnd.plotly.v1+json": {
       "config": {
        "plotlyServerURL": "https://plot.ly"
       },
       "data": [
        {
         "alignmentgroup": "True",
         "bingroup": "x",
         "histfunc": "sum",
         "hovertemplate": "type=%{x}<br>sum of isFraud=%{y}<extra></extra>",
         "legendgroup": "CASH_IN",
         "marker": {
          "color": "#636efa",
          "pattern": {
           "shape": ""
          }
         },
         "name": "CASH_IN",
         "offsetgroup": "CASH_IN",
         "orientation": "v",
         "showlegend": true,
         "type": "histogram",
         "x": [
          "CASH_IN"
         ],
         "xaxis": "x",
         "y": [
          0
         ],
         "yaxis": "y"
        },
        {
         "alignmentgroup": "True",
         "bingroup": "x",
         "histfunc": "sum",
         "hovertemplate": "type=%{x}<br>sum of isFraud=%{y}<extra></extra>",
         "legendgroup": "CASH_OUT",
         "marker": {
          "color": "#EF553B",
          "pattern": {
           "shape": ""
          }
         },
         "name": "CASH_OUT",
         "offsetgroup": "CASH_OUT",
         "orientation": "v",
         "showlegend": true,
         "type": "histogram",
         "x": [
          "CASH_OUT"
         ],
         "xaxis": "x",
         "y": [
          578
         ],
         "yaxis": "y"
        },
        {
         "alignmentgroup": "True",
         "bingroup": "x",
         "histfunc": "sum",
         "hovertemplate": "type=%{x}<br>sum of isFraud=%{y}<extra></extra>",
         "legendgroup": "DEBIT",
         "marker": {
          "color": "#00cc96",
          "pattern": {
           "shape": ""
          }
         },
         "name": "DEBIT",
         "offsetgroup": "DEBIT",
         "orientation": "v",
         "showlegend": true,
         "type": "histogram",
         "x": [
          "DEBIT"
         ],
         "xaxis": "x",
         "y": [
          0
         ],
         "yaxis": "y"
        },
        {
         "alignmentgroup": "True",
         "bingroup": "x",
         "histfunc": "sum",
         "hovertemplate": "type=%{x}<br>sum of isFraud=%{y}<extra></extra>",
         "legendgroup": "PAYMENT",
         "marker": {
          "color": "#ab63fa",
          "pattern": {
           "shape": ""
          }
         },
         "name": "PAYMENT",
         "offsetgroup": "PAYMENT",
         "orientation": "v",
         "showlegend": true,
         "type": "histogram",
         "x": [
          "PAYMENT"
         ],
         "xaxis": "x",
         "y": [
          0
         ],
         "yaxis": "y"
        },
        {
         "alignmentgroup": "True",
         "bingroup": "x",
         "histfunc": "sum",
         "hovertemplate": "type=%{x}<br>sum of isFraud=%{y}<extra></extra>",
         "legendgroup": "TRANSFER",
         "marker": {
          "color": "#FFA15A",
          "pattern": {
           "shape": ""
          }
         },
         "name": "TRANSFER",
         "offsetgroup": "TRANSFER",
         "orientation": "v",
         "showlegend": true,
         "type": "histogram",
         "x": [
          "TRANSFER"
         ],
         "xaxis": "x",
         "y": [
          564
         ],
         "yaxis": "y"
        }
       ],
       "layout": {
        "barmode": "relative",
        "legend": {
         "title": {
          "text": "type"
         },
         "tracegroupgap": 0
        },
        "margin": {
         "t": 60
        },
        "template": {
         "data": {
          "bar": [
           {
            "error_x": {
             "color": "#2a3f5f"
            },
            "error_y": {
             "color": "#2a3f5f"
            },
            "marker": {
             "line": {
              "color": "#E5ECF6",
              "width": 0.5
             },
             "pattern": {
              "fillmode": "overlay",
              "size": 10,
              "solidity": 0.2
             }
            },
            "type": "bar"
           }
          ],
          "barpolar": [
           {
            "marker": {
             "line": {
              "color": "#E5ECF6",
              "width": 0.5
             },
             "pattern": {
              "fillmode": "overlay",
              "size": 10,
              "solidity": 0.2
             }
            },
            "type": "barpolar"
           }
          ],
          "carpet": [
           {
            "aaxis": {
             "endlinecolor": "#2a3f5f",
             "gridcolor": "white",
             "linecolor": "white",
             "minorgridcolor": "white",
             "startlinecolor": "#2a3f5f"
            },
            "baxis": {
             "endlinecolor": "#2a3f5f",
             "gridcolor": "white",
             "linecolor": "white",
             "minorgridcolor": "white",
             "startlinecolor": "#2a3f5f"
            },
            "type": "carpet"
           }
          ],
          "choropleth": [
           {
            "colorbar": {
             "outlinewidth": 0,
             "ticks": ""
            },
            "type": "choropleth"
           }
          ],
          "contour": [
           {
            "colorbar": {
             "outlinewidth": 0,
             "ticks": ""
            },
            "colorscale": [
             [
              0,
              "#0d0887"
             ],
             [
              0.1111111111111111,
              "#46039f"
             ],
             [
              0.2222222222222222,
              "#7201a8"
             ],
             [
              0.3333333333333333,
              "#9c179e"
             ],
             [
              0.4444444444444444,
              "#bd3786"
             ],
             [
              0.5555555555555556,
              "#d8576b"
             ],
             [
              0.6666666666666666,
              "#ed7953"
             ],
             [
              0.7777777777777778,
              "#fb9f3a"
             ],
             [
              0.8888888888888888,
              "#fdca26"
             ],
             [
              1,
              "#f0f921"
             ]
            ],
            "type": "contour"
           }
          ],
          "contourcarpet": [
           {
            "colorbar": {
             "outlinewidth": 0,
             "ticks": ""
            },
            "type": "contourcarpet"
           }
          ],
          "heatmap": [
           {
            "colorbar": {
             "outlinewidth": 0,
             "ticks": ""
            },
            "colorscale": [
             [
              0,
              "#0d0887"
             ],
             [
              0.1111111111111111,
              "#46039f"
             ],
             [
              0.2222222222222222,
              "#7201a8"
             ],
             [
              0.3333333333333333,
              "#9c179e"
             ],
             [
              0.4444444444444444,
              "#bd3786"
             ],
             [
              0.5555555555555556,
              "#d8576b"
             ],
             [
              0.6666666666666666,
              "#ed7953"
             ],
             [
              0.7777777777777778,
              "#fb9f3a"
             ],
             [
              0.8888888888888888,
              "#fdca26"
             ],
             [
              1,
              "#f0f921"
             ]
            ],
            "type": "heatmap"
           }
          ],
          "heatmapgl": [
           {
            "colorbar": {
             "outlinewidth": 0,
             "ticks": ""
            },
            "colorscale": [
             [
              0,
              "#0d0887"
             ],
             [
              0.1111111111111111,
              "#46039f"
             ],
             [
              0.2222222222222222,
              "#7201a8"
             ],
             [
              0.3333333333333333,
              "#9c179e"
             ],
             [
              0.4444444444444444,
              "#bd3786"
             ],
             [
              0.5555555555555556,
              "#d8576b"
             ],
             [
              0.6666666666666666,
              "#ed7953"
             ],
             [
              0.7777777777777778,
              "#fb9f3a"
             ],
             [
              0.8888888888888888,
              "#fdca26"
             ],
             [
              1,
              "#f0f921"
             ]
            ],
            "type": "heatmapgl"
           }
          ],
          "histogram": [
           {
            "marker": {
             "pattern": {
              "fillmode": "overlay",
              "size": 10,
              "solidity": 0.2
             }
            },
            "type": "histogram"
           }
          ],
          "histogram2d": [
           {
            "colorbar": {
             "outlinewidth": 0,
             "ticks": ""
            },
            "colorscale": [
             [
              0,
              "#0d0887"
             ],
             [
              0.1111111111111111,
              "#46039f"
             ],
             [
              0.2222222222222222,
              "#7201a8"
             ],
             [
              0.3333333333333333,
              "#9c179e"
             ],
             [
              0.4444444444444444,
              "#bd3786"
             ],
             [
              0.5555555555555556,
              "#d8576b"
             ],
             [
              0.6666666666666666,
              "#ed7953"
             ],
             [
              0.7777777777777778,
              "#fb9f3a"
             ],
             [
              0.8888888888888888,
              "#fdca26"
             ],
             [
              1,
              "#f0f921"
             ]
            ],
            "type": "histogram2d"
           }
          ],
          "histogram2dcontour": [
           {
            "colorbar": {
             "outlinewidth": 0,
             "ticks": ""
            },
            "colorscale": [
             [
              0,
              "#0d0887"
             ],
             [
              0.1111111111111111,
              "#46039f"
             ],
             [
              0.2222222222222222,
              "#7201a8"
             ],
             [
              0.3333333333333333,
              "#9c179e"
             ],
             [
              0.4444444444444444,
              "#bd3786"
             ],
             [
              0.5555555555555556,
              "#d8576b"
             ],
             [
              0.6666666666666666,
              "#ed7953"
             ],
             [
              0.7777777777777778,
              "#fb9f3a"
             ],
             [
              0.8888888888888888,
              "#fdca26"
             ],
             [
              1,
              "#f0f921"
             ]
            ],
            "type": "histogram2dcontour"
           }
          ],
          "mesh3d": [
           {
            "colorbar": {
             "outlinewidth": 0,
             "ticks": ""
            },
            "type": "mesh3d"
           }
          ],
          "parcoords": [
           {
            "line": {
             "colorbar": {
              "outlinewidth": 0,
              "ticks": ""
             }
            },
            "type": "parcoords"
           }
          ],
          "pie": [
           {
            "automargin": true,
            "type": "pie"
           }
          ],
          "scatter": [
           {
            "fillpattern": {
             "fillmode": "overlay",
             "size": 10,
             "solidity": 0.2
            },
            "type": "scatter"
           }
          ],
          "scatter3d": [
           {
            "line": {
             "colorbar": {
              "outlinewidth": 0,
              "ticks": ""
             }
            },
            "marker": {
             "colorbar": {
              "outlinewidth": 0,
              "ticks": ""
             }
            },
            "type": "scatter3d"
           }
          ],
          "scattercarpet": [
           {
            "marker": {
             "colorbar": {
              "outlinewidth": 0,
              "ticks": ""
             }
            },
            "type": "scattercarpet"
           }
          ],
          "scattergeo": [
           {
            "marker": {
             "colorbar": {
              "outlinewidth": 0,
              "ticks": ""
             }
            },
            "type": "scattergeo"
           }
          ],
          "scattergl": [
           {
            "marker": {
             "colorbar": {
              "outlinewidth": 0,
              "ticks": ""
             }
            },
            "type": "scattergl"
           }
          ],
          "scattermapbox": [
           {
            "marker": {
             "colorbar": {
              "outlinewidth": 0,
              "ticks": ""
             }
            },
            "type": "scattermapbox"
           }
          ],
          "scatterpolar": [
           {
            "marker": {
             "colorbar": {
              "outlinewidth": 0,
              "ticks": ""
             }
            },
            "type": "scatterpolar"
           }
          ],
          "scatterpolargl": [
           {
            "marker": {
             "colorbar": {
              "outlinewidth": 0,
              "ticks": ""
             }
            },
            "type": "scatterpolargl"
           }
          ],
          "scatterternary": [
           {
            "marker": {
             "colorbar": {
              "outlinewidth": 0,
              "ticks": ""
             }
            },
            "type": "scatterternary"
           }
          ],
          "surface": [
           {
            "colorbar": {
             "outlinewidth": 0,
             "ticks": ""
            },
            "colorscale": [
             [
              0,
              "#0d0887"
             ],
             [
              0.1111111111111111,
              "#46039f"
             ],
             [
              0.2222222222222222,
              "#7201a8"
             ],
             [
              0.3333333333333333,
              "#9c179e"
             ],
             [
              0.4444444444444444,
              "#bd3786"
             ],
             [
              0.5555555555555556,
              "#d8576b"
             ],
             [
              0.6666666666666666,
              "#ed7953"
             ],
             [
              0.7777777777777778,
              "#fb9f3a"
             ],
             [
              0.8888888888888888,
              "#fdca26"
             ],
             [
              1,
              "#f0f921"
             ]
            ],
            "type": "surface"
           }
          ],
          "table": [
           {
            "cells": {
             "fill": {
              "color": "#EBF0F8"
             },
             "line": {
              "color": "white"
             }
            },
            "header": {
             "fill": {
              "color": "#C8D4E3"
             },
             "line": {
              "color": "white"
             }
            },
            "type": "table"
           }
          ]
         },
         "layout": {
          "annotationdefaults": {
           "arrowcolor": "#2a3f5f",
           "arrowhead": 0,
           "arrowwidth": 1
          },
          "autotypenumbers": "strict",
          "coloraxis": {
           "colorbar": {
            "outlinewidth": 0,
            "ticks": ""
           }
          },
          "colorscale": {
           "diverging": [
            [
             0,
             "#8e0152"
            ],
            [
             0.1,
             "#c51b7d"
            ],
            [
             0.2,
             "#de77ae"
            ],
            [
             0.3,
             "#f1b6da"
            ],
            [
             0.4,
             "#fde0ef"
            ],
            [
             0.5,
             "#f7f7f7"
            ],
            [
             0.6,
             "#e6f5d0"
            ],
            [
             0.7,
             "#b8e186"
            ],
            [
             0.8,
             "#7fbc41"
            ],
            [
             0.9,
             "#4d9221"
            ],
            [
             1,
             "#276419"
            ]
           ],
           "sequential": [
            [
             0,
             "#0d0887"
            ],
            [
             0.1111111111111111,
             "#46039f"
            ],
            [
             0.2222222222222222,
             "#7201a8"
            ],
            [
             0.3333333333333333,
             "#9c179e"
            ],
            [
             0.4444444444444444,
             "#bd3786"
            ],
            [
             0.5555555555555556,
             "#d8576b"
            ],
            [
             0.6666666666666666,
             "#ed7953"
            ],
            [
             0.7777777777777778,
             "#fb9f3a"
            ],
            [
             0.8888888888888888,
             "#fdca26"
            ],
            [
             1,
             "#f0f921"
            ]
           ],
           "sequentialminus": [
            [
             0,
             "#0d0887"
            ],
            [
             0.1111111111111111,
             "#46039f"
            ],
            [
             0.2222222222222222,
             "#7201a8"
            ],
            [
             0.3333333333333333,
             "#9c179e"
            ],
            [
             0.4444444444444444,
             "#bd3786"
            ],
            [
             0.5555555555555556,
             "#d8576b"
            ],
            [
             0.6666666666666666,
             "#ed7953"
            ],
            [
             0.7777777777777778,
             "#fb9f3a"
            ],
            [
             0.8888888888888888,
             "#fdca26"
            ],
            [
             1,
             "#f0f921"
            ]
           ]
          },
          "colorway": [
           "#636efa",
           "#EF553B",
           "#00cc96",
           "#ab63fa",
           "#FFA15A",
           "#19d3f3",
           "#FF6692",
           "#B6E880",
           "#FF97FF",
           "#FECB52"
          ],
          "font": {
           "color": "#2a3f5f"
          },
          "geo": {
           "bgcolor": "white",
           "lakecolor": "white",
           "landcolor": "#E5ECF6",
           "showlakes": true,
           "showland": true,
           "subunitcolor": "white"
          },
          "hoverlabel": {
           "align": "left"
          },
          "hovermode": "closest",
          "mapbox": {
           "style": "light"
          },
          "paper_bgcolor": "white",
          "plot_bgcolor": "#E5ECF6",
          "polar": {
           "angularaxis": {
            "gridcolor": "white",
            "linecolor": "white",
            "ticks": ""
           },
           "bgcolor": "#E5ECF6",
           "radialaxis": {
            "gridcolor": "white",
            "linecolor": "white",
            "ticks": ""
           }
          },
          "scene": {
           "xaxis": {
            "backgroundcolor": "#E5ECF6",
            "gridcolor": "white",
            "gridwidth": 2,
            "linecolor": "white",
            "showbackground": true,
            "ticks": "",
            "zerolinecolor": "white"
           },
           "yaxis": {
            "backgroundcolor": "#E5ECF6",
            "gridcolor": "white",
            "gridwidth": 2,
            "linecolor": "white",
            "showbackground": true,
            "ticks": "",
            "zerolinecolor": "white"
           },
           "zaxis": {
            "backgroundcolor": "#E5ECF6",
            "gridcolor": "white",
            "gridwidth": 2,
            "linecolor": "white",
            "showbackground": true,
            "ticks": "",
            "zerolinecolor": "white"
           }
          },
          "shapedefaults": {
           "line": {
            "color": "#2a3f5f"
           }
          },
          "ternary": {
           "aaxis": {
            "gridcolor": "white",
            "linecolor": "white",
            "ticks": ""
           },
           "baxis": {
            "gridcolor": "white",
            "linecolor": "white",
            "ticks": ""
           },
           "bgcolor": "#E5ECF6",
           "caxis": {
            "gridcolor": "white",
            "linecolor": "white",
            "ticks": ""
           }
          },
          "title": {
           "x": 0.05
          },
          "xaxis": {
           "automargin": true,
           "gridcolor": "white",
           "linecolor": "white",
           "ticks": "",
           "title": {
            "standoff": 15
           },
           "zerolinecolor": "white",
           "zerolinewidth": 2
          },
          "yaxis": {
           "automargin": true,
           "gridcolor": "white",
           "linecolor": "white",
           "ticks": "",
           "title": {
            "standoff": 15
           },
           "zerolinecolor": "white",
           "zerolinewidth": 2
          }
         }
        },
        "xaxis": {
         "anchor": "y",
         "categoryarray": [
          "CASH_IN",
          "CASH_OUT",
          "DEBIT",
          "PAYMENT",
          "TRANSFER"
         ],
         "categoryorder": "array",
         "domain": [
          0,
          1
         ],
         "title": {
          "text": "type"
         }
        },
        "yaxis": {
         "anchor": "x",
         "domain": [
          0,
          1
         ],
         "title": {
          "text": "sum of isFraud"
         }
        }
       }
      }
     },
     "metadata": {},
     "output_type": "display_data"
    }
   ],
   "source": [
    "# Group by type of operation the number of frauds commited.\n",
    "\n",
    "df_type = pd.DataFrame(categ_var_df.groupby(('type'), \n",
    "as_index=False)['isFraud'].sum())\n",
    "\n",
    "# Plot an histogram of 'df_type'\n",
    "\n",
    "fig = px.histogram(df_type, x='type', y='isFraud', color='type')\n",
    "fig.show()"
   ]
  },
  {
   "cell_type": "markdown",
   "id": "bace93c9",
   "metadata": {},
   "source": [
    "**Detectamos que los fráudes se comenten principalmente en las operaciones de tipo transferencia y cash out.**"
   ]
  },
  {
   "cell_type": "markdown",
   "id": "16a6e74e",
   "metadata": {},
   "source": [
    "### Análisis por género. ¿Según el género, quienes son los mas probables de cometer fraude?"
   ]
  },
  {
   "cell_type": "code",
   "execution_count": 26,
   "id": "db79c468",
   "metadata": {},
   "outputs": [
    {
     "data": {
      "application/vnd.plotly.v1+json": {
       "config": {
        "plotlyServerURL": "https://plot.ly"
       },
       "data": [
        {
         "alignmentgroup": "True",
         "hovertemplate": "gender=%{x}<br>isFraud=%{y}<extra></extra>",
         "legendgroup": "man",
         "marker": {
          "color": "#636efa",
          "pattern": {
           "shape": ""
          }
         },
         "name": "man",
         "offsetgroup": "man",
         "orientation": "v",
         "showlegend": true,
         "textposition": "auto",
         "type": "bar",
         "x": [
          "man"
         ],
         "xaxis": "x",
         "y": [
          293
         ],
         "yaxis": "y"
        },
        {
         "alignmentgroup": "True",
         "hovertemplate": "gender=%{x}<br>isFraud=%{y}<extra></extra>",
         "legendgroup": "unknow",
         "marker": {
          "color": "#EF553B",
          "pattern": {
           "shape": ""
          }
         },
         "name": "unknow",
         "offsetgroup": "unknow",
         "orientation": "v",
         "showlegend": true,
         "textposition": "auto",
         "type": "bar",
         "x": [
          "unknow"
         ],
         "xaxis": "x",
         "y": [
          344
         ],
         "yaxis": "y"
        },
        {
         "alignmentgroup": "True",
         "hovertemplate": "gender=%{x}<br>isFraud=%{y}<extra></extra>",
         "legendgroup": "woman",
         "marker": {
          "color": "#00cc96",
          "pattern": {
           "shape": ""
          }
         },
         "name": "woman",
         "offsetgroup": "woman",
         "orientation": "v",
         "showlegend": true,
         "textposition": "auto",
         "type": "bar",
         "x": [
          "woman"
         ],
         "xaxis": "x",
         "y": [
          400
         ],
         "yaxis": "y"
        }
       ],
       "layout": {
        "barmode": "relative",
        "legend": {
         "title": {
          "text": "gender"
         },
         "tracegroupgap": 0
        },
        "margin": {
         "t": 60
        },
        "template": {
         "data": {
          "bar": [
           {
            "error_x": {
             "color": "#2a3f5f"
            },
            "error_y": {
             "color": "#2a3f5f"
            },
            "marker": {
             "line": {
              "color": "#E5ECF6",
              "width": 0.5
             },
             "pattern": {
              "fillmode": "overlay",
              "size": 10,
              "solidity": 0.2
             }
            },
            "type": "bar"
           }
          ],
          "barpolar": [
           {
            "marker": {
             "line": {
              "color": "#E5ECF6",
              "width": 0.5
             },
             "pattern": {
              "fillmode": "overlay",
              "size": 10,
              "solidity": 0.2
             }
            },
            "type": "barpolar"
           }
          ],
          "carpet": [
           {
            "aaxis": {
             "endlinecolor": "#2a3f5f",
             "gridcolor": "white",
             "linecolor": "white",
             "minorgridcolor": "white",
             "startlinecolor": "#2a3f5f"
            },
            "baxis": {
             "endlinecolor": "#2a3f5f",
             "gridcolor": "white",
             "linecolor": "white",
             "minorgridcolor": "white",
             "startlinecolor": "#2a3f5f"
            },
            "type": "carpet"
           }
          ],
          "choropleth": [
           {
            "colorbar": {
             "outlinewidth": 0,
             "ticks": ""
            },
            "type": "choropleth"
           }
          ],
          "contour": [
           {
            "colorbar": {
             "outlinewidth": 0,
             "ticks": ""
            },
            "colorscale": [
             [
              0,
              "#0d0887"
             ],
             [
              0.1111111111111111,
              "#46039f"
             ],
             [
              0.2222222222222222,
              "#7201a8"
             ],
             [
              0.3333333333333333,
              "#9c179e"
             ],
             [
              0.4444444444444444,
              "#bd3786"
             ],
             [
              0.5555555555555556,
              "#d8576b"
             ],
             [
              0.6666666666666666,
              "#ed7953"
             ],
             [
              0.7777777777777778,
              "#fb9f3a"
             ],
             [
              0.8888888888888888,
              "#fdca26"
             ],
             [
              1,
              "#f0f921"
             ]
            ],
            "type": "contour"
           }
          ],
          "contourcarpet": [
           {
            "colorbar": {
             "outlinewidth": 0,
             "ticks": ""
            },
            "type": "contourcarpet"
           }
          ],
          "heatmap": [
           {
            "colorbar": {
             "outlinewidth": 0,
             "ticks": ""
            },
            "colorscale": [
             [
              0,
              "#0d0887"
             ],
             [
              0.1111111111111111,
              "#46039f"
             ],
             [
              0.2222222222222222,
              "#7201a8"
             ],
             [
              0.3333333333333333,
              "#9c179e"
             ],
             [
              0.4444444444444444,
              "#bd3786"
             ],
             [
              0.5555555555555556,
              "#d8576b"
             ],
             [
              0.6666666666666666,
              "#ed7953"
             ],
             [
              0.7777777777777778,
              "#fb9f3a"
             ],
             [
              0.8888888888888888,
              "#fdca26"
             ],
             [
              1,
              "#f0f921"
             ]
            ],
            "type": "heatmap"
           }
          ],
          "heatmapgl": [
           {
            "colorbar": {
             "outlinewidth": 0,
             "ticks": ""
            },
            "colorscale": [
             [
              0,
              "#0d0887"
             ],
             [
              0.1111111111111111,
              "#46039f"
             ],
             [
              0.2222222222222222,
              "#7201a8"
             ],
             [
              0.3333333333333333,
              "#9c179e"
             ],
             [
              0.4444444444444444,
              "#bd3786"
             ],
             [
              0.5555555555555556,
              "#d8576b"
             ],
             [
              0.6666666666666666,
              "#ed7953"
             ],
             [
              0.7777777777777778,
              "#fb9f3a"
             ],
             [
              0.8888888888888888,
              "#fdca26"
             ],
             [
              1,
              "#f0f921"
             ]
            ],
            "type": "heatmapgl"
           }
          ],
          "histogram": [
           {
            "marker": {
             "pattern": {
              "fillmode": "overlay",
              "size": 10,
              "solidity": 0.2
             }
            },
            "type": "histogram"
           }
          ],
          "histogram2d": [
           {
            "colorbar": {
             "outlinewidth": 0,
             "ticks": ""
            },
            "colorscale": [
             [
              0,
              "#0d0887"
             ],
             [
              0.1111111111111111,
              "#46039f"
             ],
             [
              0.2222222222222222,
              "#7201a8"
             ],
             [
              0.3333333333333333,
              "#9c179e"
             ],
             [
              0.4444444444444444,
              "#bd3786"
             ],
             [
              0.5555555555555556,
              "#d8576b"
             ],
             [
              0.6666666666666666,
              "#ed7953"
             ],
             [
              0.7777777777777778,
              "#fb9f3a"
             ],
             [
              0.8888888888888888,
              "#fdca26"
             ],
             [
              1,
              "#f0f921"
             ]
            ],
            "type": "histogram2d"
           }
          ],
          "histogram2dcontour": [
           {
            "colorbar": {
             "outlinewidth": 0,
             "ticks": ""
            },
            "colorscale": [
             [
              0,
              "#0d0887"
             ],
             [
              0.1111111111111111,
              "#46039f"
             ],
             [
              0.2222222222222222,
              "#7201a8"
             ],
             [
              0.3333333333333333,
              "#9c179e"
             ],
             [
              0.4444444444444444,
              "#bd3786"
             ],
             [
              0.5555555555555556,
              "#d8576b"
             ],
             [
              0.6666666666666666,
              "#ed7953"
             ],
             [
              0.7777777777777778,
              "#fb9f3a"
             ],
             [
              0.8888888888888888,
              "#fdca26"
             ],
             [
              1,
              "#f0f921"
             ]
            ],
            "type": "histogram2dcontour"
           }
          ],
          "mesh3d": [
           {
            "colorbar": {
             "outlinewidth": 0,
             "ticks": ""
            },
            "type": "mesh3d"
           }
          ],
          "parcoords": [
           {
            "line": {
             "colorbar": {
              "outlinewidth": 0,
              "ticks": ""
             }
            },
            "type": "parcoords"
           }
          ],
          "pie": [
           {
            "automargin": true,
            "type": "pie"
           }
          ],
          "scatter": [
           {
            "fillpattern": {
             "fillmode": "overlay",
             "size": 10,
             "solidity": 0.2
            },
            "type": "scatter"
           }
          ],
          "scatter3d": [
           {
            "line": {
             "colorbar": {
              "outlinewidth": 0,
              "ticks": ""
             }
            },
            "marker": {
             "colorbar": {
              "outlinewidth": 0,
              "ticks": ""
             }
            },
            "type": "scatter3d"
           }
          ],
          "scattercarpet": [
           {
            "marker": {
             "colorbar": {
              "outlinewidth": 0,
              "ticks": ""
             }
            },
            "type": "scattercarpet"
           }
          ],
          "scattergeo": [
           {
            "marker": {
             "colorbar": {
              "outlinewidth": 0,
              "ticks": ""
             }
            },
            "type": "scattergeo"
           }
          ],
          "scattergl": [
           {
            "marker": {
             "colorbar": {
              "outlinewidth": 0,
              "ticks": ""
             }
            },
            "type": "scattergl"
           }
          ],
          "scattermapbox": [
           {
            "marker": {
             "colorbar": {
              "outlinewidth": 0,
              "ticks": ""
             }
            },
            "type": "scattermapbox"
           }
          ],
          "scatterpolar": [
           {
            "marker": {
             "colorbar": {
              "outlinewidth": 0,
              "ticks": ""
             }
            },
            "type": "scatterpolar"
           }
          ],
          "scatterpolargl": [
           {
            "marker": {
             "colorbar": {
              "outlinewidth": 0,
              "ticks": ""
             }
            },
            "type": "scatterpolargl"
           }
          ],
          "scatterternary": [
           {
            "marker": {
             "colorbar": {
              "outlinewidth": 0,
              "ticks": ""
             }
            },
            "type": "scatterternary"
           }
          ],
          "surface": [
           {
            "colorbar": {
             "outlinewidth": 0,
             "ticks": ""
            },
            "colorscale": [
             [
              0,
              "#0d0887"
             ],
             [
              0.1111111111111111,
              "#46039f"
             ],
             [
              0.2222222222222222,
              "#7201a8"
             ],
             [
              0.3333333333333333,
              "#9c179e"
             ],
             [
              0.4444444444444444,
              "#bd3786"
             ],
             [
              0.5555555555555556,
              "#d8576b"
             ],
             [
              0.6666666666666666,
              "#ed7953"
             ],
             [
              0.7777777777777778,
              "#fb9f3a"
             ],
             [
              0.8888888888888888,
              "#fdca26"
             ],
             [
              1,
              "#f0f921"
             ]
            ],
            "type": "surface"
           }
          ],
          "table": [
           {
            "cells": {
             "fill": {
              "color": "#EBF0F8"
             },
             "line": {
              "color": "white"
             }
            },
            "header": {
             "fill": {
              "color": "#C8D4E3"
             },
             "line": {
              "color": "white"
             }
            },
            "type": "table"
           }
          ]
         },
         "layout": {
          "annotationdefaults": {
           "arrowcolor": "#2a3f5f",
           "arrowhead": 0,
           "arrowwidth": 1
          },
          "autotypenumbers": "strict",
          "coloraxis": {
           "colorbar": {
            "outlinewidth": 0,
            "ticks": ""
           }
          },
          "colorscale": {
           "diverging": [
            [
             0,
             "#8e0152"
            ],
            [
             0.1,
             "#c51b7d"
            ],
            [
             0.2,
             "#de77ae"
            ],
            [
             0.3,
             "#f1b6da"
            ],
            [
             0.4,
             "#fde0ef"
            ],
            [
             0.5,
             "#f7f7f7"
            ],
            [
             0.6,
             "#e6f5d0"
            ],
            [
             0.7,
             "#b8e186"
            ],
            [
             0.8,
             "#7fbc41"
            ],
            [
             0.9,
             "#4d9221"
            ],
            [
             1,
             "#276419"
            ]
           ],
           "sequential": [
            [
             0,
             "#0d0887"
            ],
            [
             0.1111111111111111,
             "#46039f"
            ],
            [
             0.2222222222222222,
             "#7201a8"
            ],
            [
             0.3333333333333333,
             "#9c179e"
            ],
            [
             0.4444444444444444,
             "#bd3786"
            ],
            [
             0.5555555555555556,
             "#d8576b"
            ],
            [
             0.6666666666666666,
             "#ed7953"
            ],
            [
             0.7777777777777778,
             "#fb9f3a"
            ],
            [
             0.8888888888888888,
             "#fdca26"
            ],
            [
             1,
             "#f0f921"
            ]
           ],
           "sequentialminus": [
            [
             0,
             "#0d0887"
            ],
            [
             0.1111111111111111,
             "#46039f"
            ],
            [
             0.2222222222222222,
             "#7201a8"
            ],
            [
             0.3333333333333333,
             "#9c179e"
            ],
            [
             0.4444444444444444,
             "#bd3786"
            ],
            [
             0.5555555555555556,
             "#d8576b"
            ],
            [
             0.6666666666666666,
             "#ed7953"
            ],
            [
             0.7777777777777778,
             "#fb9f3a"
            ],
            [
             0.8888888888888888,
             "#fdca26"
            ],
            [
             1,
             "#f0f921"
            ]
           ]
          },
          "colorway": [
           "#636efa",
           "#EF553B",
           "#00cc96",
           "#ab63fa",
           "#FFA15A",
           "#19d3f3",
           "#FF6692",
           "#B6E880",
           "#FF97FF",
           "#FECB52"
          ],
          "font": {
           "color": "#2a3f5f"
          },
          "geo": {
           "bgcolor": "white",
           "lakecolor": "white",
           "landcolor": "#E5ECF6",
           "showlakes": true,
           "showland": true,
           "subunitcolor": "white"
          },
          "hoverlabel": {
           "align": "left"
          },
          "hovermode": "closest",
          "mapbox": {
           "style": "light"
          },
          "paper_bgcolor": "white",
          "plot_bgcolor": "#E5ECF6",
          "polar": {
           "angularaxis": {
            "gridcolor": "white",
            "linecolor": "white",
            "ticks": ""
           },
           "bgcolor": "#E5ECF6",
           "radialaxis": {
            "gridcolor": "white",
            "linecolor": "white",
            "ticks": ""
           }
          },
          "scene": {
           "xaxis": {
            "backgroundcolor": "#E5ECF6",
            "gridcolor": "white",
            "gridwidth": 2,
            "linecolor": "white",
            "showbackground": true,
            "ticks": "",
            "zerolinecolor": "white"
           },
           "yaxis": {
            "backgroundcolor": "#E5ECF6",
            "gridcolor": "white",
            "gridwidth": 2,
            "linecolor": "white",
            "showbackground": true,
            "ticks": "",
            "zerolinecolor": "white"
           },
           "zaxis": {
            "backgroundcolor": "#E5ECF6",
            "gridcolor": "white",
            "gridwidth": 2,
            "linecolor": "white",
            "showbackground": true,
            "ticks": "",
            "zerolinecolor": "white"
           }
          },
          "shapedefaults": {
           "line": {
            "color": "#2a3f5f"
           }
          },
          "ternary": {
           "aaxis": {
            "gridcolor": "white",
            "linecolor": "white",
            "ticks": ""
           },
           "baxis": {
            "gridcolor": "white",
            "linecolor": "white",
            "ticks": ""
           },
           "bgcolor": "#E5ECF6",
           "caxis": {
            "gridcolor": "white",
            "linecolor": "white",
            "ticks": ""
           }
          },
          "title": {
           "x": 0.05
          },
          "xaxis": {
           "automargin": true,
           "gridcolor": "white",
           "linecolor": "white",
           "ticks": "",
           "title": {
            "standoff": 15
           },
           "zerolinecolor": "white",
           "zerolinewidth": 2
          },
          "yaxis": {
           "automargin": true,
           "gridcolor": "white",
           "linecolor": "white",
           "ticks": "",
           "title": {
            "standoff": 15
           },
           "zerolinecolor": "white",
           "zerolinewidth": 2
          }
         }
        },
        "xaxis": {
         "anchor": "y",
         "categoryarray": [
          "man",
          "unknow",
          "woman"
         ],
         "categoryorder": "array",
         "domain": [
          0,
          1
         ],
         "title": {
          "text": "gender"
         }
        },
        "yaxis": {
         "anchor": "x",
         "domain": [
          0,
          1
         ],
         "title": {
          "text": "isFraud"
         }
        }
       }
      }
     },
     "metadata": {},
     "output_type": "display_data"
    }
   ],
   "source": [
    "# Group by type of operation the number of frauds commited.\n",
    "\n",
    "df_gender = pd.DataFrame(categ_var_df.groupby(('gender'), \n",
    "as_index=False)['isFraud'].sum())\n",
    "\n",
    "# Plot an histogram of 'df_gender'\n",
    "\n",
    "fig = px.bar(df_gender, x='gender', y='isFraud', color='gender')\n",
    "fig.show()\n"
   ]
  },
  {
   "cell_type": "markdown",
   "id": "624e3e9a",
   "metadata": {},
   "source": [
    "**El gráfico idndica una proporción similar, sin embargo, las mujeres estan ligeramente por encima. Como hay una categoria donde el género es desconocido no podemos concluir qué género es más propenso a cometer fráudes.**"
   ]
  },
  {
   "cell_type": "markdown",
   "id": "7ce6ad35",
   "metadata": {},
   "source": [
    "### Análisis por dispositivo. ¿A través de que tipo de dispositivo se realizan más fraudes?"
   ]
  },
  {
   "cell_type": "code",
   "execution_count": 27,
   "id": "04f77678",
   "metadata": {},
   "outputs": [
    {
     "data": {
      "application/vnd.plotly.v1+json": {
       "config": {
        "plotlyServerURL": "https://plot.ly"
       },
       "data": [
        {
         "alignmentgroup": "True",
         "bingroup": "x",
         "histfunc": "sum",
         "hovertemplate": "device=%{x}<br>sum of isFraud=%{y}<extra></extra>",
         "legendgroup": "iphone",
         "marker": {
          "color": "#636efa",
          "pattern": {
           "shape": ""
          }
         },
         "name": "iphone",
         "offsetgroup": "iphone",
         "orientation": "v",
         "showlegend": true,
         "type": "histogram",
         "x": [
          "iphone"
         ],
         "xaxis": "x",
         "y": [
          295
         ],
         "yaxis": "y"
        },
        {
         "alignmentgroup": "True",
         "bingroup": "x",
         "histfunc": "sum",
         "hovertemplate": "device=%{x}<br>sum of isFraud=%{y}<extra></extra>",
         "legendgroup": "mac",
         "marker": {
          "color": "#EF553B",
          "pattern": {
           "shape": ""
          }
         },
         "name": "mac",
         "offsetgroup": "mac",
         "orientation": "v",
         "showlegend": true,
         "type": "histogram",
         "x": [
          "mac"
         ],
         "xaxis": "x",
         "y": [
          389
         ],
         "yaxis": "y"
        },
        {
         "alignmentgroup": "True",
         "bingroup": "x",
         "histfunc": "sum",
         "hovertemplate": "device=%{x}<br>sum of isFraud=%{y}<extra></extra>",
         "legendgroup": "pc",
         "marker": {
          "color": "#00cc96",
          "pattern": {
           "shape": ""
          }
         },
         "name": "pc",
         "offsetgroup": "pc",
         "orientation": "v",
         "showlegend": true,
         "type": "histogram",
         "x": [
          "pc"
         ],
         "xaxis": "x",
         "y": [
          339
         ],
         "yaxis": "y"
        }
       ],
       "layout": {
        "barmode": "relative",
        "legend": {
         "title": {
          "text": "device"
         },
         "tracegroupgap": 0
        },
        "margin": {
         "t": 60
        },
        "template": {
         "data": {
          "bar": [
           {
            "error_x": {
             "color": "#2a3f5f"
            },
            "error_y": {
             "color": "#2a3f5f"
            },
            "marker": {
             "line": {
              "color": "#E5ECF6",
              "width": 0.5
             },
             "pattern": {
              "fillmode": "overlay",
              "size": 10,
              "solidity": 0.2
             }
            },
            "type": "bar"
           }
          ],
          "barpolar": [
           {
            "marker": {
             "line": {
              "color": "#E5ECF6",
              "width": 0.5
             },
             "pattern": {
              "fillmode": "overlay",
              "size": 10,
              "solidity": 0.2
             }
            },
            "type": "barpolar"
           }
          ],
          "carpet": [
           {
            "aaxis": {
             "endlinecolor": "#2a3f5f",
             "gridcolor": "white",
             "linecolor": "white",
             "minorgridcolor": "white",
             "startlinecolor": "#2a3f5f"
            },
            "baxis": {
             "endlinecolor": "#2a3f5f",
             "gridcolor": "white",
             "linecolor": "white",
             "minorgridcolor": "white",
             "startlinecolor": "#2a3f5f"
            },
            "type": "carpet"
           }
          ],
          "choropleth": [
           {
            "colorbar": {
             "outlinewidth": 0,
             "ticks": ""
            },
            "type": "choropleth"
           }
          ],
          "contour": [
           {
            "colorbar": {
             "outlinewidth": 0,
             "ticks": ""
            },
            "colorscale": [
             [
              0,
              "#0d0887"
             ],
             [
              0.1111111111111111,
              "#46039f"
             ],
             [
              0.2222222222222222,
              "#7201a8"
             ],
             [
              0.3333333333333333,
              "#9c179e"
             ],
             [
              0.4444444444444444,
              "#bd3786"
             ],
             [
              0.5555555555555556,
              "#d8576b"
             ],
             [
              0.6666666666666666,
              "#ed7953"
             ],
             [
              0.7777777777777778,
              "#fb9f3a"
             ],
             [
              0.8888888888888888,
              "#fdca26"
             ],
             [
              1,
              "#f0f921"
             ]
            ],
            "type": "contour"
           }
          ],
          "contourcarpet": [
           {
            "colorbar": {
             "outlinewidth": 0,
             "ticks": ""
            },
            "type": "contourcarpet"
           }
          ],
          "heatmap": [
           {
            "colorbar": {
             "outlinewidth": 0,
             "ticks": ""
            },
            "colorscale": [
             [
              0,
              "#0d0887"
             ],
             [
              0.1111111111111111,
              "#46039f"
             ],
             [
              0.2222222222222222,
              "#7201a8"
             ],
             [
              0.3333333333333333,
              "#9c179e"
             ],
             [
              0.4444444444444444,
              "#bd3786"
             ],
             [
              0.5555555555555556,
              "#d8576b"
             ],
             [
              0.6666666666666666,
              "#ed7953"
             ],
             [
              0.7777777777777778,
              "#fb9f3a"
             ],
             [
              0.8888888888888888,
              "#fdca26"
             ],
             [
              1,
              "#f0f921"
             ]
            ],
            "type": "heatmap"
           }
          ],
          "heatmapgl": [
           {
            "colorbar": {
             "outlinewidth": 0,
             "ticks": ""
            },
            "colorscale": [
             [
              0,
              "#0d0887"
             ],
             [
              0.1111111111111111,
              "#46039f"
             ],
             [
              0.2222222222222222,
              "#7201a8"
             ],
             [
              0.3333333333333333,
              "#9c179e"
             ],
             [
              0.4444444444444444,
              "#bd3786"
             ],
             [
              0.5555555555555556,
              "#d8576b"
             ],
             [
              0.6666666666666666,
              "#ed7953"
             ],
             [
              0.7777777777777778,
              "#fb9f3a"
             ],
             [
              0.8888888888888888,
              "#fdca26"
             ],
             [
              1,
              "#f0f921"
             ]
            ],
            "type": "heatmapgl"
           }
          ],
          "histogram": [
           {
            "marker": {
             "pattern": {
              "fillmode": "overlay",
              "size": 10,
              "solidity": 0.2
             }
            },
            "type": "histogram"
           }
          ],
          "histogram2d": [
           {
            "colorbar": {
             "outlinewidth": 0,
             "ticks": ""
            },
            "colorscale": [
             [
              0,
              "#0d0887"
             ],
             [
              0.1111111111111111,
              "#46039f"
             ],
             [
              0.2222222222222222,
              "#7201a8"
             ],
             [
              0.3333333333333333,
              "#9c179e"
             ],
             [
              0.4444444444444444,
              "#bd3786"
             ],
             [
              0.5555555555555556,
              "#d8576b"
             ],
             [
              0.6666666666666666,
              "#ed7953"
             ],
             [
              0.7777777777777778,
              "#fb9f3a"
             ],
             [
              0.8888888888888888,
              "#fdca26"
             ],
             [
              1,
              "#f0f921"
             ]
            ],
            "type": "histogram2d"
           }
          ],
          "histogram2dcontour": [
           {
            "colorbar": {
             "outlinewidth": 0,
             "ticks": ""
            },
            "colorscale": [
             [
              0,
              "#0d0887"
             ],
             [
              0.1111111111111111,
              "#46039f"
             ],
             [
              0.2222222222222222,
              "#7201a8"
             ],
             [
              0.3333333333333333,
              "#9c179e"
             ],
             [
              0.4444444444444444,
              "#bd3786"
             ],
             [
              0.5555555555555556,
              "#d8576b"
             ],
             [
              0.6666666666666666,
              "#ed7953"
             ],
             [
              0.7777777777777778,
              "#fb9f3a"
             ],
             [
              0.8888888888888888,
              "#fdca26"
             ],
             [
              1,
              "#f0f921"
             ]
            ],
            "type": "histogram2dcontour"
           }
          ],
          "mesh3d": [
           {
            "colorbar": {
             "outlinewidth": 0,
             "ticks": ""
            },
            "type": "mesh3d"
           }
          ],
          "parcoords": [
           {
            "line": {
             "colorbar": {
              "outlinewidth": 0,
              "ticks": ""
             }
            },
            "type": "parcoords"
           }
          ],
          "pie": [
           {
            "automargin": true,
            "type": "pie"
           }
          ],
          "scatter": [
           {
            "fillpattern": {
             "fillmode": "overlay",
             "size": 10,
             "solidity": 0.2
            },
            "type": "scatter"
           }
          ],
          "scatter3d": [
           {
            "line": {
             "colorbar": {
              "outlinewidth": 0,
              "ticks": ""
             }
            },
            "marker": {
             "colorbar": {
              "outlinewidth": 0,
              "ticks": ""
             }
            },
            "type": "scatter3d"
           }
          ],
          "scattercarpet": [
           {
            "marker": {
             "colorbar": {
              "outlinewidth": 0,
              "ticks": ""
             }
            },
            "type": "scattercarpet"
           }
          ],
          "scattergeo": [
           {
            "marker": {
             "colorbar": {
              "outlinewidth": 0,
              "ticks": ""
             }
            },
            "type": "scattergeo"
           }
          ],
          "scattergl": [
           {
            "marker": {
             "colorbar": {
              "outlinewidth": 0,
              "ticks": ""
             }
            },
            "type": "scattergl"
           }
          ],
          "scattermapbox": [
           {
            "marker": {
             "colorbar": {
              "outlinewidth": 0,
              "ticks": ""
             }
            },
            "type": "scattermapbox"
           }
          ],
          "scatterpolar": [
           {
            "marker": {
             "colorbar": {
              "outlinewidth": 0,
              "ticks": ""
             }
            },
            "type": "scatterpolar"
           }
          ],
          "scatterpolargl": [
           {
            "marker": {
             "colorbar": {
              "outlinewidth": 0,
              "ticks": ""
             }
            },
            "type": "scatterpolargl"
           }
          ],
          "scatterternary": [
           {
            "marker": {
             "colorbar": {
              "outlinewidth": 0,
              "ticks": ""
             }
            },
            "type": "scatterternary"
           }
          ],
          "surface": [
           {
            "colorbar": {
             "outlinewidth": 0,
             "ticks": ""
            },
            "colorscale": [
             [
              0,
              "#0d0887"
             ],
             [
              0.1111111111111111,
              "#46039f"
             ],
             [
              0.2222222222222222,
              "#7201a8"
             ],
             [
              0.3333333333333333,
              "#9c179e"
             ],
             [
              0.4444444444444444,
              "#bd3786"
             ],
             [
              0.5555555555555556,
              "#d8576b"
             ],
             [
              0.6666666666666666,
              "#ed7953"
             ],
             [
              0.7777777777777778,
              "#fb9f3a"
             ],
             [
              0.8888888888888888,
              "#fdca26"
             ],
             [
              1,
              "#f0f921"
             ]
            ],
            "type": "surface"
           }
          ],
          "table": [
           {
            "cells": {
             "fill": {
              "color": "#EBF0F8"
             },
             "line": {
              "color": "white"
             }
            },
            "header": {
             "fill": {
              "color": "#C8D4E3"
             },
             "line": {
              "color": "white"
             }
            },
            "type": "table"
           }
          ]
         },
         "layout": {
          "annotationdefaults": {
           "arrowcolor": "#2a3f5f",
           "arrowhead": 0,
           "arrowwidth": 1
          },
          "autotypenumbers": "strict",
          "coloraxis": {
           "colorbar": {
            "outlinewidth": 0,
            "ticks": ""
           }
          },
          "colorscale": {
           "diverging": [
            [
             0,
             "#8e0152"
            ],
            [
             0.1,
             "#c51b7d"
            ],
            [
             0.2,
             "#de77ae"
            ],
            [
             0.3,
             "#f1b6da"
            ],
            [
             0.4,
             "#fde0ef"
            ],
            [
             0.5,
             "#f7f7f7"
            ],
            [
             0.6,
             "#e6f5d0"
            ],
            [
             0.7,
             "#b8e186"
            ],
            [
             0.8,
             "#7fbc41"
            ],
            [
             0.9,
             "#4d9221"
            ],
            [
             1,
             "#276419"
            ]
           ],
           "sequential": [
            [
             0,
             "#0d0887"
            ],
            [
             0.1111111111111111,
             "#46039f"
            ],
            [
             0.2222222222222222,
             "#7201a8"
            ],
            [
             0.3333333333333333,
             "#9c179e"
            ],
            [
             0.4444444444444444,
             "#bd3786"
            ],
            [
             0.5555555555555556,
             "#d8576b"
            ],
            [
             0.6666666666666666,
             "#ed7953"
            ],
            [
             0.7777777777777778,
             "#fb9f3a"
            ],
            [
             0.8888888888888888,
             "#fdca26"
            ],
            [
             1,
             "#f0f921"
            ]
           ],
           "sequentialminus": [
            [
             0,
             "#0d0887"
            ],
            [
             0.1111111111111111,
             "#46039f"
            ],
            [
             0.2222222222222222,
             "#7201a8"
            ],
            [
             0.3333333333333333,
             "#9c179e"
            ],
            [
             0.4444444444444444,
             "#bd3786"
            ],
            [
             0.5555555555555556,
             "#d8576b"
            ],
            [
             0.6666666666666666,
             "#ed7953"
            ],
            [
             0.7777777777777778,
             "#fb9f3a"
            ],
            [
             0.8888888888888888,
             "#fdca26"
            ],
            [
             1,
             "#f0f921"
            ]
           ]
          },
          "colorway": [
           "#636efa",
           "#EF553B",
           "#00cc96",
           "#ab63fa",
           "#FFA15A",
           "#19d3f3",
           "#FF6692",
           "#B6E880",
           "#FF97FF",
           "#FECB52"
          ],
          "font": {
           "color": "#2a3f5f"
          },
          "geo": {
           "bgcolor": "white",
           "lakecolor": "white",
           "landcolor": "#E5ECF6",
           "showlakes": true,
           "showland": true,
           "subunitcolor": "white"
          },
          "hoverlabel": {
           "align": "left"
          },
          "hovermode": "closest",
          "mapbox": {
           "style": "light"
          },
          "paper_bgcolor": "white",
          "plot_bgcolor": "#E5ECF6",
          "polar": {
           "angularaxis": {
            "gridcolor": "white",
            "linecolor": "white",
            "ticks": ""
           },
           "bgcolor": "#E5ECF6",
           "radialaxis": {
            "gridcolor": "white",
            "linecolor": "white",
            "ticks": ""
           }
          },
          "scene": {
           "xaxis": {
            "backgroundcolor": "#E5ECF6",
            "gridcolor": "white",
            "gridwidth": 2,
            "linecolor": "white",
            "showbackground": true,
            "ticks": "",
            "zerolinecolor": "white"
           },
           "yaxis": {
            "backgroundcolor": "#E5ECF6",
            "gridcolor": "white",
            "gridwidth": 2,
            "linecolor": "white",
            "showbackground": true,
            "ticks": "",
            "zerolinecolor": "white"
           },
           "zaxis": {
            "backgroundcolor": "#E5ECF6",
            "gridcolor": "white",
            "gridwidth": 2,
            "linecolor": "white",
            "showbackground": true,
            "ticks": "",
            "zerolinecolor": "white"
           }
          },
          "shapedefaults": {
           "line": {
            "color": "#2a3f5f"
           }
          },
          "ternary": {
           "aaxis": {
            "gridcolor": "white",
            "linecolor": "white",
            "ticks": ""
           },
           "baxis": {
            "gridcolor": "white",
            "linecolor": "white",
            "ticks": ""
           },
           "bgcolor": "#E5ECF6",
           "caxis": {
            "gridcolor": "white",
            "linecolor": "white",
            "ticks": ""
           }
          },
          "title": {
           "x": 0.05
          },
          "xaxis": {
           "automargin": true,
           "gridcolor": "white",
           "linecolor": "white",
           "ticks": "",
           "title": {
            "standoff": 15
           },
           "zerolinecolor": "white",
           "zerolinewidth": 2
          },
          "yaxis": {
           "automargin": true,
           "gridcolor": "white",
           "linecolor": "white",
           "ticks": "",
           "title": {
            "standoff": 15
           },
           "zerolinecolor": "white",
           "zerolinewidth": 2
          }
         }
        },
        "xaxis": {
         "anchor": "y",
         "categoryarray": [
          "iphone",
          "mac",
          "pc"
         ],
         "categoryorder": "array",
         "domain": [
          0,
          1
         ],
         "title": {
          "text": "device"
         }
        },
        "yaxis": {
         "anchor": "x",
         "domain": [
          0,
          1
         ],
         "title": {
          "text": "sum of isFraud"
         }
        }
       }
      }
     },
     "metadata": {},
     "output_type": "display_data"
    }
   ],
   "source": [
    "# Group by type of operation the number of frauds commited.\n",
    "\n",
    "df_device = pd.DataFrame(categ_var_df.groupby(('device'), \n",
    "as_index=False)['isFraud'].sum())\n",
    "\n",
    "# Plot an histogram of 'df_device'\n",
    "\n",
    "fig = px.histogram(df_device, x='device', y='isFraud', color= 'device')\n",
    "fig.show()\n"
   ]
  },
  {
   "cell_type": "markdown",
   "id": "459a16e2",
   "metadata": {},
   "source": [
    "**Se desprende del gráfico que los fráudes se realizan principalmente en dispositivos de sobremesa, especialmente en ordenadores Mac.**"
   ]
  },
  {
   "cell_type": "markdown",
   "id": "d22f18ca",
   "metadata": {},
   "source": [
    "### Análisis por zona. ¿En que zonas se suelen realizar más fraudes?"
   ]
  },
  {
   "cell_type": "code",
   "execution_count": 28,
   "id": "849d0a59",
   "metadata": {},
   "outputs": [
    {
     "data": {
      "application/vnd.plotly.v1+json": {
       "config": {
        "plotlyServerURL": "https://plot.ly"
       },
       "data": [
        {
         "alignmentgroup": "True",
         "bingroup": "x",
         "histfunc": "sum",
         "hovertemplate": "zone=%{x}<br>sum of isFraud=%{y}<extra></extra>",
         "legendgroup": "africa",
         "marker": {
          "color": "#636efa",
          "pattern": {
           "shape": ""
          }
         },
         "name": "africa",
         "offsetgroup": "africa",
         "orientation": "v",
         "showlegend": true,
         "type": "histogram",
         "x": [
          "africa"
         ],
         "xaxis": "x",
         "y": [
          356
         ],
         "yaxis": "y"
        },
        {
         "alignmentgroup": "True",
         "bingroup": "x",
         "histfunc": "sum",
         "hovertemplate": "zone=%{x}<br>sum of isFraud=%{y}<extra></extra>",
         "legendgroup": "capital",
         "marker": {
          "color": "#EF553B",
          "pattern": {
           "shape": ""
          }
         },
         "name": "capital",
         "offsetgroup": "capital",
         "orientation": "v",
         "showlegend": true,
         "type": "histogram",
         "x": [
          "capital"
         ],
         "xaxis": "x",
         "y": [
          286
         ],
         "yaxis": "y"
        },
        {
         "alignmentgroup": "True",
         "bingroup": "x",
         "histfunc": "sum",
         "hovertemplate": "zone=%{x}<br>sum of isFraud=%{y}<extra></extra>",
         "legendgroup": "country",
         "marker": {
          "color": "#00cc96",
          "pattern": {
           "shape": ""
          }
         },
         "name": "country",
         "offsetgroup": "country",
         "orientation": "v",
         "showlegend": true,
         "type": "histogram",
         "x": [
          "country"
         ],
         "xaxis": "x",
         "y": [
          387
         ],
         "yaxis": "y"
        }
       ],
       "layout": {
        "barmode": "relative",
        "legend": {
         "title": {
          "text": "zone"
         },
         "tracegroupgap": 0
        },
        "margin": {
         "t": 60
        },
        "template": {
         "data": {
          "bar": [
           {
            "error_x": {
             "color": "#2a3f5f"
            },
            "error_y": {
             "color": "#2a3f5f"
            },
            "marker": {
             "line": {
              "color": "#E5ECF6",
              "width": 0.5
             },
             "pattern": {
              "fillmode": "overlay",
              "size": 10,
              "solidity": 0.2
             }
            },
            "type": "bar"
           }
          ],
          "barpolar": [
           {
            "marker": {
             "line": {
              "color": "#E5ECF6",
              "width": 0.5
             },
             "pattern": {
              "fillmode": "overlay",
              "size": 10,
              "solidity": 0.2
             }
            },
            "type": "barpolar"
           }
          ],
          "carpet": [
           {
            "aaxis": {
             "endlinecolor": "#2a3f5f",
             "gridcolor": "white",
             "linecolor": "white",
             "minorgridcolor": "white",
             "startlinecolor": "#2a3f5f"
            },
            "baxis": {
             "endlinecolor": "#2a3f5f",
             "gridcolor": "white",
             "linecolor": "white",
             "minorgridcolor": "white",
             "startlinecolor": "#2a3f5f"
            },
            "type": "carpet"
           }
          ],
          "choropleth": [
           {
            "colorbar": {
             "outlinewidth": 0,
             "ticks": ""
            },
            "type": "choropleth"
           }
          ],
          "contour": [
           {
            "colorbar": {
             "outlinewidth": 0,
             "ticks": ""
            },
            "colorscale": [
             [
              0,
              "#0d0887"
             ],
             [
              0.1111111111111111,
              "#46039f"
             ],
             [
              0.2222222222222222,
              "#7201a8"
             ],
             [
              0.3333333333333333,
              "#9c179e"
             ],
             [
              0.4444444444444444,
              "#bd3786"
             ],
             [
              0.5555555555555556,
              "#d8576b"
             ],
             [
              0.6666666666666666,
              "#ed7953"
             ],
             [
              0.7777777777777778,
              "#fb9f3a"
             ],
             [
              0.8888888888888888,
              "#fdca26"
             ],
             [
              1,
              "#f0f921"
             ]
            ],
            "type": "contour"
           }
          ],
          "contourcarpet": [
           {
            "colorbar": {
             "outlinewidth": 0,
             "ticks": ""
            },
            "type": "contourcarpet"
           }
          ],
          "heatmap": [
           {
            "colorbar": {
             "outlinewidth": 0,
             "ticks": ""
            },
            "colorscale": [
             [
              0,
              "#0d0887"
             ],
             [
              0.1111111111111111,
              "#46039f"
             ],
             [
              0.2222222222222222,
              "#7201a8"
             ],
             [
              0.3333333333333333,
              "#9c179e"
             ],
             [
              0.4444444444444444,
              "#bd3786"
             ],
             [
              0.5555555555555556,
              "#d8576b"
             ],
             [
              0.6666666666666666,
              "#ed7953"
             ],
             [
              0.7777777777777778,
              "#fb9f3a"
             ],
             [
              0.8888888888888888,
              "#fdca26"
             ],
             [
              1,
              "#f0f921"
             ]
            ],
            "type": "heatmap"
           }
          ],
          "heatmapgl": [
           {
            "colorbar": {
             "outlinewidth": 0,
             "ticks": ""
            },
            "colorscale": [
             [
              0,
              "#0d0887"
             ],
             [
              0.1111111111111111,
              "#46039f"
             ],
             [
              0.2222222222222222,
              "#7201a8"
             ],
             [
              0.3333333333333333,
              "#9c179e"
             ],
             [
              0.4444444444444444,
              "#bd3786"
             ],
             [
              0.5555555555555556,
              "#d8576b"
             ],
             [
              0.6666666666666666,
              "#ed7953"
             ],
             [
              0.7777777777777778,
              "#fb9f3a"
             ],
             [
              0.8888888888888888,
              "#fdca26"
             ],
             [
              1,
              "#f0f921"
             ]
            ],
            "type": "heatmapgl"
           }
          ],
          "histogram": [
           {
            "marker": {
             "pattern": {
              "fillmode": "overlay",
              "size": 10,
              "solidity": 0.2
             }
            },
            "type": "histogram"
           }
          ],
          "histogram2d": [
           {
            "colorbar": {
             "outlinewidth": 0,
             "ticks": ""
            },
            "colorscale": [
             [
              0,
              "#0d0887"
             ],
             [
              0.1111111111111111,
              "#46039f"
             ],
             [
              0.2222222222222222,
              "#7201a8"
             ],
             [
              0.3333333333333333,
              "#9c179e"
             ],
             [
              0.4444444444444444,
              "#bd3786"
             ],
             [
              0.5555555555555556,
              "#d8576b"
             ],
             [
              0.6666666666666666,
              "#ed7953"
             ],
             [
              0.7777777777777778,
              "#fb9f3a"
             ],
             [
              0.8888888888888888,
              "#fdca26"
             ],
             [
              1,
              "#f0f921"
             ]
            ],
            "type": "histogram2d"
           }
          ],
          "histogram2dcontour": [
           {
            "colorbar": {
             "outlinewidth": 0,
             "ticks": ""
            },
            "colorscale": [
             [
              0,
              "#0d0887"
             ],
             [
              0.1111111111111111,
              "#46039f"
             ],
             [
              0.2222222222222222,
              "#7201a8"
             ],
             [
              0.3333333333333333,
              "#9c179e"
             ],
             [
              0.4444444444444444,
              "#bd3786"
             ],
             [
              0.5555555555555556,
              "#d8576b"
             ],
             [
              0.6666666666666666,
              "#ed7953"
             ],
             [
              0.7777777777777778,
              "#fb9f3a"
             ],
             [
              0.8888888888888888,
              "#fdca26"
             ],
             [
              1,
              "#f0f921"
             ]
            ],
            "type": "histogram2dcontour"
           }
          ],
          "mesh3d": [
           {
            "colorbar": {
             "outlinewidth": 0,
             "ticks": ""
            },
            "type": "mesh3d"
           }
          ],
          "parcoords": [
           {
            "line": {
             "colorbar": {
              "outlinewidth": 0,
              "ticks": ""
             }
            },
            "type": "parcoords"
           }
          ],
          "pie": [
           {
            "automargin": true,
            "type": "pie"
           }
          ],
          "scatter": [
           {
            "fillpattern": {
             "fillmode": "overlay",
             "size": 10,
             "solidity": 0.2
            },
            "type": "scatter"
           }
          ],
          "scatter3d": [
           {
            "line": {
             "colorbar": {
              "outlinewidth": 0,
              "ticks": ""
             }
            },
            "marker": {
             "colorbar": {
              "outlinewidth": 0,
              "ticks": ""
             }
            },
            "type": "scatter3d"
           }
          ],
          "scattercarpet": [
           {
            "marker": {
             "colorbar": {
              "outlinewidth": 0,
              "ticks": ""
             }
            },
            "type": "scattercarpet"
           }
          ],
          "scattergeo": [
           {
            "marker": {
             "colorbar": {
              "outlinewidth": 0,
              "ticks": ""
             }
            },
            "type": "scattergeo"
           }
          ],
          "scattergl": [
           {
            "marker": {
             "colorbar": {
              "outlinewidth": 0,
              "ticks": ""
             }
            },
            "type": "scattergl"
           }
          ],
          "scattermapbox": [
           {
            "marker": {
             "colorbar": {
              "outlinewidth": 0,
              "ticks": ""
             }
            },
            "type": "scattermapbox"
           }
          ],
          "scatterpolar": [
           {
            "marker": {
             "colorbar": {
              "outlinewidth": 0,
              "ticks": ""
             }
            },
            "type": "scatterpolar"
           }
          ],
          "scatterpolargl": [
           {
            "marker": {
             "colorbar": {
              "outlinewidth": 0,
              "ticks": ""
             }
            },
            "type": "scatterpolargl"
           }
          ],
          "scatterternary": [
           {
            "marker": {
             "colorbar": {
              "outlinewidth": 0,
              "ticks": ""
             }
            },
            "type": "scatterternary"
           }
          ],
          "surface": [
           {
            "colorbar": {
             "outlinewidth": 0,
             "ticks": ""
            },
            "colorscale": [
             [
              0,
              "#0d0887"
             ],
             [
              0.1111111111111111,
              "#46039f"
             ],
             [
              0.2222222222222222,
              "#7201a8"
             ],
             [
              0.3333333333333333,
              "#9c179e"
             ],
             [
              0.4444444444444444,
              "#bd3786"
             ],
             [
              0.5555555555555556,
              "#d8576b"
             ],
             [
              0.6666666666666666,
              "#ed7953"
             ],
             [
              0.7777777777777778,
              "#fb9f3a"
             ],
             [
              0.8888888888888888,
              "#fdca26"
             ],
             [
              1,
              "#f0f921"
             ]
            ],
            "type": "surface"
           }
          ],
          "table": [
           {
            "cells": {
             "fill": {
              "color": "#EBF0F8"
             },
             "line": {
              "color": "white"
             }
            },
            "header": {
             "fill": {
              "color": "#C8D4E3"
             },
             "line": {
              "color": "white"
             }
            },
            "type": "table"
           }
          ]
         },
         "layout": {
          "annotationdefaults": {
           "arrowcolor": "#2a3f5f",
           "arrowhead": 0,
           "arrowwidth": 1
          },
          "autotypenumbers": "strict",
          "coloraxis": {
           "colorbar": {
            "outlinewidth": 0,
            "ticks": ""
           }
          },
          "colorscale": {
           "diverging": [
            [
             0,
             "#8e0152"
            ],
            [
             0.1,
             "#c51b7d"
            ],
            [
             0.2,
             "#de77ae"
            ],
            [
             0.3,
             "#f1b6da"
            ],
            [
             0.4,
             "#fde0ef"
            ],
            [
             0.5,
             "#f7f7f7"
            ],
            [
             0.6,
             "#e6f5d0"
            ],
            [
             0.7,
             "#b8e186"
            ],
            [
             0.8,
             "#7fbc41"
            ],
            [
             0.9,
             "#4d9221"
            ],
            [
             1,
             "#276419"
            ]
           ],
           "sequential": [
            [
             0,
             "#0d0887"
            ],
            [
             0.1111111111111111,
             "#46039f"
            ],
            [
             0.2222222222222222,
             "#7201a8"
            ],
            [
             0.3333333333333333,
             "#9c179e"
            ],
            [
             0.4444444444444444,
             "#bd3786"
            ],
            [
             0.5555555555555556,
             "#d8576b"
            ],
            [
             0.6666666666666666,
             "#ed7953"
            ],
            [
             0.7777777777777778,
             "#fb9f3a"
            ],
            [
             0.8888888888888888,
             "#fdca26"
            ],
            [
             1,
             "#f0f921"
            ]
           ],
           "sequentialminus": [
            [
             0,
             "#0d0887"
            ],
            [
             0.1111111111111111,
             "#46039f"
            ],
            [
             0.2222222222222222,
             "#7201a8"
            ],
            [
             0.3333333333333333,
             "#9c179e"
            ],
            [
             0.4444444444444444,
             "#bd3786"
            ],
            [
             0.5555555555555556,
             "#d8576b"
            ],
            [
             0.6666666666666666,
             "#ed7953"
            ],
            [
             0.7777777777777778,
             "#fb9f3a"
            ],
            [
             0.8888888888888888,
             "#fdca26"
            ],
            [
             1,
             "#f0f921"
            ]
           ]
          },
          "colorway": [
           "#636efa",
           "#EF553B",
           "#00cc96",
           "#ab63fa",
           "#FFA15A",
           "#19d3f3",
           "#FF6692",
           "#B6E880",
           "#FF97FF",
           "#FECB52"
          ],
          "font": {
           "color": "#2a3f5f"
          },
          "geo": {
           "bgcolor": "white",
           "lakecolor": "white",
           "landcolor": "#E5ECF6",
           "showlakes": true,
           "showland": true,
           "subunitcolor": "white"
          },
          "hoverlabel": {
           "align": "left"
          },
          "hovermode": "closest",
          "mapbox": {
           "style": "light"
          },
          "paper_bgcolor": "white",
          "plot_bgcolor": "#E5ECF6",
          "polar": {
           "angularaxis": {
            "gridcolor": "white",
            "linecolor": "white",
            "ticks": ""
           },
           "bgcolor": "#E5ECF6",
           "radialaxis": {
            "gridcolor": "white",
            "linecolor": "white",
            "ticks": ""
           }
          },
          "scene": {
           "xaxis": {
            "backgroundcolor": "#E5ECF6",
            "gridcolor": "white",
            "gridwidth": 2,
            "linecolor": "white",
            "showbackground": true,
            "ticks": "",
            "zerolinecolor": "white"
           },
           "yaxis": {
            "backgroundcolor": "#E5ECF6",
            "gridcolor": "white",
            "gridwidth": 2,
            "linecolor": "white",
            "showbackground": true,
            "ticks": "",
            "zerolinecolor": "white"
           },
           "zaxis": {
            "backgroundcolor": "#E5ECF6",
            "gridcolor": "white",
            "gridwidth": 2,
            "linecolor": "white",
            "showbackground": true,
            "ticks": "",
            "zerolinecolor": "white"
           }
          },
          "shapedefaults": {
           "line": {
            "color": "#2a3f5f"
           }
          },
          "ternary": {
           "aaxis": {
            "gridcolor": "white",
            "linecolor": "white",
            "ticks": ""
           },
           "baxis": {
            "gridcolor": "white",
            "linecolor": "white",
            "ticks": ""
           },
           "bgcolor": "#E5ECF6",
           "caxis": {
            "gridcolor": "white",
            "linecolor": "white",
            "ticks": ""
           }
          },
          "title": {
           "x": 0.05
          },
          "xaxis": {
           "automargin": true,
           "gridcolor": "white",
           "linecolor": "white",
           "ticks": "",
           "title": {
            "standoff": 15
           },
           "zerolinecolor": "white",
           "zerolinewidth": 2
          },
          "yaxis": {
           "automargin": true,
           "gridcolor": "white",
           "linecolor": "white",
           "ticks": "",
           "title": {
            "standoff": 15
           },
           "zerolinecolor": "white",
           "zerolinewidth": 2
          }
         }
        },
        "xaxis": {
         "anchor": "y",
         "categoryarray": [
          "africa",
          "capital",
          "country"
         ],
         "categoryorder": "array",
         "domain": [
          0,
          1
         ],
         "title": {
          "text": "zone"
         }
        },
        "yaxis": {
         "anchor": "x",
         "domain": [
          0,
          1
         ],
         "title": {
          "text": "sum of isFraud"
         }
        }
       }
      }
     },
     "metadata": {},
     "output_type": "display_data"
    }
   ],
   "source": [
    "# Group by type of operation the number of frauds commited.\n",
    "\n",
    "df_zone = pd.DataFrame(categ_var_df.groupby(('zone'), \n",
    "as_index=False)['isFraud'].sum())\n",
    "\n",
    "# Plot an histogram of 'df_zone'\n",
    "\n",
    "fig = px.histogram(df_zone, x='zone', y='isFraud', color= 'zone')\n",
    "fig.show()\n"
   ]
  },
  {
   "cell_type": "markdown",
   "id": "20b49ffa",
   "metadata": {},
   "source": []
  },
  {
   "cell_type": "markdown",
   "id": "27aa3634",
   "metadata": {},
   "source": [
    "### Análisis por alerta de seguridad. ¿Suele saltar alerta en las operaciones que se realizan fraude?"
   ]
  },
  {
   "cell_type": "code",
   "execution_count": 29,
   "id": "2db53acd",
   "metadata": {},
   "outputs": [
    {
     "data": {
      "application/vnd.plotly.v1+json": {
       "config": {
        "plotlyServerURL": "https://plot.ly"
       },
       "data": [
        {
         "alignmentgroup": "True",
         "bingroup": "x",
         "histfunc": "sum",
         "hovertemplate": "security_alert=%{x}<br>sum of isFraud=%{y}<extra></extra>",
         "legendgroup": "0",
         "marker": {
          "color": "#636efa",
          "pattern": {
           "shape": ""
          }
         },
         "name": "0",
         "offsetgroup": "0",
         "orientation": "v",
         "showlegend": true,
         "type": "histogram",
         "x": [
          0
         ],
         "xaxis": "x",
         "y": [
          1025
         ],
         "yaxis": "y"
        },
        {
         "alignmentgroup": "True",
         "bingroup": "x",
         "histfunc": "sum",
         "hovertemplate": "security_alert=%{x}<br>sum of isFraud=%{y}<extra></extra>",
         "legendgroup": "1",
         "marker": {
          "color": "#EF553B",
          "pattern": {
           "shape": ""
          }
         },
         "name": "1",
         "offsetgroup": "1",
         "orientation": "v",
         "showlegend": true,
         "type": "histogram",
         "x": [
          1
         ],
         "xaxis": "x",
         "y": [
          117
         ],
         "yaxis": "y"
        }
       ],
       "layout": {
        "barmode": "relative",
        "legend": {
         "title": {
          "text": "security_alert"
         },
         "tracegroupgap": 0
        },
        "margin": {
         "t": 60
        },
        "template": {
         "data": {
          "bar": [
           {
            "error_x": {
             "color": "#2a3f5f"
            },
            "error_y": {
             "color": "#2a3f5f"
            },
            "marker": {
             "line": {
              "color": "#E5ECF6",
              "width": 0.5
             },
             "pattern": {
              "fillmode": "overlay",
              "size": 10,
              "solidity": 0.2
             }
            },
            "type": "bar"
           }
          ],
          "barpolar": [
           {
            "marker": {
             "line": {
              "color": "#E5ECF6",
              "width": 0.5
             },
             "pattern": {
              "fillmode": "overlay",
              "size": 10,
              "solidity": 0.2
             }
            },
            "type": "barpolar"
           }
          ],
          "carpet": [
           {
            "aaxis": {
             "endlinecolor": "#2a3f5f",
             "gridcolor": "white",
             "linecolor": "white",
             "minorgridcolor": "white",
             "startlinecolor": "#2a3f5f"
            },
            "baxis": {
             "endlinecolor": "#2a3f5f",
             "gridcolor": "white",
             "linecolor": "white",
             "minorgridcolor": "white",
             "startlinecolor": "#2a3f5f"
            },
            "type": "carpet"
           }
          ],
          "choropleth": [
           {
            "colorbar": {
             "outlinewidth": 0,
             "ticks": ""
            },
            "type": "choropleth"
           }
          ],
          "contour": [
           {
            "colorbar": {
             "outlinewidth": 0,
             "ticks": ""
            },
            "colorscale": [
             [
              0,
              "#0d0887"
             ],
             [
              0.1111111111111111,
              "#46039f"
             ],
             [
              0.2222222222222222,
              "#7201a8"
             ],
             [
              0.3333333333333333,
              "#9c179e"
             ],
             [
              0.4444444444444444,
              "#bd3786"
             ],
             [
              0.5555555555555556,
              "#d8576b"
             ],
             [
              0.6666666666666666,
              "#ed7953"
             ],
             [
              0.7777777777777778,
              "#fb9f3a"
             ],
             [
              0.8888888888888888,
              "#fdca26"
             ],
             [
              1,
              "#f0f921"
             ]
            ],
            "type": "contour"
           }
          ],
          "contourcarpet": [
           {
            "colorbar": {
             "outlinewidth": 0,
             "ticks": ""
            },
            "type": "contourcarpet"
           }
          ],
          "heatmap": [
           {
            "colorbar": {
             "outlinewidth": 0,
             "ticks": ""
            },
            "colorscale": [
             [
              0,
              "#0d0887"
             ],
             [
              0.1111111111111111,
              "#46039f"
             ],
             [
              0.2222222222222222,
              "#7201a8"
             ],
             [
              0.3333333333333333,
              "#9c179e"
             ],
             [
              0.4444444444444444,
              "#bd3786"
             ],
             [
              0.5555555555555556,
              "#d8576b"
             ],
             [
              0.6666666666666666,
              "#ed7953"
             ],
             [
              0.7777777777777778,
              "#fb9f3a"
             ],
             [
              0.8888888888888888,
              "#fdca26"
             ],
             [
              1,
              "#f0f921"
             ]
            ],
            "type": "heatmap"
           }
          ],
          "heatmapgl": [
           {
            "colorbar": {
             "outlinewidth": 0,
             "ticks": ""
            },
            "colorscale": [
             [
              0,
              "#0d0887"
             ],
             [
              0.1111111111111111,
              "#46039f"
             ],
             [
              0.2222222222222222,
              "#7201a8"
             ],
             [
              0.3333333333333333,
              "#9c179e"
             ],
             [
              0.4444444444444444,
              "#bd3786"
             ],
             [
              0.5555555555555556,
              "#d8576b"
             ],
             [
              0.6666666666666666,
              "#ed7953"
             ],
             [
              0.7777777777777778,
              "#fb9f3a"
             ],
             [
              0.8888888888888888,
              "#fdca26"
             ],
             [
              1,
              "#f0f921"
             ]
            ],
            "type": "heatmapgl"
           }
          ],
          "histogram": [
           {
            "marker": {
             "pattern": {
              "fillmode": "overlay",
              "size": 10,
              "solidity": 0.2
             }
            },
            "type": "histogram"
           }
          ],
          "histogram2d": [
           {
            "colorbar": {
             "outlinewidth": 0,
             "ticks": ""
            },
            "colorscale": [
             [
              0,
              "#0d0887"
             ],
             [
              0.1111111111111111,
              "#46039f"
             ],
             [
              0.2222222222222222,
              "#7201a8"
             ],
             [
              0.3333333333333333,
              "#9c179e"
             ],
             [
              0.4444444444444444,
              "#bd3786"
             ],
             [
              0.5555555555555556,
              "#d8576b"
             ],
             [
              0.6666666666666666,
              "#ed7953"
             ],
             [
              0.7777777777777778,
              "#fb9f3a"
             ],
             [
              0.8888888888888888,
              "#fdca26"
             ],
             [
              1,
              "#f0f921"
             ]
            ],
            "type": "histogram2d"
           }
          ],
          "histogram2dcontour": [
           {
            "colorbar": {
             "outlinewidth": 0,
             "ticks": ""
            },
            "colorscale": [
             [
              0,
              "#0d0887"
             ],
             [
              0.1111111111111111,
              "#46039f"
             ],
             [
              0.2222222222222222,
              "#7201a8"
             ],
             [
              0.3333333333333333,
              "#9c179e"
             ],
             [
              0.4444444444444444,
              "#bd3786"
             ],
             [
              0.5555555555555556,
              "#d8576b"
             ],
             [
              0.6666666666666666,
              "#ed7953"
             ],
             [
              0.7777777777777778,
              "#fb9f3a"
             ],
             [
              0.8888888888888888,
              "#fdca26"
             ],
             [
              1,
              "#f0f921"
             ]
            ],
            "type": "histogram2dcontour"
           }
          ],
          "mesh3d": [
           {
            "colorbar": {
             "outlinewidth": 0,
             "ticks": ""
            },
            "type": "mesh3d"
           }
          ],
          "parcoords": [
           {
            "line": {
             "colorbar": {
              "outlinewidth": 0,
              "ticks": ""
             }
            },
            "type": "parcoords"
           }
          ],
          "pie": [
           {
            "automargin": true,
            "type": "pie"
           }
          ],
          "scatter": [
           {
            "fillpattern": {
             "fillmode": "overlay",
             "size": 10,
             "solidity": 0.2
            },
            "type": "scatter"
           }
          ],
          "scatter3d": [
           {
            "line": {
             "colorbar": {
              "outlinewidth": 0,
              "ticks": ""
             }
            },
            "marker": {
             "colorbar": {
              "outlinewidth": 0,
              "ticks": ""
             }
            },
            "type": "scatter3d"
           }
          ],
          "scattercarpet": [
           {
            "marker": {
             "colorbar": {
              "outlinewidth": 0,
              "ticks": ""
             }
            },
            "type": "scattercarpet"
           }
          ],
          "scattergeo": [
           {
            "marker": {
             "colorbar": {
              "outlinewidth": 0,
              "ticks": ""
             }
            },
            "type": "scattergeo"
           }
          ],
          "scattergl": [
           {
            "marker": {
             "colorbar": {
              "outlinewidth": 0,
              "ticks": ""
             }
            },
            "type": "scattergl"
           }
          ],
          "scattermapbox": [
           {
            "marker": {
             "colorbar": {
              "outlinewidth": 0,
              "ticks": ""
             }
            },
            "type": "scattermapbox"
           }
          ],
          "scatterpolar": [
           {
            "marker": {
             "colorbar": {
              "outlinewidth": 0,
              "ticks": ""
             }
            },
            "type": "scatterpolar"
           }
          ],
          "scatterpolargl": [
           {
            "marker": {
             "colorbar": {
              "outlinewidth": 0,
              "ticks": ""
             }
            },
            "type": "scatterpolargl"
           }
          ],
          "scatterternary": [
           {
            "marker": {
             "colorbar": {
              "outlinewidth": 0,
              "ticks": ""
             }
            },
            "type": "scatterternary"
           }
          ],
          "surface": [
           {
            "colorbar": {
             "outlinewidth": 0,
             "ticks": ""
            },
            "colorscale": [
             [
              0,
              "#0d0887"
             ],
             [
              0.1111111111111111,
              "#46039f"
             ],
             [
              0.2222222222222222,
              "#7201a8"
             ],
             [
              0.3333333333333333,
              "#9c179e"
             ],
             [
              0.4444444444444444,
              "#bd3786"
             ],
             [
              0.5555555555555556,
              "#d8576b"
             ],
             [
              0.6666666666666666,
              "#ed7953"
             ],
             [
              0.7777777777777778,
              "#fb9f3a"
             ],
             [
              0.8888888888888888,
              "#fdca26"
             ],
             [
              1,
              "#f0f921"
             ]
            ],
            "type": "surface"
           }
          ],
          "table": [
           {
            "cells": {
             "fill": {
              "color": "#EBF0F8"
             },
             "line": {
              "color": "white"
             }
            },
            "header": {
             "fill": {
              "color": "#C8D4E3"
             },
             "line": {
              "color": "white"
             }
            },
            "type": "table"
           }
          ]
         },
         "layout": {
          "annotationdefaults": {
           "arrowcolor": "#2a3f5f",
           "arrowhead": 0,
           "arrowwidth": 1
          },
          "autotypenumbers": "strict",
          "coloraxis": {
           "colorbar": {
            "outlinewidth": 0,
            "ticks": ""
           }
          },
          "colorscale": {
           "diverging": [
            [
             0,
             "#8e0152"
            ],
            [
             0.1,
             "#c51b7d"
            ],
            [
             0.2,
             "#de77ae"
            ],
            [
             0.3,
             "#f1b6da"
            ],
            [
             0.4,
             "#fde0ef"
            ],
            [
             0.5,
             "#f7f7f7"
            ],
            [
             0.6,
             "#e6f5d0"
            ],
            [
             0.7,
             "#b8e186"
            ],
            [
             0.8,
             "#7fbc41"
            ],
            [
             0.9,
             "#4d9221"
            ],
            [
             1,
             "#276419"
            ]
           ],
           "sequential": [
            [
             0,
             "#0d0887"
            ],
            [
             0.1111111111111111,
             "#46039f"
            ],
            [
             0.2222222222222222,
             "#7201a8"
            ],
            [
             0.3333333333333333,
             "#9c179e"
            ],
            [
             0.4444444444444444,
             "#bd3786"
            ],
            [
             0.5555555555555556,
             "#d8576b"
            ],
            [
             0.6666666666666666,
             "#ed7953"
            ],
            [
             0.7777777777777778,
             "#fb9f3a"
            ],
            [
             0.8888888888888888,
             "#fdca26"
            ],
            [
             1,
             "#f0f921"
            ]
           ],
           "sequentialminus": [
            [
             0,
             "#0d0887"
            ],
            [
             0.1111111111111111,
             "#46039f"
            ],
            [
             0.2222222222222222,
             "#7201a8"
            ],
            [
             0.3333333333333333,
             "#9c179e"
            ],
            [
             0.4444444444444444,
             "#bd3786"
            ],
            [
             0.5555555555555556,
             "#d8576b"
            ],
            [
             0.6666666666666666,
             "#ed7953"
            ],
            [
             0.7777777777777778,
             "#fb9f3a"
            ],
            [
             0.8888888888888888,
             "#fdca26"
            ],
            [
             1,
             "#f0f921"
            ]
           ]
          },
          "colorway": [
           "#636efa",
           "#EF553B",
           "#00cc96",
           "#ab63fa",
           "#FFA15A",
           "#19d3f3",
           "#FF6692",
           "#B6E880",
           "#FF97FF",
           "#FECB52"
          ],
          "font": {
           "color": "#2a3f5f"
          },
          "geo": {
           "bgcolor": "white",
           "lakecolor": "white",
           "landcolor": "#E5ECF6",
           "showlakes": true,
           "showland": true,
           "subunitcolor": "white"
          },
          "hoverlabel": {
           "align": "left"
          },
          "hovermode": "closest",
          "mapbox": {
           "style": "light"
          },
          "paper_bgcolor": "white",
          "plot_bgcolor": "#E5ECF6",
          "polar": {
           "angularaxis": {
            "gridcolor": "white",
            "linecolor": "white",
            "ticks": ""
           },
           "bgcolor": "#E5ECF6",
           "radialaxis": {
            "gridcolor": "white",
            "linecolor": "white",
            "ticks": ""
           }
          },
          "scene": {
           "xaxis": {
            "backgroundcolor": "#E5ECF6",
            "gridcolor": "white",
            "gridwidth": 2,
            "linecolor": "white",
            "showbackground": true,
            "ticks": "",
            "zerolinecolor": "white"
           },
           "yaxis": {
            "backgroundcolor": "#E5ECF6",
            "gridcolor": "white",
            "gridwidth": 2,
            "linecolor": "white",
            "showbackground": true,
            "ticks": "",
            "zerolinecolor": "white"
           },
           "zaxis": {
            "backgroundcolor": "#E5ECF6",
            "gridcolor": "white",
            "gridwidth": 2,
            "linecolor": "white",
            "showbackground": true,
            "ticks": "",
            "zerolinecolor": "white"
           }
          },
          "shapedefaults": {
           "line": {
            "color": "#2a3f5f"
           }
          },
          "ternary": {
           "aaxis": {
            "gridcolor": "white",
            "linecolor": "white",
            "ticks": ""
           },
           "baxis": {
            "gridcolor": "white",
            "linecolor": "white",
            "ticks": ""
           },
           "bgcolor": "#E5ECF6",
           "caxis": {
            "gridcolor": "white",
            "linecolor": "white",
            "ticks": ""
           }
          },
          "title": {
           "x": 0.05
          },
          "xaxis": {
           "automargin": true,
           "gridcolor": "white",
           "linecolor": "white",
           "ticks": "",
           "title": {
            "standoff": 15
           },
           "zerolinecolor": "white",
           "zerolinewidth": 2
          },
          "yaxis": {
           "automargin": true,
           "gridcolor": "white",
           "linecolor": "white",
           "ticks": "",
           "title": {
            "standoff": 15
           },
           "zerolinecolor": "white",
           "zerolinewidth": 2
          }
         }
        },
        "xaxis": {
         "anchor": "y",
         "categoryarray": [
          0,
          1
         ],
         "categoryorder": "array",
         "domain": [
          0,
          1
         ],
         "title": {
          "text": "security_alert"
         }
        },
        "yaxis": {
         "anchor": "x",
         "domain": [
          0,
          1
         ],
         "title": {
          "text": "sum of isFraud"
         }
        }
       }
      }
     },
     "metadata": {},
     "output_type": "display_data"
    }
   ],
   "source": [
    "# Group by type of operation the number of frauds commited.\n",
    "\n",
    "df_alert = pd.DataFrame(categ_var_df.groupby(('security_alert'), \n",
    "as_index=False)['isFraud'].sum())\n",
    "\n",
    "\n",
    "# Plot an histogram of 'df_alert'\n",
    "\n",
    "fig = px.histogram(df_alert, x='security_alert', y='isFraud',  color= 'security_alert')\n",
    "fig.show()\n"
   ]
  },
  {
   "cell_type": "markdown",
   "id": "878897ff",
   "metadata": {},
   "source": [
    "**Cuando no salta alerta de seguridad se cometen más fraudes. Probablemente se deba a que se han descubierto nuevos métodos de fraude que no detecta el sistema de seguridad.**"
   ]
  },
  {
   "cell_type": "markdown",
   "id": "1da0e730",
   "metadata": {},
   "source": [
    "### Perfil más característico de cometer fraude"
   ]
  },
  {
   "cell_type": "markdown",
   "id": "66d13290",
   "metadata": {},
   "source": [
    "Tras realizar el análisis de las variables categóricas podemos definir un tipo de perfil potencial de cometer fraude:\n",
    "\n",
    "**1. Según el tipo de receptor, los fráudes se cometen únicamente en los del tipo 'C'.**\n",
    "\n",
    "**2. Realiza operaciones de extracción de efectivo y/o transacciones bancarias.**\n",
    "\n",
    "**3. Utiliza dispositivos de sobremesa, principalmente MAC o PC.**\n",
    "\n",
    "**4. La ubicación donde se realiza la operación suele coincidir en que se realizan en zonas fuera de la capital del país.**\n",
    "\n",
    "**5. Dado que existe una categoria desconocida para la variable género no podemos sacar conclusiones de que género realiza más fraude.**"
   ]
  },
  {
   "cell_type": "markdown",
   "id": "7e5cf281",
   "metadata": {},
   "source": [
    "### Relación entre variables categóricas con V de Crammer y correlación "
   ]
  },
  {
   "cell_type": "markdown",
   "id": "725e1059",
   "metadata": {},
   "source": [
    "Procedemos a analizar la realación de las variables categóricas utilizando el coeficiente V de Crammer."
   ]
  },
  {
   "cell_type": "code",
   "execution_count": 30,
   "id": "84f6b646",
   "metadata": {
    "scrolled": true
   },
   "outputs": [
    {
     "data": {
      "text/html": [
       "<div>\n",
       "<style scoped>\n",
       "    .dataframe tbody tr th:only-of-type {\n",
       "        vertical-align: middle;\n",
       "    }\n",
       "\n",
       "    .dataframe tbody tr th {\n",
       "        vertical-align: top;\n",
       "    }\n",
       "\n",
       "    .dataframe thead th {\n",
       "        text-align: right;\n",
       "    }\n",
       "</style>\n",
       "<table border=\"1\" class=\"dataframe\">\n",
       "  <thead>\n",
       "    <tr style=\"text-align: right;\">\n",
       "      <th></th>\n",
       "      <th>type</th>\n",
       "      <th>gender</th>\n",
       "      <th>device</th>\n",
       "      <th>zone</th>\n",
       "      <th>security_alert</th>\n",
       "      <th>nameDest</th>\n",
       "      <th>isFraud</th>\n",
       "    </tr>\n",
       "  </thead>\n",
       "  <tbody>\n",
       "    <tr>\n",
       "      <th>type</th>\n",
       "      <td>1.0</td>\n",
       "      <td>0.0</td>\n",
       "      <td>0.00</td>\n",
       "      <td>0.0</td>\n",
       "      <td>0.00</td>\n",
       "      <td>1.0</td>\n",
       "      <td>0.0</td>\n",
       "    </tr>\n",
       "    <tr>\n",
       "      <th>gender</th>\n",
       "      <td>0.0</td>\n",
       "      <td>1.0</td>\n",
       "      <td>0.00</td>\n",
       "      <td>0.0</td>\n",
       "      <td>0.00</td>\n",
       "      <td>0.0</td>\n",
       "      <td>0.0</td>\n",
       "    </tr>\n",
       "    <tr>\n",
       "      <th>device</th>\n",
       "      <td>0.0</td>\n",
       "      <td>0.0</td>\n",
       "      <td>1.00</td>\n",
       "      <td>0.0</td>\n",
       "      <td>0.33</td>\n",
       "      <td>0.0</td>\n",
       "      <td>0.0</td>\n",
       "    </tr>\n",
       "    <tr>\n",
       "      <th>zone</th>\n",
       "      <td>0.0</td>\n",
       "      <td>0.0</td>\n",
       "      <td>0.00</td>\n",
       "      <td>1.0</td>\n",
       "      <td>0.00</td>\n",
       "      <td>0.0</td>\n",
       "      <td>0.0</td>\n",
       "    </tr>\n",
       "    <tr>\n",
       "      <th>security_alert</th>\n",
       "      <td>0.0</td>\n",
       "      <td>0.0</td>\n",
       "      <td>0.33</td>\n",
       "      <td>0.0</td>\n",
       "      <td>1.00</td>\n",
       "      <td>0.0</td>\n",
       "      <td>0.0</td>\n",
       "    </tr>\n",
       "    <tr>\n",
       "      <th>nameDest</th>\n",
       "      <td>1.0</td>\n",
       "      <td>0.0</td>\n",
       "      <td>0.00</td>\n",
       "      <td>0.0</td>\n",
       "      <td>0.00</td>\n",
       "      <td>1.0</td>\n",
       "      <td>0.0</td>\n",
       "    </tr>\n",
       "    <tr>\n",
       "      <th>isFraud</th>\n",
       "      <td>0.0</td>\n",
       "      <td>0.0</td>\n",
       "      <td>0.00</td>\n",
       "      <td>0.0</td>\n",
       "      <td>0.00</td>\n",
       "      <td>0.0</td>\n",
       "      <td>1.0</td>\n",
       "    </tr>\n",
       "  </tbody>\n",
       "</table>\n",
       "</div>"
      ],
      "text/plain": [
       "                type  gender  device  zone  security_alert  nameDest  isFraud\n",
       "type             1.0     0.0    0.00   0.0            0.00       1.0      0.0\n",
       "gender           0.0     1.0    0.00   0.0            0.00       0.0      0.0\n",
       "device           0.0     0.0    1.00   0.0            0.33       0.0      0.0\n",
       "zone             0.0     0.0    0.00   1.0            0.00       0.0      0.0\n",
       "security_alert   0.0     0.0    0.33   0.0            1.00       0.0      0.0\n",
       "nameDest         1.0     0.0    0.00   0.0            0.00       1.0      0.0\n",
       "isFraud          0.0     0.0    0.00   0.0            0.00       0.0      1.0"
      ]
     },
     "execution_count": 30,
     "metadata": {},
     "output_type": "execute_result"
    }
   ],
   "source": [
    "# To calculate the Cramer's V we need 2 or more categories in each variable so we exclude the 'nameOrig'\n",
    "categ_var_df = payments_df[['type', 'gender', 'device', 'zone','security_alert','nameDest','isFraud']]\n",
    "\n",
    "rows= []\n",
    "\n",
    "# Loop to calculate the Cramer's V for each pair of variables\n",
    "for var1 in categ_var_df:\n",
    "  col = []\n",
    "  for var2 in categ_var_df :\n",
    "    cramers =cramers_V(categ_var_df[var1], categ_var_df[var2]) # Cramer's V test\n",
    "    col.append(round(cramers,2)) \n",
    "  rows.append(col)\n",
    "\n",
    "# Creation of the Cramer's V matrix\n",
    "\n",
    "cramers_results = np.array(rows)\n",
    "matrix = pd.DataFrame(cramers_results, columns = categ_var_df.columns, index =categ_var_df.columns)\n",
    "\n",
    "# Display the Cramer's V matrix\n",
    "\n",
    "matrix\n"
   ]
  },
  {
   "cell_type": "markdown",
   "id": "34d061ae",
   "metadata": {},
   "source": [
    "Procedemos a representarla gráficamente."
   ]
  },
  {
   "cell_type": "code",
   "execution_count": 31,
   "id": "143b7658",
   "metadata": {},
   "outputs": [
    {
     "data": {
      "image/png": "[encoded data removed]",
      "text/plain": [
       "<Figure size 1000x800 with 2 Axes>"
      ]
     },
     "metadata": {},
     "output_type": "display_data"
    }
   ],
   "source": [
    "# Plot the heatmap of the Cramer's V matrix\n",
    "\n",
    "plt.figure(figsize=(10,8))\n",
    "sns.heatmap(matrix, vmin=0, vmax=1, square=True,annot=True, cmap='Blues')\n",
    "plt.show()"
   ]
  },
  {
   "cell_type": "markdown",
   "id": "f08da748",
   "metadata": {},
   "source": [
    "**Observamos como existe una relación moderada entre las variables `security_alert` y `device`. Además encontramos una correlación muy fuerte entre el `type` y `nameDest`. Esto debemos tenerlo en cuenta para la creación del modelo.**"
   ]
  },
  {
   "cell_type": "markdown",
   "id": "7d23418e",
   "metadata": {},
   "source": [
    "## 3.5.2 Análisis de las variables numéricas"
   ]
  },
  {
   "cell_type": "markdown",
   "id": "b51aa7a0",
   "metadata": {},
   "source": [
    "### Correlación entre variables numéricas"
   ]
  },
  {
   "cell_type": "markdown",
   "id": "788a3dd3",
   "metadata": {},
   "source": [
    "En este apartado procederemos a analizar las **correlaciones existentes entre las diferentes variables numéricas**. Para ello crearemos un dataframe con los valores numéricos."
   ]
  },
  {
   "cell_type": "code",
   "execution_count": 33,
   "id": "2e37a68f",
   "metadata": {},
   "outputs": [
    {
     "data": {
      "text/html": [
       "<div>\n",
       "<style scoped>\n",
       "    .dataframe tbody tr th:only-of-type {\n",
       "        vertical-align: middle;\n",
       "    }\n",
       "\n",
       "    .dataframe tbody tr th {\n",
       "        vertical-align: top;\n",
       "    }\n",
       "\n",
       "    .dataframe thead th {\n",
       "        text-align: right;\n",
       "    }\n",
       "</style>\n",
       "<table border=\"1\" class=\"dataframe\">\n",
       "  <thead>\n",
       "    <tr style=\"text-align: right;\">\n",
       "      <th></th>\n",
       "      <th>step</th>\n",
       "      <th>amount</th>\n",
       "      <th>connection_time</th>\n",
       "      <th>oldbalanceOrg</th>\n",
       "      <th>age</th>\n",
       "      <th>newbalanceOrig</th>\n",
       "      <th>user_number</th>\n",
       "      <th>oldbalanceDest</th>\n",
       "      <th>newbalanceDest</th>\n",
       "    </tr>\n",
       "  </thead>\n",
       "  <tbody>\n",
       "    <tr>\n",
       "      <th>0</th>\n",
       "      <td>1</td>\n",
       "      <td>9839.64</td>\n",
       "      <td>0.140039</td>\n",
       "      <td>170136.00</td>\n",
       "      <td>85</td>\n",
       "      <td>160296.36</td>\n",
       "      <td>138</td>\n",
       "      <td>0.00</td>\n",
       "      <td>0.00</td>\n",
       "    </tr>\n",
       "    <tr>\n",
       "      <th>1</th>\n",
       "      <td>1</td>\n",
       "      <td>1864.28</td>\n",
       "      <td>0.496890</td>\n",
       "      <td>21249.00</td>\n",
       "      <td>57</td>\n",
       "      <td>19384.72</td>\n",
       "      <td>909</td>\n",
       "      <td>0.00</td>\n",
       "      <td>0.00</td>\n",
       "    </tr>\n",
       "    <tr>\n",
       "      <th>2</th>\n",
       "      <td>1</td>\n",
       "      <td>181.00</td>\n",
       "      <td>0.781150</td>\n",
       "      <td>181.00</td>\n",
       "      <td>66</td>\n",
       "      <td>0.00</td>\n",
       "      <td>2569</td>\n",
       "      <td>0.00</td>\n",
       "      <td>0.00</td>\n",
       "    </tr>\n",
       "    <tr>\n",
       "      <th>3</th>\n",
       "      <td>1</td>\n",
       "      <td>181.00</td>\n",
       "      <td>0.565068</td>\n",
       "      <td>181.00</td>\n",
       "      <td>31</td>\n",
       "      <td>0.00</td>\n",
       "      <td>1787</td>\n",
       "      <td>21182.00</td>\n",
       "      <td>0.00</td>\n",
       "    </tr>\n",
       "    <tr>\n",
       "      <th>4</th>\n",
       "      <td>1</td>\n",
       "      <td>11668.14</td>\n",
       "      <td>0.517114</td>\n",
       "      <td>41554.00</td>\n",
       "      <td>90</td>\n",
       "      <td>29885.86</td>\n",
       "      <td>3997</td>\n",
       "      <td>0.00</td>\n",
       "      <td>0.00</td>\n",
       "    </tr>\n",
       "    <tr>\n",
       "      <th>...</th>\n",
       "      <td>...</td>\n",
       "      <td>...</td>\n",
       "      <td>...</td>\n",
       "      <td>...</td>\n",
       "      <td>...</td>\n",
       "      <td>...</td>\n",
       "      <td>...</td>\n",
       "      <td>...</td>\n",
       "      <td>...</td>\n",
       "    </tr>\n",
       "    <tr>\n",
       "      <th>1048570</th>\n",
       "      <td>95</td>\n",
       "      <td>132557.35</td>\n",
       "      <td>0.420243</td>\n",
       "      <td>479803.00</td>\n",
       "      <td>39</td>\n",
       "      <td>347245.65</td>\n",
       "      <td>3179</td>\n",
       "      <td>484329.37</td>\n",
       "      <td>616886.72</td>\n",
       "    </tr>\n",
       "    <tr>\n",
       "      <th>1048571</th>\n",
       "      <td>95</td>\n",
       "      <td>9917.36</td>\n",
       "      <td>0.376169</td>\n",
       "      <td>90545.00</td>\n",
       "      <td>36</td>\n",
       "      <td>80627.64</td>\n",
       "      <td>2558</td>\n",
       "      <td>0.00</td>\n",
       "      <td>0.00</td>\n",
       "    </tr>\n",
       "    <tr>\n",
       "      <th>1048572</th>\n",
       "      <td>95</td>\n",
       "      <td>14140.05</td>\n",
       "      <td>0.837109</td>\n",
       "      <td>20545.00</td>\n",
       "      <td>31</td>\n",
       "      <td>6404.95</td>\n",
       "      <td>1553</td>\n",
       "      <td>0.00</td>\n",
       "      <td>0.00</td>\n",
       "    </tr>\n",
       "    <tr>\n",
       "      <th>1048573</th>\n",
       "      <td>95</td>\n",
       "      <td>10020.05</td>\n",
       "      <td>0.480931</td>\n",
       "      <td>90605.00</td>\n",
       "      <td>94</td>\n",
       "      <td>80584.95</td>\n",
       "      <td>642</td>\n",
       "      <td>0.00</td>\n",
       "      <td>0.00</td>\n",
       "    </tr>\n",
       "    <tr>\n",
       "      <th>1048574</th>\n",
       "      <td>95</td>\n",
       "      <td>11450.03</td>\n",
       "      <td>0.868198</td>\n",
       "      <td>80584.95</td>\n",
       "      <td>84</td>\n",
       "      <td>69134.92</td>\n",
       "      <td>2081</td>\n",
       "      <td>0.00</td>\n",
       "      <td>0.00</td>\n",
       "    </tr>\n",
       "  </tbody>\n",
       "</table>\n",
       "<p>1048575 rows × 9 columns</p>\n",
       "</div>"
      ],
      "text/plain": [
       "         step     amount  connection_time  oldbalanceOrg  age  newbalanceOrig  \\\n",
       "0           1    9839.64         0.140039      170136.00   85       160296.36   \n",
       "1           1    1864.28         0.496890       21249.00   57        19384.72   \n",
       "2           1     181.00         0.781150         181.00   66            0.00   \n",
       "3           1     181.00         0.565068         181.00   31            0.00   \n",
       "4           1   11668.14         0.517114       41554.00   90        29885.86   \n",
       "...       ...        ...              ...            ...  ...             ...   \n",
       "1048570    95  132557.35         0.420243      479803.00   39       347245.65   \n",
       "1048571    95    9917.36         0.376169       90545.00   36        80627.64   \n",
       "1048572    95   14140.05         0.837109       20545.00   31         6404.95   \n",
       "1048573    95   10020.05         0.480931       90605.00   94        80584.95   \n",
       "1048574    95   11450.03         0.868198       80584.95   84        69134.92   \n",
       "\n",
       "         user_number  oldbalanceDest  newbalanceDest  \n",
       "0                138            0.00            0.00  \n",
       "1                909            0.00            0.00  \n",
       "2               2569            0.00            0.00  \n",
       "3               1787        21182.00            0.00  \n",
       "4               3997            0.00            0.00  \n",
       "...              ...             ...             ...  \n",
       "1048570         3179       484329.37       616886.72  \n",
       "1048571         2558            0.00            0.00  \n",
       "1048572         1553            0.00            0.00  \n",
       "1048573          642            0.00            0.00  \n",
       "1048574         2081            0.00            0.00  \n",
       "\n",
       "[1048575 rows x 9 columns]"
      ]
     },
     "metadata": {},
     "output_type": "display_data"
    }
   ],
   "source": [
    "# Select the numeric variables to save them in the new dataframe 'num_var_df'.\n",
    "\n",
    "num_var_df = payments_df[['step', 'amount', 'connection_time', 'oldbalanceOrg','age', 'newbalanceOrig', 'user_number','oldbalanceDest','newbalanceDest']]\n",
    "\n",
    "# Display 'num_var_df'\n",
    "\n",
    "display(num_var_df)"
   ]
  },
  {
   "cell_type": "markdown",
   "id": "715894e9",
   "metadata": {},
   "source": [
    "Para medir la correlación entre las diferentes variables numéricas realizaremos una **matriz de correlación mediante el método Pearson.**"
   ]
  },
  {
   "cell_type": "code",
   "execution_count": 34,
   "id": "4696480e",
   "metadata": {
    "scrolled": false
   },
   "outputs": [
    {
     "data": {
      "image/png": "[encoded data removed]",
      "text/plain": [
       "<Figure size 1200x1000 with 2 Axes>"
      ]
     },
     "metadata": {},
     "output_type": "display_data"
    }
   ],
   "source": [
    "# Display the correlation matrix of the 'num_var_df'. \n",
    "\n",
    "get_corr_matrix(dataset = num_var_df, metodo='pearson', size_figure=[12,10])"
   ]
  },
  {
   "cell_type": "markdown",
   "id": "4b017ff8",
   "metadata": {},
   "source": [
    "Las **variables `oldbalanceDest` y `newbalanceDest` están altamente correlacionadas** siendo el saldo antes y después de la transacción. Posteriormente dependiendo del algoritmo que apliquemos se procedería a eliminar estas variables por su alta correlación. \n",
    "\n",
    "También observamos como la **variable `amount` tiene una correlación a tener en cuenta entre las dos variables anteriores**, lo cual tiene sentido dado que la cantidad de dinero está relacionado con los movimientos den las cuentas."
   ]
  },
  {
   "cell_type": "markdown",
   "id": "122e30d1",
   "metadata": {},
   "source": [
    "## 3.6. Análisis de Outliers"
   ]
  },
  {
   "cell_type": "markdown",
   "id": "0c1cd452",
   "metadata": {},
   "source": [
    "En este apartado realizaremos un estudio de Outliers, es decir, detectar aquellos valores dentro de una muestra que no son consistentes con el resto."
   ]
  },
  {
   "cell_type": "code",
   "execution_count": 35,
   "id": "b51fe0a1",
   "metadata": {
    "scrolled": true
   },
   "outputs": [
    {
     "data": {
      "text/html": [
       "<div>\n",
       "<style scoped>\n",
       "    .dataframe tbody tr th:only-of-type {\n",
       "        vertical-align: middle;\n",
       "    }\n",
       "\n",
       "    .dataframe tbody tr th {\n",
       "        vertical-align: top;\n",
       "    }\n",
       "\n",
       "    .dataframe thead th {\n",
       "        text-align: right;\n",
       "    }\n",
       "</style>\n",
       "<table border=\"1\" class=\"dataframe\">\n",
       "  <thead>\n",
       "    <tr style=\"text-align: right;\">\n",
       "      <th></th>\n",
       "      <th>0.0</th>\n",
       "      <th>1.0</th>\n",
       "      <th>Variable</th>\n",
       "      <th>Número de outliers</th>\n",
       "      <th>Porcentaje outliers</th>\n",
       "    </tr>\n",
       "  </thead>\n",
       "  <tbody>\n",
       "    <tr>\n",
       "      <th>0</th>\n",
       "      <td>0.974320</td>\n",
       "      <td>0.025680</td>\n",
       "      <td>step</td>\n",
       "      <td>22586</td>\n",
       "      <td>0.021540</td>\n",
       "    </tr>\n",
       "    <tr>\n",
       "      <th>1</th>\n",
       "      <td>0.990036</td>\n",
       "      <td>0.009964</td>\n",
       "      <td>amount</td>\n",
       "      <td>45867</td>\n",
       "      <td>0.043742</td>\n",
       "    </tr>\n",
       "    <tr>\n",
       "      <th>2</th>\n",
       "      <td>0.998897</td>\n",
       "      <td>0.001103</td>\n",
       "      <td>connection_time</td>\n",
       "      <td>141484</td>\n",
       "      <td>0.134930</td>\n",
       "    </tr>\n",
       "    <tr>\n",
       "      <th>3</th>\n",
       "      <td>0.998812</td>\n",
       "      <td>0.001188</td>\n",
       "      <td>oldbalanceOrg</td>\n",
       "      <td>58947</td>\n",
       "      <td>0.056216</td>\n",
       "    </tr>\n",
       "    <tr>\n",
       "      <th>4</th>\n",
       "      <td>0.999072</td>\n",
       "      <td>0.000928</td>\n",
       "      <td>age</td>\n",
       "      <td>131463</td>\n",
       "      <td>0.125373</td>\n",
       "    </tr>\n",
       "    <tr>\n",
       "      <th>5</th>\n",
       "      <td>0.999950</td>\n",
       "      <td>0.000050</td>\n",
       "      <td>newbalanceOrig</td>\n",
       "      <td>59807</td>\n",
       "      <td>0.057036</td>\n",
       "    </tr>\n",
       "    <tr>\n",
       "      <th>6</th>\n",
       "      <td>0.998826</td>\n",
       "      <td>0.001174</td>\n",
       "      <td>user_number</td>\n",
       "      <td>140512</td>\n",
       "      <td>0.134003</td>\n",
       "    </tr>\n",
       "    <tr>\n",
       "      <th>7</th>\n",
       "      <td>0.999421</td>\n",
       "      <td>0.000579</td>\n",
       "      <td>oldbalanceDest</td>\n",
       "      <td>57040</td>\n",
       "      <td>0.054398</td>\n",
       "    </tr>\n",
       "    <tr>\n",
       "      <th>8</th>\n",
       "      <td>0.998648</td>\n",
       "      <td>0.001352</td>\n",
       "      <td>newbalanceDest</td>\n",
       "      <td>59187</td>\n",
       "      <td>0.056445</td>\n",
       "    </tr>\n",
       "  </tbody>\n",
       "</table>\n",
       "</div>"
      ],
      "text/plain": [
       "        0.0       1.0         Variable  Número de outliers  \\\n",
       "0  0.974320  0.025680             step               22586   \n",
       "1  0.990036  0.009964           amount               45867   \n",
       "2  0.998897  0.001103  connection_time              141484   \n",
       "3  0.998812  0.001188    oldbalanceOrg               58947   \n",
       "4  0.999072  0.000928              age              131463   \n",
       "5  0.999950  0.000050   newbalanceOrig               59807   \n",
       "6  0.998826  0.001174      user_number              140512   \n",
       "7  0.999421  0.000579   oldbalanceDest               57040   \n",
       "8  0.998648  0.001352   newbalanceDest               59187   \n",
       "\n",
       "   Porcentaje outliers  \n",
       "0             0.021540  \n",
       "1             0.043742  \n",
       "2             0.134930  \n",
       "3             0.056216  \n",
       "4             0.125373  \n",
       "5             0.057036  \n",
       "6             0.134003  \n",
       "7             0.054398  \n",
       "8             0.056445  "
      ]
     },
     "execution_count": 35,
     "metadata": {},
     "output_type": "execute_result"
    }
   ],
   "source": [
    "# Display a dataframe with the number of outliers and percentage in a dataset.\n",
    "\n",
    "get_deviation_of_mean_perc(payments_df, num_var_df.columns, target='isFraud', multiplier=1.5)"
   ]
  },
  {
   "cell_type": "markdown",
   "id": "a8cbd20e",
   "metadata": {},
   "source": [
    "**Observamos como las variables con mayor nº de outliers son  `user_number`, `connection_time` y `age`. Una vez identificados, los tendremos en cuenta para el proceso de crear los modelos de ML, por lo que no los eliminaremos por el momento.**"
   ]
  },
  {
   "cell_type": "markdown",
   "id": "56fa105f",
   "metadata": {},
   "source": [
    "# <a name=\"exportacion\"> 4. Exportación del dataset transformado <a>"
   ]
  },
  {
   "cell_type": "markdown",
   "id": "5d2bd05e",
   "metadata": {},
   "source": [
    "Procedemos a **exportar el dataset que hemos ido transformando durante el EDA**, para posteriormente en el paso de preprocesado, dividirlo en Train, Validación y Test:"
   ]
  },
  {
   "cell_type": "code",
   "execution_count": 36,
   "id": "97d80bba",
   "metadata": {},
   "outputs": [],
   "source": [
    "# Export 'payments_df' as csv in the folder of processed data.\n",
    "\n",
    "payments_df.to_csv(\"../data/processed/payments_df.csv\")"
   ]
  },
  {
   "cell_type": "markdown",
   "id": "ea94c42e",
   "metadata": {},
   "source": [
    "[Ir arriba del documento](#top)"
   ]
  }
 ],
 "metadata": {
  "kernelspec": {
   "display_name": "machine_learning_anton",
   "language": "python",
   "name": "machine_learning_anton"
  },
  "language_info": {
   "codemirror_mode": {
    "name": "ipython",
    "version": 3
   },
   "file_extension": ".py",
   "mimetype": "text/x-python",
   "name": "python",
   "nbconvert_exporter": "python",
   "pygments_lexer": "ipython3",
   "version": "3.9.15"
  },
  "vscode": {
   "interpreter": {
    "hash": "c396b6e60b559c3770b979a8b09e4cb6b0e38128d4ceb8fcd57358d159eb9aad"
   }
  }
 },
 "nbformat": 4,
 "nbformat_minor": 5
}
