{
 "cells": [
  {
   "cell_type": "markdown",
   "id": "ddfc6297",
   "metadata": {},
   "source": [
    "<a name=\"top\"> <h1>01. Preprocessing</h1> <a>\n",
    "\n",
    "<p>Payments Fraud Practice<br />\n",
    "<strong>Aprendizaje Autom&aacute;tico</strong><br />\n",
    "<strong>Master Universitario en Ciencia de Datos</strong></p>\n",
    "\n",
    "<p>&nbsp;</p>\n",
    "\n",
    "<p style=\"text-align:right\">Antonio Nogués Podadera (<em>antonio.nogues@cunef.edu</em>)</p>\n",
    "<p style=\"text-align:right\">V&iacute;ctor Viloria V&aacute;zquez (<em>victor.viloria@cunef.edu</em>)</p>\n"
   ]
  },
  {
   "cell_type": "markdown",
   "id": "fa080632",
   "metadata": {},
   "source": [
    "<hr style=\"border:1px solid gray\">"
   ]
  },
  {
   "cell_type": "markdown",
   "id": "7cd07bb2",
   "metadata": {},
   "source": [
    "### Estructura"
   ]
  },
  {
   "cell_type": "markdown",
   "id": "c640cd6b",
   "metadata": {},
   "source": [
    "[0. Introducción](#introduccion) \n",
    "\n",
    "\n",
    "[1. Importación de librerias y funciones](#librerias) \n",
    "\n",
    "\n",
    "[2. Observación de Outliers](#outliers) \n",
    "\n",
    "   - Connection time\n",
    "   - User Number\n",
    "   - Age\n",
    "   \n",
    "[3. Creación de Pipelines](#pipelines) \n",
    "\n",
    "   - Listas de variables \n",
    "   - Pipelines según el tipo de variable\n",
    "   - Pipeline de preprocesado\n",
    "   \n",
    "   \n",
    "[4. Selección de variables](#variables)\n",
    "\n",
    "[5.Separación en Train, Validación y Test](#sets)"
   ]
  },
  {
   "cell_type": "markdown",
   "id": "00c8dc66",
   "metadata": {},
   "source": [
    "<hr style=\"border:1px solid gray\">"
   ]
  },
  {
   "cell_type": "markdown",
   "id": "997bc8d2",
   "metadata": {},
   "source": [
    "# <a name=\"introduccion\"> 0. Introducción <a> \n"
   ]
  },
  {
   "cell_type": "markdown",
   "id": "49fb6d93",
   "metadata": {},
   "source": [
    "En este documento realizaremos un preprocesado de las variables para poder utilizarlas en los modelos. Para ello nos basaremos en el análisis exploratorio, que se puede encontrar en el documento `00_EDA`."
   ]
  },
  {
   "cell_type": "markdown",
   "id": "2103c6dd",
   "metadata": {},
   "source": [
    "# <a name=\"librerias\"> 1. Importación de librerias y funciones <a> \n"
   ]
  },
  {
   "cell_type": "markdown",
   "id": "bae48461",
   "metadata": {},
   "source": [
    "Importamos las librerias utilizadas para el preprocesamiento:"
   ]
  },
  {
   "cell_type": "code",
   "execution_count": 1,
   "id": "58b381cc",
   "metadata": {},
   "outputs": [],
   "source": [
    "from sklearn.model_selection import train_test_split \n",
    "import pandas as pd\n",
    "import numpy as np\n",
    "import math\n",
    "import matplotlib.pyplot as plt\n",
    "import plotly.express as px\n",
    "import seaborn as sns\n",
    "import sklearn\n",
    "from sklearn.pipeline import Pipeline\n",
    "from sklearn.impute import SimpleImputer\n",
    "from sklearn.preprocessing import StandardScaler, OneHotEncoder\n",
    "from sklearn.compose import ColumnTransformer\n",
    "import pickle\n",
    "import warnings\n",
    "warnings.filterwarnings('ignore')"
   ]
  },
  {
   "cell_type": "markdown",
   "id": "356ac8cf",
   "metadata": {},
   "source": [
    "Importamos las funciones a utilizar:"
   ]
  },
  {
   "cell_type": "code",
   "execution_count": 2,
   "id": "c32713de",
   "metadata": {},
   "outputs": [],
   "source": [
    "from aux_functions import *"
   ]
  },
  {
   "cell_type": "markdown",
   "id": "d4d2a55d",
   "metadata": {},
   "source": [
    "# <a name=\"outliers\"> 2. Observación de Outliers <a> \n"
   ]
  },
  {
   "cell_type": "markdown",
   "id": "69f22eab",
   "metadata": {},
   "source": [
    "En este apartado estudiaremos mas detenidamente la distribución de los outliers y si afectan a la aplicación de los modelos. Para ello representaremos graficamente aquellas variables con mayor número de outliers."
   ]
  },
  {
   "cell_type": "code",
   "execution_count": 3,
   "id": "84011817",
   "metadata": {},
   "outputs": [
    {
     "data": {
      "text/html": [
       "<div>\n",
       "<style scoped>\n",
       "    .dataframe tbody tr th:only-of-type {\n",
       "        vertical-align: middle;\n",
       "    }\n",
       "\n",
       "    .dataframe tbody tr th {\n",
       "        vertical-align: top;\n",
       "    }\n",
       "\n",
       "    .dataframe thead th {\n",
       "        text-align: right;\n",
       "    }\n",
       "</style>\n",
       "<table border=\"1\" class=\"dataframe\">\n",
       "  <thead>\n",
       "    <tr style=\"text-align: right;\">\n",
       "      <th></th>\n",
       "      <th>0.0</th>\n",
       "      <th>1.0</th>\n",
       "      <th>Variable</th>\n",
       "      <th>Número de outliers</th>\n",
       "      <th>Porcentaje outliers</th>\n",
       "    </tr>\n",
       "  </thead>\n",
       "  <tbody>\n",
       "    <tr>\n",
       "      <th>0</th>\n",
       "      <td>0.974320</td>\n",
       "      <td>0.025680</td>\n",
       "      <td>step</td>\n",
       "      <td>22586</td>\n",
       "      <td>0.021540</td>\n",
       "    </tr>\n",
       "    <tr>\n",
       "      <th>1</th>\n",
       "      <td>0.990036</td>\n",
       "      <td>0.009964</td>\n",
       "      <td>amount</td>\n",
       "      <td>45867</td>\n",
       "      <td>0.043742</td>\n",
       "    </tr>\n",
       "    <tr>\n",
       "      <th>2</th>\n",
       "      <td>0.998897</td>\n",
       "      <td>0.001103</td>\n",
       "      <td>connection_time</td>\n",
       "      <td>141484</td>\n",
       "      <td>0.134930</td>\n",
       "    </tr>\n",
       "    <tr>\n",
       "      <th>3</th>\n",
       "      <td>0.998812</td>\n",
       "      <td>0.001188</td>\n",
       "      <td>oldbalanceOrg</td>\n",
       "      <td>58947</td>\n",
       "      <td>0.056216</td>\n",
       "    </tr>\n",
       "    <tr>\n",
       "      <th>4</th>\n",
       "      <td>0.999072</td>\n",
       "      <td>0.000928</td>\n",
       "      <td>age</td>\n",
       "      <td>131463</td>\n",
       "      <td>0.125373</td>\n",
       "    </tr>\n",
       "    <tr>\n",
       "      <th>5</th>\n",
       "      <td>0.999950</td>\n",
       "      <td>0.000050</td>\n",
       "      <td>newbalanceOrig</td>\n",
       "      <td>59807</td>\n",
       "      <td>0.057036</td>\n",
       "    </tr>\n",
       "    <tr>\n",
       "      <th>6</th>\n",
       "      <td>0.998826</td>\n",
       "      <td>0.001174</td>\n",
       "      <td>user_number</td>\n",
       "      <td>140512</td>\n",
       "      <td>0.134003</td>\n",
       "    </tr>\n",
       "    <tr>\n",
       "      <th>7</th>\n",
       "      <td>0.999421</td>\n",
       "      <td>0.000579</td>\n",
       "      <td>oldbalanceDest</td>\n",
       "      <td>57040</td>\n",
       "      <td>0.054398</td>\n",
       "    </tr>\n",
       "    <tr>\n",
       "      <th>8</th>\n",
       "      <td>0.998648</td>\n",
       "      <td>0.001352</td>\n",
       "      <td>newbalanceDest</td>\n",
       "      <td>59187</td>\n",
       "      <td>0.056445</td>\n",
       "    </tr>\n",
       "  </tbody>\n",
       "</table>\n",
       "</div>"
      ],
      "text/plain": [
       "        0.0       1.0         Variable  Número de outliers  \\\n",
       "0  0.974320  0.025680             step               22586   \n",
       "1  0.990036  0.009964           amount               45867   \n",
       "2  0.998897  0.001103  connection_time              141484   \n",
       "3  0.998812  0.001188    oldbalanceOrg               58947   \n",
       "4  0.999072  0.000928              age              131463   \n",
       "5  0.999950  0.000050   newbalanceOrig               59807   \n",
       "6  0.998826  0.001174      user_number              140512   \n",
       "7  0.999421  0.000579   oldbalanceDest               57040   \n",
       "8  0.998648  0.001352   newbalanceDest               59187   \n",
       "\n",
       "   Porcentaje outliers  \n",
       "0             0.021540  \n",
       "1             0.043742  \n",
       "2             0.134930  \n",
       "3             0.056216  \n",
       "4             0.125373  \n",
       "5             0.057036  \n",
       "6             0.134003  \n",
       "7             0.054398  \n",
       "8             0.056445  "
      ]
     },
     "execution_count": 3,
     "metadata": {},
     "output_type": "execute_result"
    }
   ],
   "source": [
    "# Load the processed dataset saved in the EDA.\n",
    "\n",
    "payments_df = pd.read_csv('../data/processed/payments_df.csv', index_col=0)\n",
    "\n",
    "# Create a DF with the numerical variables of 'payments_df'.\n",
    "\n",
    "num_var_df = payments_df[['step', 'amount', 'connection_time', 'oldbalanceOrg','age', 'newbalanceOrig', 'user_number','oldbalanceDest','newbalanceDest']]\n",
    "\n",
    "# Create a dataframe 'outliers_df' with the number of outliers and percentage in a dataset.\n",
    "\n",
    "outliers_df = get_deviation_of_mean_perc(payments_df, num_var_df, target='isFraud', multiplier=1.5)\n",
    "\n",
    "# Display outliers_df.\n",
    "\n",
    "outliers_df"
   ]
  },
  {
   "cell_type": "markdown",
   "id": "cfdb4f31",
   "metadata": {},
   "source": [
    "Como ya vimos durante el EDA, las variables con mayor número de outliers son : `connection_time`, `user_number` y `age`. Procedemos a representarlas graficamente:"
   ]
  },
  {
   "cell_type": "markdown",
   "id": "121f283f",
   "metadata": {},
   "source": [
    "## 2.1. Connection time "
   ]
  },
  {
   "cell_type": "code",
   "execution_count": 4,
   "id": "cba23d00",
   "metadata": {
    "scrolled": false
   },
   "outputs": [
    {
     "data": {
      "image/png": "[encoded data removed]",
      "text/plain": [
       "<Figure size 1000x500 with 1 Axes>"
      ]
     },
     "metadata": {},
     "output_type": "display_data"
    }
   ],
   "source": [
    "# Config size of the plot.\n",
    "\n",
    "sns.set(rc={'figure.figsize':(10,5)})\n",
    "\n",
    "# Create a boxplot of connection_time.\n",
    "\n",
    "sns.boxplot(data=payments_df[['connection_time']], orient=\"h\")\n",
    "\n",
    "# Display the plot.\n",
    "\n",
    "plt.show()"
   ]
  },
  {
   "cell_type": "markdown",
   "id": "f072d04c",
   "metadata": {},
   "source": [
    "Tal y como observamos no detectamos ningun valor considerado como outlier dentro del gráfico por lo que mantenderemos todos los datos de la variable para insertarlos en el modelo."
   ]
  },
  {
   "cell_type": "markdown",
   "id": "36c3d89c",
   "metadata": {},
   "source": [
    "## 2.2. User Number"
   ]
  },
  {
   "cell_type": "code",
   "execution_count": 5,
   "id": "58d4f32f",
   "metadata": {},
   "outputs": [
    {
     "data": {
      "image/png": "[encoded data removed]",
      "text/plain": [
       "<Figure size 1000x500 with 1 Axes>"
      ]
     },
     "metadata": {},
     "output_type": "display_data"
    }
   ],
   "source": [
    "# Config size of the plot.\n",
    "\n",
    "sns.set(rc={'figure.figsize':(10,5)})\n",
    "\n",
    "# Create a boxplot of 'user_number'.\n",
    "\n",
    "sns.boxplot(data=payments_df[['user_number']], orient=\"h\")\n",
    "\n",
    "# Display the plot.\n",
    "\n",
    "plt.show()"
   ]
  },
  {
   "cell_type": "markdown",
   "id": "9869078b",
   "metadata": {},
   "source": [
    "Tal y como observamos no detectamos ningun valor considerado como outlier dentro del gráfico por lo que mantenderemos todos los datos de la variable para insertarlos en el modelo."
   ]
  },
  {
   "cell_type": "markdown",
   "id": "48b37677",
   "metadata": {},
   "source": [
    "## 2.3. Age"
   ]
  },
  {
   "cell_type": "code",
   "execution_count": 6,
   "id": "63d2f8f5",
   "metadata": {},
   "outputs": [
    {
     "data": {
      "image/png": "[encoded data removed]",
      "text/plain": [
       "<Figure size 1000x500 with 1 Axes>"
      ]
     },
     "metadata": {},
     "output_type": "display_data"
    }
   ],
   "source": [
    "# Config size of the plot.\n",
    "\n",
    "sns.set(rc={'figure.figsize':(10,5)})\n",
    "\n",
    "# Create a boxplot of 'age'.\n",
    "\n",
    "sns.boxplot(data=payments_df[['age']], orient=\"h\")\n",
    "\n",
    "# Display the plot.\n",
    "\n",
    "plt.show()"
   ]
  },
  {
   "cell_type": "markdown",
   "id": "59c25c34",
   "metadata": {},
   "source": [
    "Tal y como observamos no detectamos ningun valor considerado como outlier dentro del gráfico por lo que mantenderemos todos los datos de la variable para insertarlos en el modelo."
   ]
  },
  {
   "cell_type": "markdown",
   "id": "d88125d4",
   "metadata": {},
   "source": [
    "#  <a name=\"pipelines\"> 3. Creación de Pipelines  <a>"
   ]
  },
  {
   "cell_type": "markdown",
   "id": "8c12b0c0",
   "metadata": {},
   "source": [
    "En este apartado crearemos un pipelines de preprocesado para aplicar la transformación de las variables previamente a realizar los modelos. Este pipeline, diferenciará segun el tipo de variable: numérica oo categórica."
   ]
  },
  {
   "cell_type": "markdown",
   "id": "6f967fa8",
   "metadata": {},
   "source": [
    "### 3.1. Listas de variables"
   ]
  },
  {
   "cell_type": "markdown",
   "id": "7c4f5d48",
   "metadata": {},
   "source": [
    "Dado que tenemos diferentes tipos de variables, creamos un par de listas para diferenciarlas y tratarlas de forma diferente posteriormente.  "
   ]
  },
  {
   "cell_type": "code",
   "execution_count": 7,
   "id": "00876a23",
   "metadata": {},
   "outputs": [],
   "source": [
    "# Creation a list with the name of the categorical variables.\n",
    "\n",
    "categ_var = ['type', 'gender', 'device', 'zone','security_alert','nameDest', 'nameOrig', 'nameDest']\n",
    "\n",
    "# Creation a list with the name of the numerical variables.\n",
    "\n",
    "num_var = ['step', 'amount', 'connection_time', 'oldbalanceOrg','age', 'newbalanceOrig', 'user_number','oldbalanceDest','newbalanceDest']"
   ]
  },
  {
   "cell_type": "markdown",
   "id": "b3be5201",
   "metadata": {},
   "source": [
    "### 3.2. Pipelines según el tipo de variable"
   ]
  },
  {
   "cell_type": "markdown",
   "id": "300c38d7",
   "metadata": {},
   "source": [
    "#### 3.2.1 Variables categóricas"
   ]
  },
  {
   "cell_type": "markdown",
   "id": "30199f51",
   "metadata": {},
   "source": [
    "Para las variables categóricas, **en primer lugar, transformará los valores nulos a una nueva categoría, `unknow`**. Para poder trabajar con ellos como una variable aparte.\n",
    "\n",
    "**Posteriormente debido a su bajo número de categorías (máx 5), realizaremos una transformación mediante One Hot Encoder**, ideal para categorías con pocos grupos."
   ]
  },
  {
   "cell_type": "code",
   "execution_count": 8,
   "id": "0dfda2c5",
   "metadata": {
    "scrolled": true
   },
   "outputs": [],
   "source": [
    "# Creation of a pipeline for categorical variables that fill NaN values to 'unknow' first,\n",
    "# then apply the OneHotEncoder preprocessing.\n",
    "\n",
    "cat_transformer = Pipeline(steps=[\n",
    "    ('imputer', SimpleImputer(strategy='constant', fill_value='unknow')),\n",
    "    ('onehot', OneHotEncoder(handle_unknown='ignore'))])\n"
   ]
  },
  {
   "cell_type": "markdown",
   "id": "df842601",
   "metadata": {},
   "source": [
    "#### 3.2.2 Variables numéricas"
   ]
  },
  {
   "cell_type": "markdown",
   "id": "03df7055",
   "metadata": {},
   "source": [
    "En cuanto a las variables numéricas, observamos en el EDA que **no existian valores nulos** en este tipo de variables, por lo que no será necesario ninguna transformación en cuanto a ese tipo de datos. \n",
    "\n",
    "Sin embargo, **realizaremos un preprocesado de estandarización**, para que los **datos sean internamente coherentes y permita una mayor eficiencia en la optimización del modelo**."
   ]
  },
  {
   "cell_type": "code",
   "execution_count": 9,
   "id": "089acbb5",
   "metadata": {},
   "outputs": [],
   "source": [
    "# Creation of a pipeline for numerical variables that standardize each variable\n",
    "\n",
    "num_transformer = Pipeline(steps=[\n",
    "    ('scaler', StandardScaler())])"
   ]
  },
  {
   "cell_type": "markdown",
   "id": "33b14691",
   "metadata": {},
   "source": [
    "### 3.3. Pipeline de preprocesado"
   ]
  },
  {
   "cell_type": "markdown",
   "id": "60876f98",
   "metadata": {},
   "source": [
    "Una vez creados los diferentes pipelines para cada tipo de variable, los unificaremos en un Preprocesador, que transformará las variables previamente de entrenar los modelos."
   ]
  },
  {
   "cell_type": "code",
   "execution_count": 10,
   "id": "3b5e45ec",
   "metadata": {
    "scrolled": true
   },
   "outputs": [],
   "source": [
    "# Creation of a preprocessor for the categorical and numerical variables\n",
    "\n",
    "preprocessor = ColumnTransformer(\n",
    "    transformers=[\n",
    "        ('cat', cat_transformer, categ_var),\n",
    "        ('num', num_transformer, num_var)\n",
    "    ]\n",
    ")\n",
    "\n",
    "# Save the preprocessor as .pickle\n",
    "with open('../models/preprocessor.pickle', 'wb') as f:\n",
    "    pickle.dump(preprocessor, f)"
   ]
  },
  {
   "cell_type": "markdown",
   "id": "8a05c9b5",
   "metadata": {},
   "source": [
    "## <a name=\"variables\"> 4. Selección de variables <a>"
   ]
  },
  {
   "cell_type": "markdown",
   "id": "2ef33cf3",
   "metadata": {},
   "source": [
    "Para la creación de los modelos trabajaremos con todas las variables analizadas en el EDA, ya que consideramos que todas podrían aportar más valor a nuestro modelo. **La única variable que se ha descartado fue la de `race` debido a motivos éticos**."
   ]
  },
  {
   "cell_type": "markdown",
   "id": "b4195a29",
   "metadata": {},
   "source": [
    "## <a name=\"sets\"> 5. Separación en Train, Validación y Test <a>"
   ]
  },
  {
   "cell_type": "markdown",
   "id": "61bc06f1",
   "metadata": {},
   "source": [
    "Una vez realizado el EDA, procedemos a crear los diferentes sets de train, validacion y test. De manera que **para la creación de nuestros modelos de Machine Learning dispondremos de 3 sets: train, validación y test**."
   ]
  },
  {
   "cell_type": "markdown",
   "id": "c94202b8",
   "metadata": {},
   "source": [
    "En primer lugar separamos los distintos valores (X) de la variable objetivo (Y)"
   ]
  },
  {
   "cell_type": "code",
   "execution_count": 11,
   "id": "5d08eb31",
   "metadata": {},
   "outputs": [],
   "source": [
    "# Separation of variables X  from the target variable Y \n",
    "\n",
    "X = payments_df.drop('isFraud', axis=1)\n",
    "Y = payments_df['isFraud']"
   ]
  },
  {
   "cell_type": "markdown",
   "id": "ff10c1ce",
   "metadata": {},
   "source": [
    "Creamos el set de Test:"
   ]
  },
  {
   "cell_type": "code",
   "execution_count": 12,
   "id": "25718302",
   "metadata": {},
   "outputs": [],
   "source": [
    "# Division into train and test sets.\n",
    "\n",
    "x_train_all, x_test, y_train_all, y_test = train_test_split(X, Y, test_size=0.25, random_state=12345, stratify=Y)"
   ]
  },
  {
   "cell_type": "markdown",
   "id": "6afd07ea",
   "metadata": {},
   "source": [
    "Creamos el set de train y validación:"
   ]
  },
  {
   "cell_type": "code",
   "execution_count": 13,
   "id": "24b88afd",
   "metadata": {},
   "outputs": [],
   "source": [
    "# Creation of a validation set shuffled from the training set. Selecting a 25% of the total for the 'val_df'.\n",
    "\n",
    "x_train, x_val, y_train, y_val = train_test_split(x_train_all, y_train_all, test_size=0.25, random_state=12345, stratify=y_train_all)"
   ]
  },
  {
   "cell_type": "markdown",
   "id": "6afd4f3e",
   "metadata": {},
   "source": [
    "Exportamos los sets como csv para poder cargarlos en la elaboración de los modelos."
   ]
  },
  {
   "cell_type": "code",
   "execution_count": 14,
   "id": "72eb059e",
   "metadata": {},
   "outputs": [],
   "source": [
    "# Export the train, validation and test variables as csv in the folder of processed data.\n",
    "\n",
    "x_train.to_csv(\"../data/processed/x_train.csv\")\n",
    "y_train.to_csv(\"../data/processed/y_train.csv\")\n",
    "\n",
    "x_val.to_csv(\"../data/processed/x_val.csv\")\n",
    "y_val.to_csv(\"../data/processed/y_val.csv\")\n",
    "\n",
    "x_train_all.to_csv(\"../data/processed/x_train_all.csv\")\n",
    "y_train_all.to_csv(\"../data/processed/y_train_all.csv\")\n",
    "\n",
    "x_test.to_csv(\"../data/processed/x_test.csv\")\n",
    "y_test.to_csv(\"../data/processed/y_test.csv\")"
   ]
  },
  {
   "cell_type": "markdown",
   "id": "9be459ea",
   "metadata": {},
   "source": [
    "[Ir arriba del documento](#top)"
   ]
  }
 ],
 "metadata": {
  "kernelspec": {
   "display_name": "machine_learning_anton",
   "language": "python",
   "name": "machine_learning_anton"
  },
  "language_info": {
   "codemirror_mode": {
    "name": "ipython",
    "version": 3
   },
   "file_extension": ".py",
   "mimetype": "text/x-python",
   "name": "python",
   "nbconvert_exporter": "python",
   "pygments_lexer": "ipython3",
   "version": "3.9.15"
  },
  "vscode": {
   "interpreter": {
    "hash": "c396b6e60b559c3770b979a8b09e4cb6b0e38128d4ceb8fcd57358d159eb9aad"
   }
  }
 },
 "nbformat": 4,
 "nbformat_minor": 5
}
