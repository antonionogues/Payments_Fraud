{
 "cells": [
  {
   "cell_type": "markdown",
   "id": "b23f30cc",
   "metadata": {},
   "source": [
    "<a name=\"top\"> <h1>3. Model Selection</h1> <a>\n",
    "\n",
    "<p>Payments Fraud Practice<br />\n",
    "<strong>Aprendizaje Autom&aacute;tico</strong><br />\n",
    "<strong>Master Universitario en Ciencia de Datos</strong></p>\n",
    "\n",
    "<p>&nbsp;</p>\n",
    "\n",
    "<p style=\"text-align:right\">Antonio Nogués Podadera (<em>antonio.nogues@cunef.edu</em>)</p>\n",
    "<p style=\"text-align:right\">V&iacute;ctor Viloria V&aacute;zquez (<em>victor.viloria@cunef.edu</em>)</p>"
   ]
  },
  {
   "cell_type": "markdown",
   "id": "6bfb189f",
   "metadata": {},
   "source": [
    "<hr style=\"border:1px solid gray\">"
   ]
  },
  {
   "cell_type": "markdown",
   "id": "be85ceaf",
   "metadata": {},
   "source": [
    "### Estructura"
   ]
  },
  {
   "cell_type": "markdown",
   "id": "71d60985",
   "metadata": {},
   "source": [
    "[0. Introducción](#introduccion) \n",
    "\n",
    "\n",
    "[1. Importación de librerias](#librerias) \n",
    "\n",
    "\n",
    "[2. Comparación de modelos](#modelos) \n",
    "\n",
    "[3. Carga de datos](#datos) \n",
    "\n",
    "[4. Creación del modelo XGBoost](#creacion) \n",
    "\n",
    "   \n",
    "[5. Optimización del modelo](#optimizacion) \n",
    "\n",
    "   \n",
    "[6. Predicción del modelo](#prediccion)\n",
    "\n",
    "[7. Evaluación de las métricas del modelo](#metricas)\n",
    "\n",
    "   - Matriz de confusión\n",
    "   - Métricas: Accuracy, Recall, Precision, F1 y F2 score\n",
    "   - Curva ROC\n",
    "   \n",
    "[8. Conclusiones Generales](#conclusiones)"
   ]
  },
  {
   "cell_type": "markdown",
   "id": "e92d0091",
   "metadata": {},
   "source": [
    "<hr style=\"border:1px solid gray\">"
   ]
  },
  {
   "cell_type": "markdown",
   "id": "2d97b8d8",
   "metadata": {},
   "source": [
    "# <a name=\"introduccion\"> 0. Introducción <a> \n"
   ]
  },
  {
   "cell_type": "markdown",
   "id": "f793080c",
   "metadata": {},
   "source": [
    "En este documento **realizaremos una recopilación de la métrica F2 y AUC para comparar los modelos que hemos realizado** durante este estudio. Una vez comparados, **seleccionaremos aquel que mejor score haya obtenido** y trataremos de optimizarlo ajustando las mejores métricas. "
   ]
  },
  {
   "cell_type": "markdown",
   "id": "89bee552",
   "metadata": {},
   "source": [
    "# <a name=\"librerias\"> 1. Importación de librerias y funciones <a> \n"
   ]
  },
  {
   "cell_type": "code",
   "execution_count": 1,
   "id": "675f9962",
   "metadata": {},
   "outputs": [],
   "source": [
    "# Import basic libraries\n",
    "\n",
    "import pandas as pd\n",
    "import numpy as np\n",
    "import matplotlib.pyplot as plt\n",
    "import seaborn as sns\n",
    "import pickle\n",
    "import warnings\n",
    "warnings.filterwarnings('ignore')\n",
    "\n",
    "# Import sklearn metrics\n",
    "\n",
    "from sklearn import metrics\n",
    "from sklearn.model_selection import cross_val_score\n",
    "from sklearn.metrics import ConfusionMatrixDisplay, classification_report, roc_curve,roc_auc_score, fbeta_score, make_scorer, plot_confusion_matrix\n",
    "import scikitplot as skplt\n",
    "\n",
    "\n",
    "# Import sklearn models and pipeline\n",
    "from sklearn.pipeline import Pipeline\n",
    "from sklearn.compose import ColumnTransformer\n",
    "from xgboost import XGBClassifier\n",
    "from sklearn.model_selection import RandomizedSearchCV, GridSearchCV\n",
    "from sklearn.model_selection import StratifiedKFold"
   ]
  },
  {
   "cell_type": "markdown",
   "id": "ae51c35f",
   "metadata": {},
   "source": [
    "# <a name=\"modelos\"> 2. Comparación de modelos <a> \n"
   ]
  },
  {
   "cell_type": "markdown",
   "id": "7f6a65e1",
   "metadata": {},
   "source": [
    "Procedemos a crear una tabla donde podamos observar las métricas de los modelos. \n",
    "\n",
    "Como ya comentamos en el documento `02_DummyModel`, nuestro dataset se caracteriza por tener un desbalanceo muy grande, es por ello que el análisis de las métricas de accuracy y precisión siempre van a ser muy elevadas, sin embargo, no reflejan la realidad predictora de nuestro modelo. Por lo que nos centraremos principalmente en las métrica F2-score y AUC .\n",
    "\n",
    "**Seleccionaremos aquella que tenga un F2 superior.Dado que para nuestro problema, nos interesa centrarnos en que trate de reconocer el mayor número de fraudes realizados, aun siendo algunos predecidos casos de no fraude.**"
   ]
  },
  {
   "cell_type": "code",
   "execution_count": 2,
   "id": "259093cb",
   "metadata": {},
   "outputs": [
    {
     "data": {
      "text/html": [
       "<div>\n",
       "<style scoped>\n",
       "    .dataframe tbody tr th:only-of-type {\n",
       "        vertical-align: middle;\n",
       "    }\n",
       "\n",
       "    .dataframe tbody tr th {\n",
       "        vertical-align: top;\n",
       "    }\n",
       "\n",
       "    .dataframe thead th {\n",
       "        text-align: right;\n",
       "    }\n",
       "</style>\n",
       "<table border=\"1\" class=\"dataframe\">\n",
       "  <thead>\n",
       "    <tr style=\"text-align: right;\">\n",
       "      <th></th>\n",
       "      <th>F2</th>\n",
       "      <th>AUC</th>\n",
       "    </tr>\n",
       "    <tr>\n",
       "      <th>Modelo</th>\n",
       "      <th></th>\n",
       "      <th></th>\n",
       "    </tr>\n",
       "  </thead>\n",
       "  <tbody>\n",
       "    <tr>\n",
       "      <th>XGBoost</th>\n",
       "      <td>0.84</td>\n",
       "      <td>0.99</td>\n",
       "    </tr>\n",
       "    <tr>\n",
       "      <th>Gradient</th>\n",
       "      <td>0.81</td>\n",
       "      <td>0.91</td>\n",
       "    </tr>\n",
       "    <tr>\n",
       "      <th>Random Forest SMOTE</th>\n",
       "      <td>0.78</td>\n",
       "      <td>0.99</td>\n",
       "    </tr>\n",
       "    <tr>\n",
       "      <th>LightGBM SMOTE</th>\n",
       "      <td>0.72</td>\n",
       "      <td>0.90</td>\n",
       "    </tr>\n",
       "    <tr>\n",
       "      <th>Random Forest</th>\n",
       "      <td>0.66</td>\n",
       "      <td>0.97</td>\n",
       "    </tr>\n",
       "    <tr>\n",
       "      <th>Lasso</th>\n",
       "      <td>0.45</td>\n",
       "      <td>0.98</td>\n",
       "    </tr>\n",
       "    <tr>\n",
       "      <th>GLM</th>\n",
       "      <td>0.35</td>\n",
       "      <td>0.95</td>\n",
       "    </tr>\n",
       "    <tr>\n",
       "      <th>LightGBM</th>\n",
       "      <td>0.31</td>\n",
       "      <td>0.66</td>\n",
       "    </tr>\n",
       "    <tr>\n",
       "      <th>SVM</th>\n",
       "      <td>0.29</td>\n",
       "      <td>0.94</td>\n",
       "    </tr>\n",
       "    <tr>\n",
       "      <th>Dummy</th>\n",
       "      <td>0</td>\n",
       "      <td>0.5</td>\n",
       "    </tr>\n",
       "  </tbody>\n",
       "</table>\n",
       "</div>"
      ],
      "text/plain": [
       "                       F2   AUC\n",
       "Modelo                         \n",
       "XGBoost              0.84  0.99\n",
       "Gradient             0.81  0.91\n",
       "Random Forest SMOTE  0.78  0.99\n",
       "LightGBM SMOTE       0.72  0.90\n",
       "Random Forest        0.66  0.97\n",
       "Lasso                0.45  0.98\n",
       "GLM                  0.35  0.95\n",
       "LightGBM             0.31  0.66\n",
       "SVM                  0.29  0.94\n",
       "Dummy                   0   0.5"
      ]
     },
     "execution_count": 2,
     "metadata": {},
     "output_type": "execute_result"
    }
   ],
   "source": [
    "# Create a DF with the record of the F2 metric.\n",
    "\n",
    "model_data = {'Modelo': ['Dummy', 'GLM', 'Lasso', 'Random Forest', 'Random Forest SMOTE','LightGBM','LightGBM SMOTE','Gradient' ,'SVM', 'XGBoost'],\n",
    "\n",
    "                'F2': ['0', '0.35', '0.45', '0.66', '0.78', '0.31', '0.72', '0.81', '0.29','0.84'],\n",
    "                'AUC': ['0.5', '0.95', '0.98', '0.97', '0.99', '0.66', '0.90', '0.91', '0.94','0.99']}\n",
    "\n",
    "tabla_modelos = pd.DataFrame(model_data, columns=['Modelo', 'F2', 'AUC'])\n",
    "\n",
    "\n",
    "# Print tabla_modelos\n",
    "\n",
    "tabla_modelos.sort_values(by='F2',ascending=False).set_index(\"Modelo\")"
   ]
  },
  {
   "cell_type": "markdown",
   "id": "1451daab",
   "metadata": {},
   "source": [
    "Como vemos reflejado en la tabla, **el modelo que mejor se ha comportado ha sido el XGBoost**. Es por ello que procederemos a optimizarlo y a obtener las predicciones de la función de test."
   ]
  },
  {
   "cell_type": "markdown",
   "id": "53b4472f",
   "metadata": {},
   "source": [
    "# <a name=\"datos\"> 3. Carga de datos <a> "
   ]
  },
  {
   "cell_type": "markdown",
   "id": "7ee72552",
   "metadata": {},
   "source": [
    "Para la optimización del modelo, procederemos a cargar las funciones que usaremos, el set de train y validación juntos y el set de test, para predecir los datos sobre el."
   ]
  },
  {
   "cell_type": "code",
   "execution_count": 3,
   "id": "8a9384ef",
   "metadata": {},
   "outputs": [],
   "source": [
    "# Import the functions to use in the notebook.\n",
    "\n",
    "from aux_functions import load_model, save_model\n",
    "\n",
    "def f2_func(y_true, y_pred):\n",
    "    f2_score = fbeta_score(y_true, y_pred, beta=2)\n",
    "    return f2_score\n",
    "\n",
    "#Load the preprocessor\n",
    "\n",
    "preprocessor = load_model('../models/preprocessor.pickle')\n",
    "\n",
    "# Load the train dataset separated by other variables and target. Taking into account that the first column is the index.\n",
    "\n",
    "x_train_all = pd.read_csv(\"../data/processed/x_train_all.csv\",index_col=0 )\n",
    "y_train_all = pd.read_csv(\"../data/processed/y_train_all.csv\",index_col=0 )\n",
    "\n",
    "# Load the test dataset separated by other variables and target. Taking into account that the first column is the index.\n",
    "\n",
    "x_test = pd.read_csv(\"../data/processed/x_test.csv\",index_col=0 )\n",
    "y_test = pd.read_csv(\"../data/processed/y_test.csv\",index_col=0 )"
   ]
  },
  {
   "cell_type": "markdown",
   "id": "bc3e4b9f",
   "metadata": {},
   "source": [
    "# <a name=\"creacion\"> 4. Creación del modelo XGBoost <a> "
   ]
  },
  {
   "cell_type": "markdown",
   "id": "fe1eded7",
   "metadata": {},
   "source": [
    "Creamos el Pipeline del modelo, con el preprocesado y el algoritmo en su interior."
   ]
  },
  {
   "cell_type": "code",
   "execution_count": 4,
   "id": "1a146241",
   "metadata": {},
   "outputs": [],
   "source": [
    "# Design the parameters.\n",
    "\n",
    "n_jobs = -1\n",
    "random_state = 12345\n",
    "\n",
    "# Create a pipeline that applies a preprocess of the data and then the LogisticRegression model.\n",
    "\n",
    "xgb_model_test = Pipeline([\n",
    "    ('preprocessor', preprocessor),\n",
    "    ('clasificador', XGBClassifier(n_jobs=n_jobs, random_state=random_state)\n",
    "    )\n",
    "])\n"
   ]
  },
  {
   "cell_type": "markdown",
   "id": "a317fc6e",
   "metadata": {},
   "source": [
    "# <a name=\"optimizacion\"> 5. Optimización del modelo <a> "
   ]
  },
  {
   "cell_type": "markdown",
   "id": "92a96531",
   "metadata": {},
   "source": [
    "Para optimizar el modelo realizaremos pruebas con diferentes hiperparámetros y nos quedaremos con aquellos que mejor F2 score nos devuelva."
   ]
  },
  {
   "cell_type": "code",
   "execution_count": 48,
   "id": "d7e9fd5f",
   "metadata": {},
   "outputs": [],
   "source": [
    "# A parameter grid for XGBoost\n",
    "params = {\n",
    "        'clasificador__max_depth': [2, 5, 7],\n",
    "        'clasificador__verbosity': [0, 1, 2,3],\n",
    "        \n",
    "        }"
   ]
  },
  {
   "cell_type": "code",
   "execution_count": null,
   "id": "42f2cf43",
   "metadata": {
    "scrolled": true
   },
   "outputs": [],
   "source": [
    "# Search the best model with the grid created before.\n",
    "\n",
    "random_state = 12345\n",
    "scoring=make_scorer(f2_func)\n",
    "n_jobs= -1\n",
    "\n",
    "search = GridSearchCV(xgb_model_test, params,scoring=scoring)\n",
    "search.fit(x_train_all, y_train_all)"
   ]
  },
  {
   "cell_type": "code",
   "execution_count": 9,
   "id": "864b5777",
   "metadata": {},
   "outputs": [],
   "source": [
    "# Save backup of the best grid.\n",
    "\n",
    "save_model(search,'../models/search.pickle')"
   ]
  },
  {
   "cell_type": "markdown",
   "id": "d3e30038",
   "metadata": {},
   "source": [
    "Observamos los parametors y score resultantes:"
   ]
  },
  {
   "cell_type": "code",
   "execution_count": 50,
   "id": "651a218a",
   "metadata": {},
   "outputs": [
    {
     "name": "stdout",
     "output_type": "stream",
     "text": [
      "{'clasificador__max_depth': 5, 'clasificador__verbosity': 0}\n",
      "0.8539140354976057\n"
     ]
    }
   ],
   "source": [
    "# Print best grid.\n",
    "\n",
    "print(search.best_params_)    \n",
    "print(search.best_score_)"
   ]
  },
  {
   "cell_type": "markdown",
   "id": "a2daf4fc",
   "metadata": {},
   "source": [
    "Observamos que utilizando los parametros anteriores logramos subir un punto más el F2 score, **es por ello que los aplicaremos para predecir sobre el set de test**. Este modelo con aún más parámetros en la optimización y mayor tiempo de cómputo, seguramente se pueda mejorar más."
   ]
  },
  {
   "cell_type": "code",
   "execution_count": 60,
   "id": "bb616a73",
   "metadata": {},
   "outputs": [],
   "source": [
    "# Design the parameters.\n",
    "\n",
    "n_jobs = -1\n",
    "random_state = 12345\n",
    "max_depth = 5\n",
    "verbosity = 0\n",
    "# Create a pipeline that applies a preprocess of the data and then the LogisticRegression model.\n",
    "\n",
    "xgb_model_test = Pipeline([\n",
    "    ('preprocessor', preprocessor),\n",
    "    ('clasificador', XGBClassifier(n_jobs=n_jobs, random_state=random_state, max_depth=max_depth, verbosity=verbosity)\n",
    "    )\n",
    "])\n"
   ]
  },
  {
   "cell_type": "code",
   "execution_count": 62,
   "id": "3dd72232",
   "metadata": {},
   "outputs": [
    {
     "data": {
      "text/plain": [
       "Pipeline(steps=[('preprocessor',\n",
       "                 ColumnTransformer(transformers=[('cat',\n",
       "                                                  Pipeline(steps=[('imputer',\n",
       "                                                                   SimpleImputer(fill_value='unknow',\n",
       "                                                                                 strategy='constant')),\n",
       "                                                                  ('onehot',\n",
       "                                                                   OneHotEncoder(handle_unknown='ignore'))]),\n",
       "                                                  ['type', 'gender', 'device',\n",
       "                                                   'zone', 'security_alert',\n",
       "                                                   'nameDest', 'nameOrig',\n",
       "                                                   'nameDest']),\n",
       "                                                 ('num',\n",
       "                                                  Pipeline(steps=[('scaler',\n",
       "                                                                   StandardScaler())]),\n",
       "                                                  ['step...\n",
       "                               feature_types=None, gamma=0, gpu_id=-1,\n",
       "                               grow_policy='depthwise', importance_type=None,\n",
       "                               interaction_constraints='',\n",
       "                               learning_rate=0.300000012, max_bin=256,\n",
       "                               max_cat_threshold=64, max_cat_to_onehot=4,\n",
       "                               max_delta_step=0, max_depth=5, max_leaves=0,\n",
       "                               min_child_weight=1, missing=nan,\n",
       "                               monotone_constraints='()', n_estimators=100,\n",
       "                               n_jobs=-1, num_parallel_tree=1, predictor='auto',\n",
       "                               random_state=12345, ...))])"
      ]
     },
     "execution_count": 62,
     "metadata": {},
     "output_type": "execute_result"
    }
   ],
   "source": [
    "# Optimization of the xgboost_model with the train set: input and target data. \n",
    "\n",
    "xgb_model_test.fit(x_train_all, y_train_all)"
   ]
  },
  {
   "cell_type": "code",
   "execution_count": 67,
   "id": "70072990",
   "metadata": {},
   "outputs": [],
   "source": [
    "# Save the backup of the XGB optimziation as a pickle file.\n",
    "\n",
    "save_model(xgb_model_test,'../models/xgb_model_test.pickle')"
   ]
  },
  {
   "cell_type": "markdown",
   "id": "0fbb0f39",
   "metadata": {},
   "source": [
    "**Para evitar optimizar de nuevo el modelo, ejecutar a partir de la celda que aparece a continuación.**"
   ]
  },
  {
   "cell_type": "code",
   "execution_count": 68,
   "id": "fdda0fc1",
   "metadata": {},
   "outputs": [],
   "source": [
    "# Load the XGB model already fitted in /models.\n",
    "\n",
    "xgb_model_test = load_model('../models/xgb_model_test.pickle')\n"
   ]
  },
  {
   "cell_type": "markdown",
   "id": "baaae291",
   "metadata": {},
   "source": [
    "# <a name=\"prediccion\"> 6. Predicción del modelo <a> "
   ]
  },
  {
   "cell_type": "code",
   "execution_count": 69,
   "id": "ee59cb99",
   "metadata": {},
   "outputs": [],
   "source": [
    "# Predict the target value of the validation set.\n",
    "\n",
    "predictions = xgb_model_test.predict(x_test)\n",
    "\n",
    "# Predict the probabilities of the target value for the validation set.\n",
    "\n",
    "predict_probabilities = xgb_model_test.predict_proba(x_test)"
   ]
  },
  {
   "cell_type": "markdown",
   "id": "345cb96e",
   "metadata": {},
   "source": [
    "# <a name=\"metricas\"> 7. Evaluación de las métricas del modelo <a> "
   ]
  },
  {
   "cell_type": "markdown",
   "id": "01dead7e",
   "metadata": {},
   "source": [
    "### 7.1. Matriz de confusión"
   ]
  },
  {
   "cell_type": "code",
   "execution_count": 70,
   "id": "f5054cba",
   "metadata": {},
   "outputs": [
    {
     "name": "stdout",
     "output_type": "stream",
     "text": [
      "Confusion matrix, without normalization\n",
      "[[261854      4]\n",
      " [    55    231]]\n",
      "Normalized confusion matrix\n",
      "[[9.99984725e-01 1.52754546e-05]\n",
      " [1.92307692e-01 8.07692308e-01]]\n"
     ]
    },
    {
     "data": {
      "image/png": "[encoded data removed]",
      "text/plain": [
       "<Figure size 640x480 with 2 Axes>"
      ]
     },
     "metadata": {},
     "output_type": "display_data"
    },
    {
     "data": {
      "image/png": "[encoded data removed]",
      "text/plain": [
       "<Figure size 640x480 with 2 Axes>"
      ]
     },
     "metadata": {},
     "output_type": "display_data"
    }
   ],
   "source": [
    "# List with the titles and parameters\n",
    "\n",
    "titles_options = [(\"Confusion matrix, without normalization\", None),\n",
    "                  (\"Normalized confusion matrix\", 'true')]\n",
    "\n",
    "# Plot the confusion matrix\n",
    "\n",
    "for title, normalize in titles_options:\n",
    "    disp = plot_confusion_matrix(xgb_model_test, x_test, y_test,\n",
    "                                 # display_labels=ytest,\n",
    "                                 cmap=plt.cm.Blues,\n",
    "                                 normalize=normalize)\n",
    "    disp.ax_.set_title(title)\n",
    "\n",
    "    print(title)\n",
    "    print(disp.confusion_matrix)\n",
    "\n",
    "plt.show()"
   ]
  },
  {
   "cell_type": "markdown",
   "id": "c37dda05",
   "metadata": {},
   "source": [
    "Sobre el set de test, mantiene unos resultados similares al estudiado en `2.8.XGBoost`, llega a cometer un fallo del 19% y un acierto del 81%, lo consideramos un resultado bueno, aunque no perfecto."
   ]
  },
  {
   "cell_type": "markdown",
   "id": "5cb8e325",
   "metadata": {},
   "source": [
    "### 7.2. Métricas: Accuracy, Recall, Precision, F1 score"
   ]
  },
  {
   "cell_type": "code",
   "execution_count": 56,
   "id": "b5c4ef0e",
   "metadata": {},
   "outputs": [
    {
     "name": "stdout",
     "output_type": "stream",
     "text": [
      "              precision    recall  f1-score   support\n",
      "\n",
      "           0       1.00      1.00      1.00    261858\n",
      "           1       0.98      0.81      0.89       286\n",
      "\n",
      "    accuracy                           1.00    262144\n",
      "   macro avg       0.99      0.90      0.94    262144\n",
      "weighted avg       1.00      1.00      1.00    262144\n",
      "\n",
      "F2 score is 0.8375634517766497\n",
      "Accuracy: 0.9997749328613281\n"
     ]
    }
   ],
   "source": [
    "# Print the general metrics.\n",
    "\n",
    "print(classification_report(y_test, predictions))\n",
    "\n",
    "# Print the F2 score.\n",
    "\n",
    "print('F2 score is ' +str(fbeta_score(y_test, predictions, average='binary', beta=2)))\n",
    "\n",
    "# Model Accuracy\n",
    "\n",
    "print(\"Accuracy:\",metrics.accuracy_score(y_test, predictions))"
   ]
  },
  {
   "cell_type": "markdown",
   "id": "b672b30b",
   "metadata": {},
   "source": [
    "Como vemos el F2 score se comporta muy similar al estudiado sobre el set de train."
   ]
  },
  {
   "cell_type": "markdown",
   "id": "c9ec6fd7",
   "metadata": {},
   "source": [
    "### 7.3. Curva ROC"
   ]
  },
  {
   "cell_type": "code",
   "execution_count": 57,
   "id": "74068b1c",
   "metadata": {},
   "outputs": [
    {
     "data": {
      "image/png": "[encoded data removed]",
      "text/plain": [
       "<Figure size 640x480 with 1 Axes>"
      ]
     },
     "metadata": {},
     "output_type": "display_data"
    },
    {
     "name": "stdout",
     "output_type": "stream",
     "text": [
      "The Compute Area Under the Receiver Operating Characteristic is 0.9966809401369353\n"
     ]
    }
   ],
   "source": [
    "# Keep probabilities for the positive outcome only\n",
    "yhat = predict_probabilities[:, 1]\n",
    "# Calculate roc curves\n",
    "fpr, tpr, thresholds = roc_curve(y_test, yhat)\n",
    "# Plot the roc curve for the model\n",
    "plt.plot([0,1], [0,1], linestyle='--', label='No Skill')\n",
    "plt.plot(fpr, tpr, marker='.', label='Gradient Boosting')\n",
    "# Axis labels\n",
    "plt.xlabel('False Positive Rate')\n",
    "plt.ylabel('True Positive Rate')\n",
    "plt.legend()\n",
    "# Show the plot\n",
    "plt.show()\n",
    "\n",
    "# Display the ROC AUC.\n",
    "\n",
    "print('The Compute Area Under the Receiver Operating Characteristic is '+ str(metrics.roc_auc_score(y_test,yhat)))"
   ]
  },
  {
   "cell_type": "markdown",
   "id": "ea2148da",
   "metadata": {},
   "source": [
    "En cuanto al AUC, es bastante alto con un 99.6% por lo que nuestro modelo es funcional."
   ]
  },
  {
   "cell_type": "markdown",
   "id": "f67948bb",
   "metadata": {},
   "source": [
    "# <a name=\"conclusiones\"> 8. Conclusiones Generales <a> "
   ]
  },
  {
   "cell_type": "markdown",
   "id": "d5132866",
   "metadata": {},
   "source": [
    "**- Para la elección del modelo nos hemos basado principalmente en el score F2, seguido del AUC, dado el gran desbalanceo que tiene nuestro dataset.**\n",
    "\n",
    "**- El modelo que mejor se ha comportado basandonos en las métricas ha sido el XGBoost.**\n",
    "\n",
    "**- Durante la realización de optimización hemos conseguido mejorarlo un punto más, sin embargo, contando con mayor tiempo de computación e introduciendo más parametros, estamos seguros de que podría mejorar considerablemente.**\n",
    "\n",
    "**- Los resultados del modelo optimizado para el set de train han sido los esperados. Han sido muy similares a los de validación, por lo que descartamos que haya habido overfitting y declaramos el modelo como funcional.**"
   ]
  },
  {
   "cell_type": "markdown",
   "id": "7d2cf195",
   "metadata": {},
   "source": [
    "[Ir arriba del documento](#top)"
   ]
  }
 ],
 "metadata": {
  "kernelspec": {
   "display_name": "machine_learning_anton",
   "language": "python",
   "name": "machine_learning_anton"
  },
  "language_info": {
   "codemirror_mode": {
    "name": "ipython",
    "version": 3
   },
   "file_extension": ".py",
   "mimetype": "text/x-python",
   "name": "python",
   "nbconvert_exporter": "python",
   "pygments_lexer": "ipython3",
   "version": "3.9.15"
  }
 },
 "nbformat": 4,
 "nbformat_minor": 5
}
