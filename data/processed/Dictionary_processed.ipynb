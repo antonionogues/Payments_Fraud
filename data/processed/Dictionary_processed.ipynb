{
 "cells": [
  {
   "cell_type": "markdown",
   "id": "994c66a6",
   "metadata": {},
   "source": [
    "<h1>Data Dictionary</h1>\n",
    "\n",
    "<p>Payments Fraud Practice<br />\n",
    "<strong>Aprendizaje Autom&aacute;tico</strong><br />\n",
    "<strong>Master Universitario en Ciencia de Datos</strong></p>\n",
    "\n",
    "<p>&nbsp;</p>\n",
    "\n",
    "<p style=\"text-align:right\">V&iacute;ctor Viloria V&aacute;zquez (<em>victor.viloria@cunef.edu</em>)</p>"
   ]
  },
  {
   "cell_type": "markdown",
   "id": "6fe56014",
   "metadata": {},
   "source": [
    "<hr style=\"border:1px solid gray\">"
   ]
  },
  {
   "cell_type": "markdown",
   "id": "6e530a9e",
   "metadata": {},
   "source": [
    "Este documento pretende aportar información descriptiva del contenido y forma del dataset utilizado en la segunda práctica de la asignatura de Machine Learning, la cual consiste en la de un modelo predictor del  dataset **Payments Fraud Practice**."
   ]
  },
  {
   "cell_type": "markdown",
   "id": "8fbae899",
   "metadata": {},
   "source": [
    "Este dataset incorpora informacion relativa a diferentes clientes de una empresa financiera, exactamente un número de **19 variables**.\n",
    "\n",
    "**Nos disponemos a describir cada una de las variables que posee el dataset, su\n",
    "significado, posibles valores que puede tomar y otros aspectos técnicos relevantes para el\n",
    "manejo y que permitan la elaboración de modelos.**."
   ]
  },
  {
   "cell_type": "markdown",
   "id": "716c65c3",
   "metadata": {},
   "source": [
    "## Diccionario de datos"
   ]
  },
  {
   "cell_type": "markdown",
   "id": "d941a8bf",
   "metadata": {},
   "source": [
    "| **Field Name** \t| **Description** \t| **Variable Type** \t| **Data Type** \t| **Value** \t|\n",
    "|:---:|:---\t|---\t|---\t|:---\t|\n",
    "| step \t| Unity of time (hours) \t| Numerical \t| _int64_ \t| Values between [1 – 95] \t|\n",
    "| type \t| Typer of transfer \t| Categorical \t| _object_ \t| - PAYMENT<br>- TRANSFER<br>- CASH_OUT<br>- DEBIT<br>- CASH_IN \t|\n",
    "| amount \t| Quantity of amount tranferred \t| Numerical \t| _float64_ \t| Values between [0.1 -10000000] \t|\n",
    "| gender \t| Gender of the client (Informed by himself) \t| Categorical \t| _object_ \t| - man<br>- woman<br>- unknow \t|\n",
    "| device \t| Type of device where the client did the transaction \t| Categorical \t| _object_ \t| - mac<br>- pc<br>- iphone \t|\n",
    "| connection \t| Time that the data takes to arrive from de entry connection \t| Numerical \t| _object_ \t| Values between [0 – 1] \t|\n",
    "| nameOrig \t| Identifier of the client which did the transaction \t| Categorical \t| _object_ \t| - Cxxxxxxxxx \t|\n",
    "| race \t| Client's race \t| Categorical \t| _object_ \t| - black<br>- asian<br>- latin \t|\n",
    "| oldbalanceOrg \t| Balance before the transaction \t| Numerical \t| _float64_ \t| Values between [0 – 38939424.03] \t|\n",
    "| age \t| Estimated Age \t| Numerical \t| _int64_ \t| Values between [5 – 100] \t|\n",
    "| newbalanceOrig \t| Balance after the transaction \t| Numerical \t| _float64_ \t| Values between [0 –38946233.02] \t|\n",
    "| nameDest \t| Receptor's name of the transaction (anonymized) \t| Categorical \t| _object_ \t| - Cxxxxxxxxx<br>- Mxxxxxxxxx \t|\n",
    "| user_connections \t| Connections of the same user during the day \t| Numerical \t| _int64_ \t| Values between [1 – 10] \t|\n",
    "| security_alert \t| Label that shows if an alert pop up when transaction was done \t| Categorical \t| _int64_ \t| 0: Alert wasn't executed<br> 1: Alert was executed\t|\n",
    "| oldbalanceDest \t| Balance of the receiver before the transaction \t| Numerical \t| _float64_ \t| Values between [0 – 42054659.73] \t|\n",
    "| newbalanceDest \t| Balance of the receiver after the transaction \t| Numerical \t| _float64_ \t| Values between [0 –42169156.09] \t|\n",
    "| zone \t| Origin place where the transaction was launched \t| Categorical \t| _object_ \t| - capital<br>- country<br>- africa \t|\n",
    "| user_number \t| Number of recurrent users at the moment the transaction was done \t| Numerical \t| _int64_ \t| Values between [59 – 5000] \t|\n",
    "| **isFraud** \t| **TARGET: Label that detects if a fraud was done or not** \t| Categorical \t| _int64_ \t| 0: Not a Fraudulent transaction<br>1: Fraudulent transacion \t|"
   ]
  }
 ],
 "metadata": {
  "kernelspec": {
   "display_name": "machine_learning_anton",
   "language": "python",
   "name": "machine_learning_anton"
  },
  "language_info": {
   "codemirror_mode": {
    "name": "ipython",
    "version": 3
   },
   "file_extension": ".py",
   "mimetype": "text/x-python",
   "name": "python",
   "nbconvert_exporter": "python",
   "pygments_lexer": "ipython3",
   "version": "3.9.15"
  },
  "vscode": {
   "interpreter": {
    "hash": "c396b6e60b559c3770b979a8b09e4cb6b0e38128d4ceb8fcd57358d159eb9aad"
   }
  }
 },
 "nbformat": 4,
 "nbformat_minor": 5
}
